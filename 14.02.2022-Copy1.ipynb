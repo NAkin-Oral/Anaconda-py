{
 "cells": [
  {
   "cell_type": "code",
   "execution_count": 2,
   "id": "514a8099",
   "metadata": {},
   "outputs": [
    {
     "name": "stdout",
     "output_type": "stream",
     "text": [
      "Ali 11 yaşındadır\n"
     ]
    }
   ],
   "source": [
    "def func(x = \"Ali\", y = 11):\n",
    "    print (x, y, \"yaşındadır\")\n",
    "func()"
   ]
  },
  {
   "cell_type": "code",
   "execution_count": 3,
   "id": "5fcf20c3",
   "metadata": {},
   "outputs": [
    {
     "name": "stdout",
     "output_type": "stream",
     "text": [
      "Nao 24 yaşındadır\n"
     ]
    }
   ],
   "source": [
    "func(y = 24, x = \"Nao\")"
   ]
  },
  {
   "cell_type": "code",
   "execution_count": 4,
   "id": "f27ec2a7",
   "metadata": {},
   "outputs": [
    {
     "name": "stdout",
     "output_type": "stream",
     "text": [
      "Umut 10 yaşındadır\n"
     ]
    }
   ],
   "source": [
    "func(\"Umut\", 10)"
   ]
  },
  {
   "cell_type": "code",
   "execution_count": 5,
   "id": "386b08c2",
   "metadata": {},
   "outputs": [
    {
     "name": "stdout",
     "output_type": "stream",
     "text": [
      "Kaan 11 yaşındadır\n"
     ]
    }
   ],
   "source": [
    "func(\"Kaan\")"
   ]
  },
  {
   "cell_type": "code",
   "execution_count": 6,
   "id": "5cf3ee23",
   "metadata": {},
   "outputs": [],
   "source": [
    "def parrot(voltage, state='a stiff', action='voom', type='Norwegian Blue'):\n",
    "    print(\"-- This parrot wouldn't\", action, end=' ')\n",
    "    print(\"if you put\", voltage, \"volts through it.\")\n",
    "    print(\"-- Lovely plumage, the\", type)\n",
    "    print(\"-- It's\", state, \"!\")"
   ]
  },
  {
   "cell_type": "code",
   "execution_count": 7,
   "id": "c3a64d0e",
   "metadata": {},
   "outputs": [
    {
     "name": "stdout",
     "output_type": "stream",
     "text": [
      "-- This parrot wouldn't voom if you put 1000 volts through it.\n",
      "-- Lovely plumage, the Norwegian Blue\n",
      "-- It's a stiff !\n"
     ]
    }
   ],
   "source": [
    "parrot(1000)"
   ]
  },
  {
   "cell_type": "code",
   "execution_count": 8,
   "id": "cc96cf80",
   "metadata": {},
   "outputs": [
    {
     "name": "stdout",
     "output_type": "stream",
     "text": [
      "-- This parrot wouldn't VOOOOOOM if you put 100000 volts through it.\n",
      "-- Lovely plumage, the Norwegian Blue\n",
      "-- It's a stiff !\n"
     ]
    }
   ],
   "source": [
    "parrot(voltage = 100000, action = \"VOOOOOOM\")"
   ]
  },
  {
   "cell_type": "code",
   "execution_count": 9,
   "id": "4facc710",
   "metadata": {},
   "outputs": [
    {
     "name": "stdout",
     "output_type": "stream",
     "text": [
      "-- This parrot wouldn't VOOOOOOM if you put 100000 volts through it.\n",
      "-- Lovely plumage, the Norwegian Blue\n",
      "-- It's a stiff !\n"
     ]
    }
   ],
   "source": [
    "parrot(action = \"VOOOOOOM\", voltage = 100000 )"
   ]
  },
  {
   "cell_type": "code",
   "execution_count": 10,
   "id": "b29c8b73",
   "metadata": {},
   "outputs": [
    {
     "name": "stdout",
     "output_type": "stream",
     "text": [
      "-- This parrot wouldn't Jump if you put a Millium volts through it.\n",
      "-- Lovely plumage, the Norwegian Blue\n",
      "-- It's Bereft of life !\n"
     ]
    }
   ],
   "source": [
    "parrot ( \"a Millium\", \"Bereft of life\", \"Jump\")"
   ]
  },
  {
   "cell_type": "code",
   "execution_count": 11,
   "id": "5cbd7a2a",
   "metadata": {},
   "outputs": [
    {
     "name": "stdout",
     "output_type": "stream",
     "text": [
      "-- This parrot wouldn't voom if you put a thousand volts through it.\n",
      "-- Lovely plumage, the Norwegian Blue\n",
      "-- It's pushing up the daisies !\n"
     ]
    }
   ],
   "source": [
    "parrot (\"a thousand\", state = \"pushing up the daisies\")"
   ]
  },
  {
   "cell_type": "code",
   "execution_count": 12,
   "id": "96f22d3d",
   "metadata": {},
   "outputs": [
    {
     "name": "stdout",
     "output_type": "stream",
     "text": [
      "Athena is in Europe\n"
     ]
    }
   ],
   "source": [
    "def city (capital, continent = \"Europe\"):\n",
    "    print(capital, \"is in\", continent)\n",
    "city (\"Athena\")"
   ]
  },
  {
   "cell_type": "code",
   "execution_count": 13,
   "id": "a61f9290",
   "metadata": {},
   "outputs": [
    {
     "name": "stdout",
     "output_type": "stream",
     "text": [
      "I want to get: \n",
      "- orange\n",
      "- banana\n",
      "- melon\n",
      "- ananas\n"
     ]
    }
   ],
   "source": [
    "def fruiterer(*fruit):\n",
    "    print (\"I want to get: \")\n",
    "    for i in fruit :\n",
    "        print(\"-\", i)\n",
    "    \n",
    "fruiterer(\"orange\", \"banana\", \"melon\",\"ananas\")"
   ]
  },
  {
   "cell_type": "code",
   "execution_count": 14,
   "id": "4d05615e",
   "metadata": {},
   "outputs": [
    {
     "name": "stdout",
     "output_type": "stream",
     "text": [
      "Even list: [2, 4, 6, 8]\n",
      "Odd list: [1, 3, 5, 7, 9]\n"
     ]
    }
   ],
   "source": [
    "def silecer(*numbers,):\n",
    "    evens = []\n",
    "    odds = []\n",
    "    for i in numbers:\n",
    "        if i % 2 == 0 :\n",
    "            evens.append(i)\n",
    "        else:\n",
    "            odds.append(i)\n",
    "    print (\"Even list:\",evens)\n",
    "    print (\"Odd list:\",odds)\n",
    "silecer(1, 2, 3, 4, 5, 6, 7, 8, 9)"
   ]
  },
  {
   "cell_type": "code",
   "execution_count": 16,
   "id": "1dbf0e76",
   "metadata": {},
   "outputs": [
    {
     "name": "stdout",
     "output_type": "stream",
     "text": [
      "Lions are Carnivores\n",
      "Bears are Omnivores\n",
      "Deers are Herbivores\n",
      "Human are Nomnivorse\n"
     ]
    }
   ],
   "source": [
    "def animals (**kwargs):\n",
    "    for key, value in kwargs.items():\n",
    "        print(value, \"are\", key)\n",
    "animals(Carnivores = \"Lions\", Omnivores = \"Bears\", Herbivores = \"Deers\", Nomnivorse = \"Human\")"
   ]
  },
  {
   "cell_type": "code",
   "execution_count": 22,
   "id": "12c1462f",
   "metadata": {},
   "outputs": [
    {
     "name": "stdout",
     "output_type": "stream",
     "text": [
      "['Beth', 'Oscar', 'Justin', 'Frank']\n",
      "['26', '42', '18', '33']\n"
     ]
    }
   ],
   "source": [
    "def organizer(**kwargs):\n",
    "    names = []\n",
    "    ages = []\n",
    "    for key,value in kwargs.items():\n",
    "        names.append(key)\n",
    "        ages.append(value)\n",
    "    print (names)\n",
    "    print (ages)\n",
    "organizer(Beth = \"26\", Oscar = \"42\", Justin = \"18\", Frank = \"33\")"
   ]
  },
  {
   "cell_type": "code",
   "execution_count": 27,
   "id": "8dbdb11c",
   "metadata": {},
   "outputs": [
    {
     "name": "stdout",
     "output_type": "stream",
     "text": [
      "Enter the number of the sequence of fibonacci8\n",
      "[1, 1, 2, 3, 5, 8, 13, 21]\n"
     ]
    }
   ],
   "source": [
    "fibo = [1, 1]\n",
    "n = int(input(\"Enter the number of the sequence of fibonacci\"))\n",
    "for i in range(n-2) :\n",
    "    fibo.append(fibo[i]+ fibo[i+1])\n",
    "print(fibo)"
   ]
  },
  {
   "cell_type": "code",
   "execution_count": 42,
   "id": "3dca2855",
   "metadata": {},
   "outputs": [
    {
     "name": "stdout",
     "output_type": "stream",
     "text": [
      "Enter the sentence you want to delete the vowels: You are my friend\n",
      "[]\n"
     ]
    }
   ],
   "source": [
    "sentence = input(\"Enter the sentence you want to delete the vowels: \")\n",
    "sentence = sentence.lower()\n",
    "def vovels(letter):\n",
    "    vovels = \"a, e, ı, i, o, ö, u, ü\".split()\n",
    "    if letter.lower() in vovels:\n",
    "        return True\n",
    "    else:\n",
    "        return False\n",
    "filtered_vovels = filter(vovels,sentence)\n",
    "print(list(filtered_vovels))"
   ]
  },
  {
   "cell_type": "code",
   "execution_count": null,
   "id": "d0ab71cc",
   "metadata": {},
   "outputs": [],
   "source": []
  }
 ],
 "metadata": {
  "kernelspec": {
   "display_name": "Python 3 (ipykernel)",
   "language": "python",
   "name": "python3"
  },
  "language_info": {
   "codemirror_mode": {
    "name": "ipython",
    "version": 3
   },
   "file_extension": ".py",
   "mimetype": "text/x-python",
   "name": "python",
   "nbconvert_exporter": "python",
   "pygments_lexer": "ipython3",
   "version": "3.9.7"
  }
 },
 "nbformat": 4,
 "nbformat_minor": 5
}
