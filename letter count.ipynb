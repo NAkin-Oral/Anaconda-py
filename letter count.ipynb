{
 "cells": [
  {
   "cell_type": "code",
   "execution_count": 1,
   "metadata": {},
   "outputs": [
    {
     "name": "stdout",
     "output_type": "stream",
     "text": [
      "h : 1 | i : 1 | p : 2 | p : 2 | o : 2 |   : 3 | r : 1 | u : 2 | n : 1 | s : 2 |   : 3 | t : 1 | o : 2 |   : 3 | u : 2 | s : 2 | ! : 1 |\n"
     ]
    }
   ],
   "source": [
    "x = input(\"Enter a sentence or a word: \")\n",
    "letters = []\n",
    "y = []\n",
    "z = []\n",
    "\n",
    "for i in x:\n",
    "    letters.append(i)\n",
    "#print(letters)\n",
    "\n",
    "for j in letters:\n",
    "    y.append(j)\n",
    "    y.append(\":\")\n",
    "    y.append(str(letters.count(j)))\n",
    "    y.append(\"|\")\n",
    "\n",
    "print(*y)\n",
    "#print(\"\".join(y))"
   ]
  },
  {
   "cell_type": "code",
   "execution_count": null,
   "metadata": {},
   "outputs": [],
   "source": []
  }
 ],
 "metadata": {
  "interpreter": {
   "hash": "82923e246ea3cb67d4763ae1ed5ec5ec4b0e04faade6f617b424f0c69a83a983"
  },
  "kernelspec": {
   "display_name": "Python 3.10.2 64-bit",
   "language": "python",
   "name": "python3"
  },
  "language_info": {
   "codemirror_mode": {
    "name": "ipython",
    "version": 3
   },
   "file_extension": ".py",
   "mimetype": "text/x-python",
   "name": "python",
   "nbconvert_exporter": "python",
   "pygments_lexer": "ipython3",
   "version": "3.10.2"
  },
  "orig_nbformat": 4
 },
 "nbformat": 4,
 "nbformat_minor": 2
}
