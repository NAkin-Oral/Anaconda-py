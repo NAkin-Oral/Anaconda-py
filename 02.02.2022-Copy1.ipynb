{
 "cells": [
  {
   "cell_type": "code",
   "execution_count": 2,
   "id": "25dd48d1",
   "metadata": {},
   "outputs": [
    {
     "name": "stdout",
     "output_type": "stream",
     "text": [
      "Counter({3: 4, 1: 1, 7: 1, 4: 1, 0: 1, 6: 1})\n",
      "[(3, 4), (1, 1), (7, 1), (4, 1), (0, 1), (6, 1)]\n",
      "the most frequent number is 3 and it was 4 times repeated\n"
     ]
    }
   ],
   "source": [
    "import collections\n",
    "numbers = [1, 3, 7, 4, 3, 0, 3, 6, 3] #\tthe most frequent number is 3 and it was 4 times repeated\n",
    "counter=collections.Counter(numbers)\n",
    "a = counter.most_common()\n",
    "print(counter)\n",
    "print(a)\n",
    "print(\"the most frequent number is {} and it was {} times repeated\".format(a[0][0], a[0][1]))"
   ]
  },
  {
   "cell_type": "code",
   "execution_count": 8,
   "id": "216c98f2",
   "metadata": {},
   "outputs": [
    {
     "name": "stdout",
     "output_type": "stream",
     "text": [
      "3\n"
     ]
    },
    {
     "ename": "AttributeError",
     "evalue": "'int' object has no attribute 'most_common'",
     "output_type": "error",
     "traceback": [
      "\u001b[1;31m---------------------------------------------------------------------------\u001b[0m",
      "\u001b[1;31mAttributeError\u001b[0m                            Traceback (most recent call last)",
      "\u001b[1;32m~\\AppData\\Local\\Temp/ipykernel_3568/348192697.py\u001b[0m in \u001b[0;36m<module>\u001b[1;34m\u001b[0m\n\u001b[0;32m      2\u001b[0m \u001b[0mcou\u001b[0m \u001b[1;33m=\u001b[0m \u001b[0mmax\u001b[0m\u001b[1;33m(\u001b[0m\u001b[0mnumbers\u001b[0m\u001b[1;33m,\u001b[0m\u001b[0mkey\u001b[0m \u001b[1;33m=\u001b[0m \u001b[0mnumbers\u001b[0m\u001b[1;33m.\u001b[0m\u001b[0mcount\u001b[0m\u001b[1;33m)\u001b[0m\u001b[1;33m\u001b[0m\u001b[1;33m\u001b[0m\u001b[0m\n\u001b[0;32m      3\u001b[0m \u001b[0mprint\u001b[0m\u001b[1;33m(\u001b[0m\u001b[0mcou\u001b[0m\u001b[1;33m)\u001b[0m\u001b[1;33m\u001b[0m\u001b[1;33m\u001b[0m\u001b[0m\n\u001b[1;32m----> 4\u001b[1;33m \u001b[0mrepeat\u001b[0m \u001b[1;33m=\u001b[0m \u001b[0mcou\u001b[0m\u001b[1;33m.\u001b[0m\u001b[0mmost_common\u001b[0m\u001b[1;33m(\u001b[0m\u001b[1;33m)\u001b[0m\u001b[1;33m\u001b[0m\u001b[1;33m\u001b[0m\u001b[0m\n\u001b[0m\u001b[0;32m      5\u001b[0m \u001b[0mprint\u001b[0m\u001b[1;33m(\u001b[0m\u001b[0mrepeat\u001b[0m\u001b[1;33m)\u001b[0m\u001b[1;33m\u001b[0m\u001b[1;33m\u001b[0m\u001b[0m\n",
      "\u001b[1;31mAttributeError\u001b[0m: 'int' object has no attribute 'most_common'"
     ]
    }
   ],
   "source": [
    "numbers = [1, 3, 7, 4, 3, 0, 3, 6, 3] #\tthe most frequent number is 3 and it was 4 times repeated\n",
    "cou = max(numbers,key = numbers.count)\n",
    "print(cou)"
   ]
  },
  {
   "cell_type": "code",
   "execution_count": 9,
   "id": "0cd93f62",
   "metadata": {},
   "outputs": [
    {
     "name": "stdout",
     "output_type": "stream",
     "text": [
      "[1, 3, 5, 7, 9]\n"
     ]
    }
   ],
   "source": [
    "list_numbers = [1,2,3,4,5,6,7,8,9,10]\n",
    "print (list_numbers [::2])"
   ]
  },
  {
   "cell_type": "code",
   "execution_count": 13,
   "id": "fd2378a1",
   "metadata": {},
   "outputs": [
    {
     "name": "stdout",
     "output_type": "stream",
     "text": [
      "[1, 3, 5, 7, 9]\n"
     ]
    }
   ],
   "source": [
    "x = list(range(10,0,-1))\n",
    "print (x [::-2])"
   ]
  },
  {
   "cell_type": "code",
   "execution_count": 15,
   "id": "fc3941b2",
   "metadata": {},
   "outputs": [
    {
     "name": "stdout",
     "output_type": "stream",
     "text": [
      "['one', 'two', 'three']\n"
     ]
    }
   ],
   "source": [
    "mix_list = [1,[1, \"one\", 2, \"two\", 3, \"three\"],4]\n",
    "print(mix_list[1][1: :2])"
   ]
  },
  {
   "cell_type": "code",
   "execution_count": 17,
   "id": "a72e17fa",
   "metadata": {},
   "outputs": [
    {
     "name": "stdout",
     "output_type": "stream",
     "text": [
      "[1, 2, 3, 4, 5, 6, 7, 8, 9, 10]\n"
     ]
    }
   ],
   "source": [
    "liste = list(range(1,11))\n",
    "print(liste)"
   ]
  },
  {
   "cell_type": "code",
   "execution_count": 19,
   "id": "8e6df4ad",
   "metadata": {},
   "outputs": [
    {
     "data": {
      "text/plain": [
       "('h', 'a', 'p', 'p', 'y')"
      ]
     },
     "execution_count": 19,
     "metadata": {},
     "output_type": "execute_result"
    }
   ],
   "source": [
    "x = \"happy\"\n",
    "tp = tuple(x)\n",
    "tp"
   ]
  },
  {
   "cell_type": "code",
   "execution_count": 20,
   "id": "3cc01dc3",
   "metadata": {},
   "outputs": [
    {
     "name": "stdout",
     "output_type": "stream",
     "text": [
      "('h', 'a', 'p', 'p', 'y')\n",
      "<class 'tuple'>\n"
     ]
    }
   ],
   "source": [
    "print(tp, type(tp),sep=\"\\n\")"
   ]
  },
  {
   "cell_type": "code",
   "execution_count": 21,
   "id": "aaa0ceb6",
   "metadata": {},
   "outputs": [],
   "source": [
    "x = 1,2,3"
   ]
  },
  {
   "cell_type": "code",
   "execution_count": 22,
   "id": "0ddd7174",
   "metadata": {},
   "outputs": [
    {
     "data": {
      "text/plain": [
       "(1, 2, 3)"
      ]
     },
     "execution_count": 22,
     "metadata": {},
     "output_type": "execute_result"
    }
   ],
   "source": [
    "x"
   ]
  },
  {
   "cell_type": "code",
   "execution_count": 23,
   "id": "d674458c",
   "metadata": {},
   "outputs": [
    {
     "data": {
      "text/plain": [
       "('Solar',)"
      ]
     },
     "execution_count": 23,
     "metadata": {},
     "output_type": "execute_result"
    }
   ],
   "source": [
    "tuple([\"Solar\"])"
   ]
  },
  {
   "cell_type": "code",
   "execution_count": null,
   "id": "4fb8879f",
   "metadata": {},
   "outputs": [],
   "source": []
  }
 ],
 "metadata": {
  "kernelspec": {
   "display_name": "Python 3 (ipykernel)",
   "language": "python",
   "name": "python3"
  },
  "language_info": {
   "codemirror_mode": {
    "name": "ipython",
    "version": 3
   },
   "file_extension": ".py",
   "mimetype": "text/x-python",
   "name": "python",
   "nbconvert_exporter": "python",
   "pygments_lexer": "ipython3",
   "version": "3.9.7"
  }
 },
 "nbformat": 4,
 "nbformat_minor": 5
}
