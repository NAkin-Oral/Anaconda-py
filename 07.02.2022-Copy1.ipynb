{
 "cells": [
  {
   "cell_type": "code",
   "execution_count": 1,
   "id": "23e1df0a",
   "metadata": {},
   "outputs": [
    {
     "data": {
      "text/plain": [
       "('11', 11, [2, 'two', ('six', 6)], (5, 'fair'))"
      ]
     },
     "execution_count": 1,
     "metadata": {},
     "output_type": "execute_result"
    }
   ],
   "source": [
    "mix_tupple = (\"11\", 11, [2, \"two\", (\"six\", 6)], (5, \"fair\"))\n",
    "mix_tupple"
   ]
  },
  {
   "cell_type": "code",
   "execution_count": 4,
   "id": "83b9cb96",
   "metadata": {},
   "outputs": [
    {
     "data": {
      "text/plain": [
       "list"
      ]
     },
     "execution_count": 4,
     "metadata": {},
     "output_type": "execute_result"
    }
   ],
   "source": [
    "type(mix_tupple [2])"
   ]
  },
  {
   "cell_type": "code",
   "execution_count": 5,
   "id": "ec144605",
   "metadata": {},
   "outputs": [
    {
     "data": {
      "text/plain": [
       "tuple"
      ]
     },
     "execution_count": 5,
     "metadata": {},
     "output_type": "execute_result"
    }
   ],
   "source": [
    "type(mix_tupple [3])"
   ]
  },
  {
   "cell_type": "code",
   "execution_count": 6,
   "id": "e9908ed2",
   "metadata": {},
   "outputs": [
    {
     "data": {
      "text/plain": [
       "('11', 11, [2, 'two', ('six', 6), False], (5, 'fair'))"
      ]
     },
     "execution_count": 6,
     "metadata": {},
     "output_type": "execute_result"
    }
   ],
   "source": [
    "mix_tupple [2].append(False)\n",
    "mix_tupple"
   ]
  },
  {
   "cell_type": "code",
   "execution_count": 7,
   "id": "54dfb79c",
   "metadata": {},
   "outputs": [
    {
     "data": {
      "text/plain": [
       "'SIX'"
      ]
     },
     "execution_count": 7,
     "metadata": {},
     "output_type": "execute_result"
    }
   ],
   "source": [
    "mix_tupple[2][2][0].upper()"
   ]
  },
  {
   "cell_type": "code",
   "execution_count": 8,
   "id": "0904c712",
   "metadata": {},
   "outputs": [
    {
     "data": {
      "text/plain": [
       "'TWO'"
      ]
     },
     "execution_count": 8,
     "metadata": {},
     "output_type": "execute_result"
    }
   ],
   "source": [
    "mix_tupple[2][1].upper()"
   ]
  },
  {
   "cell_type": "code",
   "execution_count": 9,
   "id": "358e8d3a",
   "metadata": {},
   "outputs": [
    {
     "name": "stdout",
     "output_type": "stream",
     "text": [
      "['two', ('six', 6)]\n",
      "<class 'list'>\n"
     ]
    }
   ],
   "source": [
    "mix_tupple = (\"11\", 11, [2, \"two\", (\"six\", 6)], (5, \"fair\"))\n",
    "str_six = mix_tupple[2][1:3]\n",
    "print(str_six, type(str_six),sep = \"\\n\")"
   ]
  },
  {
   "cell_type": "code",
   "execution_count": 10,
   "id": "26583ff9",
   "metadata": {},
   "outputs": [],
   "source": [
    "mix_tupple = (\"11\", 11, [2, \"two\", (\"six\", 6)], (5, \"fair\"))"
   ]
  },
  {
   "cell_type": "code",
   "execution_count": 14,
   "id": "05d4865c",
   "metadata": {},
   "outputs": [],
   "source": [
    "first_dict = {1:\"one\", \"two\":2, False:[1,2,3], 1.5:(\"one\",\"two\"),(1,2):\"clarusway\"}"
   ]
  },
  {
   "cell_type": "code",
   "execution_count": 15,
   "id": "3adcb50b",
   "metadata": {},
   "outputs": [
    {
     "data": {
      "text/plain": [
       "{1: 'one',\n",
       " 'two': 2,\n",
       " False: [1, 2, 3],\n",
       " 1.5: ('one', 'two'),\n",
       " (1, 2): 'clarusway'}"
      ]
     },
     "execution_count": 15,
     "metadata": {},
     "output_type": "execute_result"
    }
   ],
   "source": [
    "first_dict"
   ]
  },
  {
   "cell_type": "code",
   "execution_count": 18,
   "id": "8433ca1b",
   "metadata": {},
   "outputs": [],
   "source": [
    "family = {\"name1\":\"Bülent\", \"name2\":\"Kevser\", \"name3\":\"Fuat\", \"name4\":\"Umut\"}"
   ]
  },
  {
   "cell_type": "code",
   "execution_count": 19,
   "id": "ff37fbba",
   "metadata": {},
   "outputs": [
    {
     "data": {
      "text/plain": [
       "{'name1': 'Bülent',\n",
       " 'name2': 'Kevser',\n",
       " 'name3': 'Fuat',\n",
       " 'name4': 'Umut',\n",
       " 'name5': 'Akın'}"
      ]
     },
     "execution_count": 19,
     "metadata": {},
     "output_type": "execute_result"
    }
   ],
   "source": [
    "family[\"name5\"] = \"Akın\"\n",
    "family"
   ]
  },
  {
   "cell_type": "code",
   "execution_count": 21,
   "id": "25758909",
   "metadata": {},
   "outputs": [
    {
     "data": {
      "text/plain": [
       "{'animal': 'dog',\n",
       " 'planet': 'neptun',\n",
       " 'number': 40,\n",
       " 'pi': 3.14,\n",
       " 'is_good': True}"
      ]
     },
     "execution_count": 21,
     "metadata": {},
     "output_type": "execute_result"
    }
   ],
   "source": [
    "dict_by_dict = dict(animal='dog', planet='neptun', number=40, pi=3.14, is_good=True)\n",
    "dict_by_dict"
   ]
  },
  {
   "cell_type": "code",
   "execution_count": 22,
   "id": "4cae6115",
   "metadata": {},
   "outputs": [
    {
     "data": {
      "text/plain": [
       "'dog'"
      ]
     },
     "execution_count": 22,
     "metadata": {},
     "output_type": "execute_result"
    }
   ],
   "source": [
    "dict_by_dict[\"\"\"animal\"\"\"]"
   ]
  },
  {
   "cell_type": "code",
   "execution_count": 23,
   "id": "64b251b9",
   "metadata": {},
   "outputs": [
    {
     "ename": "SyntaxError",
     "evalue": "expression cannot contain assignment, perhaps you meant \"==\"? (Temp/ipykernel_892/3879937960.py, line 1)",
     "output_type": "error",
     "traceback": [
      "\u001b[1;36m  File \u001b[1;32m\"C:\\Users\\nuret\\AppData\\Local\\Temp/ipykernel_892/3879937960.py\"\u001b[1;36m, line \u001b[1;32m1\u001b[0m\n\u001b[1;33m    family = dict(\"name1\" = \"Bülent\", \"name2\" = \"Kevser\", \"name3\" = \"Akın\", \"name4\" = \"Fuat\", \"name5\" = \"Umut\" )\u001b[0m\n\u001b[1;37m                  ^\u001b[0m\n\u001b[1;31mSyntaxError\u001b[0m\u001b[1;31m:\u001b[0m expression cannot contain assignment, perhaps you meant \"==\"?\n"
     ]
    }
   ],
   "source": [
    "family = dict(\"name1\" = \"Bülent\", \"name2\" = \"Kevser\", \"name3\" = \"Akın\", \"name4\" = \"Fuat\", \"name5\" = \"Umut\" )"
   ]
  },
  {
   "cell_type": "code",
   "execution_count": 24,
   "id": "5d173feb",
   "metadata": {},
   "outputs": [],
   "source": [
    "family = dict(name1 = \"Bülent\", name2 = \"Kevser\", name3 = \"Akın\", name4 = \"Fuat\", name5 = \"Umut\" )"
   ]
  },
  {
   "cell_type": "code",
   "execution_count": 25,
   "id": "3f4e7566",
   "metadata": {},
   "outputs": [
    {
     "data": {
      "text/plain": [
       "{'name1': 'Bülent',\n",
       " 'name2': 'Kevser',\n",
       " 'name3': 'Akın',\n",
       " 'name4': 'Fuat',\n",
       " 'name5': 'Umut'}"
      ]
     },
     "execution_count": 25,
     "metadata": {},
     "output_type": "execute_result"
    }
   ],
   "source": [
    "family"
   ]
  },
  {
   "cell_type": "code",
   "execution_count": 27,
   "id": "ec46ae9a",
   "metadata": {},
   "outputs": [
    {
     "data": {
      "text/plain": [
       "['Napoli', 'W', 'a', 's', 'h', 'i', 'n', 'g', 't', 'o', 'n']"
      ]
     },
     "execution_count": 27,
     "metadata": {},
     "output_type": "execute_result"
    }
   ],
   "source": [
    "cities = [\"Napoli\", \"Ankara\", \"Dortmund\"]\n",
    "cities[1:] = (\"Washington\")\n",
    "cities"
   ]
  },
  {
   "cell_type": "code",
   "execution_count": 29,
   "id": "57170bdc",
   "metadata": {},
   "outputs": [
    {
     "name": "stdout",
     "output_type": "stream",
     "text": [
      "dict_items([('animal', 'dog'), ('planet', 'neptun'), ('number', 40), ('pi', 3.14), ('is_good', True)]) \n",
      "\n",
      "dict_keys(['animal', 'planet', 'number', 'pi', 'is_good']) \n",
      "\n",
      "dict_values(['dog', 'neptun', 40, 3.14, True])\n"
     ]
    }
   ],
   "source": [
    "dict_by_dict = dict(animal='dog', planet='neptun', number=40, pi=3.14, is_good=True)\n",
    "print(dict_by_dict.items(),'\\n')\n",
    "print(dict_by_dict.keys(),'\\n')\n",
    "print(dict_by_dict.values())"
   ]
  },
  {
   "cell_type": "code",
   "execution_count": null,
   "id": "10c5dc95",
   "metadata": {},
   "outputs": [],
   "source": []
  }
 ],
 "metadata": {
  "kernelspec": {
   "display_name": "Python 3 (ipykernel)",
   "language": "python",
   "name": "python3"
  },
  "language_info": {
   "codemirror_mode": {
    "name": "ipython",
    "version": 3
   },
   "file_extension": ".py",
   "mimetype": "text/x-python",
   "name": "python",
   "nbconvert_exporter": "python",
   "pygments_lexer": "ipython3",
   "version": "3.9.7"
  }
 },
 "nbformat": 4,
 "nbformat_minor": 5
}
