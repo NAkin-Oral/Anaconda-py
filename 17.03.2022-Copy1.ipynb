{
 "cells": [
  {
   "cell_type": "code",
   "execution_count": null,
   "id": "baf0bf2a",
   "metadata": {},
   "outputs": [],
   "source": [
    "for i in range(1,101):\n",
    "  if (i % 3 == 0) and (i %5 == 0):\n",
    "    print(\"FizzBuzz\")\n",
    "  elif i % 3 == 0:\n",
    "    print(\"Fizz\")\n",
    "  elif i % 5 == 0:\n",
    "    print(\"Buzz\")\n",
    "  else:\n",
    "    print(i)"
   ]
  },
  {
   "cell_type": "code",
   "execution_count": null,
   "id": "fe65cea4",
   "metadata": {},
   "outputs": [],
   "source": [
    "def not_string(word):\n",
    "    if len(word) >= 3 and word.casefold()[:3] == \"not\":\n",
    "        return word\n",
    "    return (\"not \"+word)"
   ]
  },
  {
   "cell_type": "code",
   "execution_count": null,
   "id": "baba901c",
   "metadata": {},
   "outputs": [],
   "source": [
    "pwd"
   ]
  },
  {
   "cell_type": "code",
   "execution_count": null,
   "id": "d8893d57",
   "metadata": {},
   "outputs": [],
   "source": [
    "(lambda x: x**2)(5) "
   ]
  },
  {
   "cell_type": "code",
   "execution_count": null,
   "id": "f5ba3bcb",
   "metadata": {},
   "outputs": [],
   "source": [
    "upper_value = int(input (\"Please, Enter the Upper Range Value: \"))  \n",
    "print (\"The Prime Numbers in the range are: \")  \n",
    "for number in range (1, upper_value + 1):  \n",
    "    if number > 1:  \n",
    "        for i in range (2, number):  \n",
    "            if (number % i) == 0:  \n",
    "                break  \n",
    "        else:  \n",
    "            print (number) "
   ]
  },
  {
   "cell_type": "code",
   "execution_count": null,
   "id": "228b7fdc",
   "metadata": {},
   "outputs": [],
   "source": [
    "print((lambda x: x**2)(2))"
   ]
  },
  {
   "cell_type": "code",
   "execution_count": null,
   "id": "eeedd869",
   "metadata": {},
   "outputs": [],
   "source": [
    "print((lambda x, y: (x+y)/2)(3,5))"
   ]
  },
  {
   "cell_type": "code",
   "execution_count": null,
   "id": "009a79ee",
   "metadata": {},
   "outputs": [],
   "source": [
    "print((lambda word: word[::-1])(\"ali\"))"
   ]
  },
  {
   "cell_type": "code",
   "execution_count": null,
   "id": "b64340c0",
   "metadata": {},
   "outputs": [],
   "source": [
    "liste = [1, 2, 3, 4]\n",
    "for i in liste:\n",
    "    print(i,\":\", (lambda x: \"odd\" if x % 2 !=0 else \"even\")(i))"
   ]
  },
  {
   "cell_type": "code",
   "execution_count": null,
   "id": "798b660f",
   "metadata": {},
   "outputs": [],
   "source": [
    "iterable = \"clarusway\"\n",
    "reverser = lambda x: x[::-1]\n",
    "reverser(iterable)"
   ]
  },
  {
   "cell_type": "code",
   "execution_count": null,
   "id": "a1f82f8e",
   "metadata": {},
   "outputs": [],
   "source": [
    "liste = [1, 2, 3, 4]\n",
    "def kare(x):\n",
    "    return(x**2)\n",
    "uzunluk = map(kare, liste)\n",
    "print(*uzunluk)"
   ]
  },
  {
   "cell_type": "code",
   "execution_count": null,
   "id": "c69937ce",
   "metadata": {},
   "outputs": [],
   "source": [
    "kelimeler = [\"alideliveli\",\"ahmet\",\"sel\"]\n",
    "uzunluk = map(len, kelimeler)\n",
    "print(*uzunluk)"
   ]
  },
  {
   "cell_type": "code",
   "execution_count": null,
   "id": "0b0b743b",
   "metadata": {},
   "outputs": [],
   "source": [
    "iterable = [1, 2, 3, 4, 5]\n",
    "result = map(lambda x:x**2, iterable)\n",
    "print(type(result))\n",
    "print(*result)"
   ]
  },
  {
   "cell_type": "code",
   "execution_count": null,
   "id": "1552809f",
   "metadata": {},
   "outputs": [],
   "source": [
    "liste = [1, 2, 3, 4, 5]\n",
    "def kare(x):\n",
    "    return(x**2)\n",
    "uzunluk = map(kare, liste)\n",
    "print(*uzunluk)"
   ]
  },
  {
   "cell_type": "code",
   "execution_count": null,
   "id": "74179359",
   "metadata": {},
   "outputs": [],
   "source": [
    "letter1 = [\"o\",\"s\",\"t\",\"t\"]\n",
    "letter2 = [\"n\",\"i\",\"e\",\"w\"]\n",
    "letter3 = [\"e\",\"x\",\"n\",\"o\"]\n",
    "numbers = map(lambda x,y,z: x+y+z,letter1,letter2,letter3)\n",
    "print(*numbers)"
   ]
  },
  {
   "cell_type": "code",
   "execution_count": null,
   "id": "efe39e4c",
   "metadata": {},
   "outputs": [],
   "source": [
    "topla = lambda x, y, z : x + y + z\n",
    "topla (\"a\",\"l\",\"i\")"
   ]
  },
  {
   "cell_type": "code",
   "execution_count": null,
   "id": "d5843d29",
   "metadata": {},
   "outputs": [],
   "source": [
    "nums1 = [9,6,7,4]\n",
    "nums2 = [3,6,5,8]\n",
    "summ = map(lambda x,y: (x+y)/2 , nums1, nums2)\n",
    "print(*(summ))"
   ]
  },
  {
   "cell_type": "code",
   "execution_count": 8,
   "id": "a5e00dc4",
   "metadata": {},
   "outputs": [
    {
     "name": "stdout",
     "output_type": "stream",
     "text": [
      "I love you.\n",
      "You ate much.\n",
      "He works hard.\n"
     ]
    }
   ],
   "source": [
    "words1 = [\"you\", \"much\",\"hard\"]\n",
    "words2 = [\"I\", \"You\",\"He\"]\n",
    "words3 = [\"love\", \"ate\",\"works\"]\n",
    "sentence = map(lambda x, y, z: x + \" \" + y + \" \" + z + \".\", words2,words3,words1)\n",
    "print(*sentence, sep=\"\\n\")"
   ]
  },
  {
   "cell_type": "code",
   "execution_count": 6,
   "id": "9b07ccb3",
   "metadata": {},
   "outputs": [
    {
     "name": "stdout",
     "output_type": "stream",
     "text": [
      "<class 'filter'>\n",
      "Odd numbers are: [1, 3, 5, 7, 9]\n"
     ]
    }
   ],
   "source": [
    "first_ten =[0, 1, 2, 3, 4, 5, 6, 7, 8, 9]\n",
    "odd = filter(lambda x: x % 2 != 0, first_ten)\n",
    "print(type(odd))\n",
    "\n",
    "print(\"Odd numbers are:\", list(odd))"
   ]
  },
  {
   "cell_type": "code",
   "execution_count": 11,
   "id": "9d173670",
   "metadata": {},
   "outputs": [
    {
     "data": {
      "text/plain": [
       "[1, 2, 3, 4, 5, 6, 7, 8, 9, 10]"
      ]
     },
     "execution_count": 11,
     "metadata": {},
     "output_type": "execute_result"
    }
   ],
   "source": [
    "first_10 = range(1,11)\n",
    "list(first_10)"
   ]
  },
  {
   "cell_type": "code",
   "execution_count": 20,
   "id": "5315fbb7",
   "metadata": {},
   "outputs": [
    {
     "name": "stdout",
     "output_type": "stream",
     "text": [
      "swim.\n",
      "me.\n",
      "kiwi.\n",
      "  \n"
     ]
    }
   ],
   "source": [
    "words = [\"apple\", \"swim\", \"clock\", \"me\", \"kiwi\", \"banana\",\"  \"]\n",
    "lenght = filter(lambda x: len(x) < 5, words)\n",
    "print(*lenght, sep=\".\\n\")"
   ]
  },
  {
   "cell_type": "code",
   "execution_count": 22,
   "id": "f02986e9",
   "metadata": {},
   "outputs": [
    {
     "name": "stdout",
     "output_type": "stream",
     "text": [
      "('a', 'x')\n",
      "('b', 'y')\n",
      "('c', 'z')\n"
     ]
    }
   ],
   "source": [
    "letter1 = [\"a\", \"b\", \"c\"]\n",
    "letter2 = [\"x\", \"y\", \"z\"]\n",
    "birleştir = map(zip, letter1,letter2)\n",
    "for i in birleştir:\n",
    "    for j in i:\n",
    "        print(j)"
   ]
  },
  {
   "cell_type": "code",
   "execution_count": 23,
   "id": "ece19b0d",
   "metadata": {},
   "outputs": [
    {
     "data": {
      "text/plain": [
       "[('a', 'x'), ('b', 'y'), ('c', 'z')]"
      ]
     },
     "execution_count": 23,
     "metadata": {},
     "output_type": "execute_result"
    }
   ],
   "source": [
    "letter1 = [\"a\", \"b\", \"c\"]\n",
    "letter2 = [\"x\", \"y\", \"z\"]\n",
    "y = zip(letter1,letter2)\n",
    "list(y)"
   ]
  },
  {
   "cell_type": "code",
   "execution_count": null,
   "id": "e14e17ff",
   "metadata": {},
   "outputs": [],
   "source": []
  }
 ],
 "metadata": {
  "kernelspec": {
   "display_name": "Python 3 (ipykernel)",
   "language": "python",
   "name": "python3"
  },
  "language_info": {
   "codemirror_mode": {
    "name": "ipython",
    "version": 3
   },
   "file_extension": ".py",
   "mimetype": "text/x-python",
   "name": "python",
   "nbconvert_exporter": "python",
   "pygments_lexer": "ipython3",
   "version": "3.9.7"
  }
 },
 "nbformat": 4,
 "nbformat_minor": 5
}
