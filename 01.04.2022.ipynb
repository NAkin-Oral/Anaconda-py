{
 "cells": [
  {
   "cell_type": "code",
   "execution_count": 5,
   "id": "f22840ea",
   "metadata": {},
   "outputs": [
    {
     "name": "stdout",
     "output_type": "stream",
     "text": [
      "greatest\n"
     ]
    }
   ],
   "source": [
    "x = \"Today is the greatest day ever.\"\n",
    "def letter_counter(y):\n",
    "    arr = y.split(\" \")\n",
    "    word = []\n",
    "    for i in arr:\n",
    "        total = []\n",
    "        for j in i:\n",
    "            total.append(i.count(j))\n",
    "        word.append(max(total))\n",
    "    result = arr[word.index(max(word))]\n",
    "    if max(word) == 1:\n",
    "        result = -1\n",
    "    return result\n",
    "print(letter_counter(x))"
   ]
  },
  {
   "cell_type": "code",
   "execution_count": 9,
   "id": "4f667f18",
   "metadata": {},
   "outputs": [
    {
     "data": {
      "text/plain": [
       "'greatest'"
      ]
     },
     "execution_count": 9,
     "metadata": {},
     "output_type": "execute_result"
    }
   ],
   "source": [
    "def LetterCount(q):\n",
    "    greatest = \"-1\"\n",
    "    greatestCount = 0;\n",
    "\n",
    "    def findRepeats(word):\n",
    "        storage = {}\n",
    "        rep = 0\n",
    "        for letter in list(word):\n",
    "            try:\n",
    "                storage[letter] = storage[letter] + 1\n",
    "            except: \n",
    "                storage[letter] = 1\n",
    "        for n in storage:\n",
    "            if storage[n] > 1:\n",
    "                rep = rep + storage[n]\n",
    "        return rep\n",
    "\n",
    "    arr = q.split()\n",
    "\n",
    "    for word in arr:\n",
    "        c = findRepeats(word)\n",
    "        if c > greatestCount:\n",
    "            greatest = word\n",
    "            greatestCount = c\n",
    "\n",
    "    return greatest\n",
    "x = \"Today is the greatest day ever.\"\n",
    "print(LetterCount(x))"
   ]
  },
  {
   "cell_type": "code",
   "execution_count": 12,
   "id": "9561f16f",
   "metadata": {},
   "outputs": [
    {
     "name": "stdout",
     "output_type": "stream",
     "text": [
      "fsda\n"
     ]
    }
   ],
   "source": [
    "z = \"a fsda? 98887 a dd #%11 3f\"\n",
    "\n",
    "def LongestWord(f):\n",
    "    import string\n",
    "    for i in f:\n",
    "        if i in string.punctuation or i in string.digits:\n",
    "            f = f.replace(i, \"\")\n",
    "    maks = max(f.split(), key = len)\n",
    "    return maks\n",
    "print(LongestWord(z))"
   ]
  },
  {
   "cell_type": "code",
   "execution_count": null,
   "id": "3e5a2f3b",
   "metadata": {},
   "outputs": [],
   "source": []
  }
 ],
 "metadata": {
  "kernelspec": {
   "display_name": "Python 3 (ipykernel)",
   "language": "python",
   "name": "python3"
  },
  "language_info": {
   "codemirror_mode": {
    "name": "ipython",
    "version": 3
   },
   "file_extension": ".py",
   "mimetype": "text/x-python",
   "name": "python",
   "nbconvert_exporter": "python",
   "pygments_lexer": "ipython3",
   "version": "3.9.7"
  }
 },
 "nbformat": 4,
 "nbformat_minor": 5
}
