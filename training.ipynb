{
 "cells": [
  {
   "cell_type": "code",
   "execution_count": null,
   "metadata": {
    "colab": {
     "base_uri": "https://localhost:8080/"
    },
    "executionInfo": {
     "elapsed": 3652,
     "status": "ok",
     "timestamp": 1643135268703,
     "user": {
      "displayName": "Nurettin Akın Oral",
      "photoUrl": "https://lh3.googleusercontent.com/a/default-user=s64",
      "userId": "17186612936255075526"
     },
     "user_tz": -180
    },
    "id": "7baiSZHSSfT4",
    "outputId": "fc112fe3-0f05-4759-973b-4a4e1df244d7"
   },
   "outputs": [
    {
     "name": "stdout",
     "output_type": "stream",
     "text": [
      "Seçilecek ilk sayıyı seçiniz: 2\n",
      "Seçilecek ikinci sayıyı seçiniz: 3\n",
      "Seçilecek üçüncü sayıyı seçiniz: 4\n",
      "2*3*4 = 24\n"
     ]
    }
   ],
   "source": [
    "x = int(input(\"Seçilecek ilk sayıyı seçiniz: \"))\n",
    "y = int(input(\"Seçilecek ikinci sayıyı seçiniz: \"))\n",
    "z = int(input(\"Seçilecek üçüncü sayıyı seçiniz: \"))\n",
    "a = x * y * z\n",
    "print(\"{}*{}*{} = {}\".format(x, y, z, a))"
   ]
  },
  {
   "cell_type": "code",
   "execution_count": 5,
   "metadata": {
    "colab": {
     "base_uri": "https://localhost:8080/"
    },
    "executionInfo": {
     "elapsed": 11793,
     "status": "ok",
     "timestamp": 1643130908154,
     "user": {
      "displayName": "Nurettin Akın Oral",
      "photoUrl": "https://lh3.googleusercontent.com/a/default-user=s64",
      "userId": "17186612936255075526"
     },
     "user_tz": -180
    },
    "id": "J4Q2tnKcMko3",
    "outputId": "2a28ea74-3487-4e1f-d47c-fbe7b2109218"
   },
   "outputs": [
    {
     "name": "stdout",
     "output_type": "stream",
     "text": [
      "Metre cinsinden boyunuz: 1.78\n",
      "Kilogram cinsinden kilonuz: 75\n",
      "Vücut kitleniz:  23.671253629592222\n",
      "İdeal\n"
     ]
    }
   ],
   "source": [
    "x = float(input(\"Metre cinsinden boyunuz: \"))\n",
    "y = float(input(\"Kilogram cinsinden kilonuz: \"))\n",
    "z = y / (x * x)\n",
    "print (\"Vücut kitleniz: \", z)\n",
    "if z < 18:\n",
    "  print(\"Zayıf\")\n",
    "elif 25 > z >= 18:\n",
    "  print(\"İdeal\")\n",
    "elif 30 > z > 25:\n",
    "  print(\"Kilolu\")\n",
    "else :\n",
    "  print(\"Obez\")"
   ]
  },
  {
   "cell_type": "code",
   "execution_count": 11,
   "metadata": {
    "colab": {
     "base_uri": "https://localhost:8080/"
    },
    "executionInfo": {
     "elapsed": 3,
     "status": "ok",
     "timestamp": 1643131475351,
     "user": {
      "displayName": "Nurettin Akın Oral",
      "photoUrl": "https://lh3.googleusercontent.com/a/default-user=s64",
      "userId": "17186612936255075526"
     },
     "user_tz": -180
    },
    "id": "yQpiD7NXO0kW",
    "outputId": "c50e7f0c-e506-4099-a97c-387bfaf39cc5"
   },
   "outputs": [
    {
     "name": "stdout",
     "output_type": "stream",
     "text": [
      "Alınabilecek adet:  18 Para üstünüz:  2\n"
     ]
    }
   ],
   "source": [
    "x = 200 // 11\n",
    "y = 200 % 11\n",
    "print (\"Alınabilecek adet: \", x,\"Para üstünüz: \", y)"
   ]
  },
  {
   "cell_type": "code",
   "execution_count": 12,
   "metadata": {
    "colab": {
     "base_uri": "https://localhost:8080/"
    },
    "executionInfo": {
     "elapsed": 13507,
     "status": "ok",
     "timestamp": 1643131715257,
     "user": {
      "displayName": "Nurettin Akın Oral",
      "photoUrl": "https://lh3.googleusercontent.com/a/default-user=s64",
      "userId": "17186612936255075526"
     },
     "user_tz": -180
    },
    "id": "WPUwjf9oQ22m",
    "outputId": "76bfec6b-b188-40ad-fd66-0f10b709bf34"
   },
   "outputs": [
    {
     "name": "stdout",
     "output_type": "stream",
     "text": [
      "Please enter the word: ali\n",
      "Please enter the seperator: /\n",
      "Please enter the repetition: 3\n",
      "ali/ali/ali\n"
     ]
    }
   ],
   "source": [
    "word = input(\"Please enter the word: \")\n",
    "seperator = input(\"Please enter the seperator: \")\n",
    "repetition = int(input(\"Please enter the repetition: \"))\n",
    "print((repetition-1)*(word + seperator) + word)"
   ]
  },
  {
   "cell_type": "code",
   "execution_count": 13,
   "metadata": {
    "colab": {
     "base_uri": "https://localhost:8080/"
    },
    "executionInfo": {
     "elapsed": 350,
     "status": "ok",
     "timestamp": 1643131747988,
     "user": {
      "displayName": "Nurettin Akın Oral",
      "photoUrl": "https://lh3.googleusercontent.com/a/default-user=s64",
      "userId": "17186612936255075526"
     },
     "user_tz": -180
    },
    "id": "LJxv_is-SAeJ",
    "outputId": "c8dfd8b7-6048-4f7c-f79a-93b967b98829"
   },
   "outputs": [
    {
     "name": "stdout",
     "output_type": "stream",
     "text": [
      "False\n"
     ]
    }
   ],
   "source": [
    "print(True and False and (not True and False) and not (True or False))"
   ]
  },
  {
   "cell_type": "code",
   "execution_count": 15,
   "metadata": {
    "colab": {
     "base_uri": "https://localhost:8080/"
    },
    "executionInfo": {
     "elapsed": 274,
     "status": "ok",
     "timestamp": 1643131789811,
     "user": {
      "displayName": "Nurettin Akın Oral",
      "photoUrl": "https://lh3.googleusercontent.com/a/default-user=s64",
      "userId": "17186612936255075526"
     },
     "user_tz": -180
    },
    "id": "4o4P6Z3QSLq1",
    "outputId": "92e7b48f-a3f2-4ce3-dba2-703d3eb35764"
   },
   "outputs": [
    {
     "name": "stdout",
     "output_type": "stream",
     "text": [
      "False\n"
     ]
    }
   ],
   "source": [
    "print(True and False and not \"False\" and None and (\"None\" or None))"
   ]
  },
  {
   "cell_type": "code",
   "execution_count": 16,
   "metadata": {
    "colab": {
     "base_uri": "https://localhost:8080/"
    },
    "executionInfo": {
     "elapsed": 259,
     "status": "ok",
     "timestamp": 1643131828338,
     "user": {
      "displayName": "Nurettin Akın Oral",
      "photoUrl": "https://lh3.googleusercontent.com/a/default-user=s64",
      "userId": "17186612936255075526"
     },
     "user_tz": -180
    },
    "id": "qWIBPr13SOyv",
    "outputId": "81ac6dc9-f787-40a0-cd7c-7e8cf8ec2e0e"
   },
   "outputs": [
    {
     "name": "stdout",
     "output_type": "stream",
     "text": [
      "0\n"
     ]
    }
   ],
   "source": [
    "print(\"clarusway\" and 0 and not \" \" and False and (\" \" or None))"
   ]
  },
  {
   "cell_type": "code",
   "execution_count": null,
   "metadata": {
    "id": "9kNdQt4pfbfb"
   },
   "outputs": [],
   "source": []
  }
 ],
 "metadata": {
  "colab": {
   "authorship_tag": "ABX9TyN2tJXlbKJ+mTkWz86pORKT",
   "collapsed_sections": [],
   "name": "Untitled8.ipynb",
   "provenance": []
  },
  "kernelspec": {
   "display_name": "Python 3 (ipykernel)",
   "language": "python",
   "name": "python3"
  },
  "language_info": {
   "codemirror_mode": {
    "name": "ipython",
    "version": 3
   },
   "file_extension": ".py",
   "mimetype": "text/x-python",
   "name": "python",
   "nbconvert_exporter": "python",
   "pygments_lexer": "ipython3",
   "version": "3.9.7"
  }
 },
 "nbformat": 4,
 "nbformat_minor": 1
}
