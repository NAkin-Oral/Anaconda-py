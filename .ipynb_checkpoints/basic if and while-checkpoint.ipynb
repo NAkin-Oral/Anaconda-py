{
 "cells": [
  {
   "cell_type": "code",
   "execution_count": 3,
   "metadata": {
    "colab": {
     "base_uri": "https://localhost:8080/"
    },
    "executionInfo": {
     "elapsed": 6953,
     "status": "ok",
     "timestamp": 1642845614343,
     "user": {
      "displayName": "Nurettin Akın Oral",
      "photoUrl": "https://lh3.googleusercontent.com/a/default-user=s64",
      "userId": "17186612936255075526"
     },
     "user_tz": -180
    },
    "id": "ivxrE94YOce-",
    "outputId": "f2fc48b1-f4dd-44f9-e153-2bac9a088ba5"
   },
   "outputs": [
    {
     "name": "stdout",
     "output_type": "stream",
     "text": [
      "What is your name: Ali\n",
      "Hello Ali\n",
      "How old are you: 78\n",
      "You are aged to perfection\n"
     ]
    }
   ],
   "source": [
    "name = input (\"What is your name: \")\n",
    "print (\"Hello\", name)\n",
    "age = int(input(\"How old are you: \"))\n",
    "if age>=70:\n",
    "  print(\"You are aged to perfection\")\n",
    "else:\n",
    "  print(\"You are a spring chicken\")"
   ]
  },
  {
   "cell_type": "code",
   "execution_count": 6,
   "metadata": {
    "colab": {
     "base_uri": "https://localhost:8080/"
    },
    "executionInfo": {
     "elapsed": 16920,
     "status": "ok",
     "timestamp": 1642847303305,
     "user": {
      "displayName": "Nurettin Akın Oral",
      "photoUrl": "https://lh3.googleusercontent.com/a/default-user=s64",
      "userId": "17186612936255075526"
     },
     "user_tz": -180
    },
    "id": "fvsaVGc6Od2s",
    "outputId": "0c0a9fd1-4820-49c0-d46c-c7623efa1d42"
   },
   "outputs": [
    {
     "name": "stdout",
     "output_type": "stream",
     "text": [
      "Enter next grade: 86\n",
      "Enter next grade: 57\n",
      "Enter next grade: 62\n",
      "Enter next grade: 26\n",
      "Enter next grade: 89\n",
      "Enter next grade: 13\n",
      "Enter next grade: 100\n",
      "Enter next grade: 96\n",
      "Enter next grade: 25\n",
      "Enter next grade: 67\n",
      "Class average is:  62.1\n"
     ]
    }
   ],
   "source": [
    "total = 0\n",
    "grade_counter = 1\n",
    "while grade_counter <= 10:\n",
    "  grade = int(input(\"Enter next grade: \"))\n",
    "  total += grade\n",
    "  grade_counter += 1\n",
    "average = total/10\n",
    "print (\"Class average is: \", average)  "
   ]
  },
  {
   "cell_type": "code",
   "execution_count": 7,
   "metadata": {
    "colab": {
     "base_uri": "https://localhost:8080/"
    },
    "executionInfo": {
     "elapsed": 5721,
     "status": "ok",
     "timestamp": 1642848388675,
     "user": {
      "displayName": "Nurettin Akın Oral",
      "photoUrl": "https://lh3.googleusercontent.com/a/default-user=s64",
      "userId": "17186612936255075526"
     },
     "user_tz": -180
    },
    "id": "r5Fb3yuFUv6q",
    "outputId": "f09938d9-aaba-485f-c6fc-8e80abbb69be"
   },
   "outputs": [
    {
     "name": "stdout",
     "output_type": "stream",
     "text": [
      "Enter worling hours: 50\n",
      "Your weekly wage is:  1100.0\n"
     ]
    }
   ],
   "source": [
    "work_hour = 0\n",
    "payment = 20\n",
    "hours = int(input(\"Enter worling hours: \"))\n",
    "work_hour += hours\n",
    "if work_hour<= 40:\n",
    "  weekly_wage = work_hour * payment\n",
    "else:\n",
    "  extra_hours = work_hour - 40\n",
    "  work_hour -= extra_hours\n",
    "  weekly_wage = (work_hour * payment) + (extra_hours * (payment * 1.5))\n",
    "\n",
    "print (\"Your weekly wage is: \", weekly_wage)"
   ]
  },
  {
   "cell_type": "code",
   "execution_count": null,
   "metadata": {
    "id": "h2_b-EZDZO5w"
   },
   "outputs": [],
   "source": []
  }
 ],
 "metadata": {
  "colab": {
   "authorship_tag": "ABX9TyPhJUp7DNpS/ZcEi1IrlMu6",
   "name": "Untitled7.ipynb",
   "provenance": []
  },
  "kernelspec": {
   "display_name": "Python 3 (ipykernel)",
   "language": "python",
   "name": "python3"
  },
  "language_info": {
   "codemirror_mode": {
    "name": "ipython",
    "version": 3
   },
   "file_extension": ".py",
   "mimetype": "text/x-python",
   "name": "python",
   "nbconvert_exporter": "python",
   "pygments_lexer": "ipython3",
   "version": "3.9.7"
  }
 },
 "nbformat": 4,
 "nbformat_minor": 1
}
