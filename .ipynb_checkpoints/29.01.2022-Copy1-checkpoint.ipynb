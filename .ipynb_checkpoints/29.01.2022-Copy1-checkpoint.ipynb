{
 "cells": [
  {
   "cell_type": "markdown",
   "id": "ab2d5663",
   "metadata": {},
   "source": [
    "Yazılım kalitesi gereksinimlerin ve müşteri isteklerinin karşılanması ve yazılım geliştirilirken standartlara bağlılık, uygunluk ile güvenilirlik ve müşteri kullanırken destek verilmesi olarak tanımı yapılabilir. "
   ]
  },
  {
   "cell_type": "code",
   "execution_count": null,
   "id": "367db028",
   "metadata": {},
   "outputs": [],
   "source": []
  }
 ],
 "metadata": {
  "kernelspec": {
   "display_name": "Python 3 (ipykernel)",
   "language": "python",
   "name": "python3"
  },
  "language_info": {
   "codemirror_mode": {
    "name": "ipython",
    "version": 3
   },
   "file_extension": ".py",
   "mimetype": "text/x-python",
   "name": "python",
   "nbconvert_exporter": "python",
   "pygments_lexer": "ipython3",
   "version": "3.9.7"
  }
 },
 "nbformat": 4,
 "nbformat_minor": 5
}
