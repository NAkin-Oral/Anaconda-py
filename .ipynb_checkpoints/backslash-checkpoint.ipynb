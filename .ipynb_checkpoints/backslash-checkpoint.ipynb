{
 "cells": [
  {
   "cell_type": "code",
   "execution_count": null,
   "metadata": {
    "colab": {
     "base_uri": "https://localhost:8080/"
    },
    "executionInfo": {
     "elapsed": 5,
     "status": "ok",
     "timestamp": 1642767700549,
     "user": {
      "displayName": "Nurettin Akın Oral",
      "photoUrl": "https://lh3.googleusercontent.com/a/default-user=s64",
      "userId": "17186612936255075526"
     },
     "user_tz": -180
    },
    "id": "u8hxHScwlCge",
    "outputId": "57a594cc-caa2-4b77-a598-7073be2cd7ad"
   },
   "outputs": [
    {
     "name": "stdout",
     "output_type": "stream",
     "text": [
      "[]\n"
     ]
    }
   ],
   "source": [
    "print ([] and (False or {0}))"
   ]
  },
  {
   "cell_type": "code",
   "execution_count": 35,
   "metadata": {
    "colab": {
     "base_uri": "https://localhost:8080/"
    },
    "executionInfo": {
     "elapsed": 293,
     "status": "ok",
     "timestamp": 1642770917747,
     "user": {
      "displayName": "Nurettin Akın Oral",
      "photoUrl": "https://lh3.googleusercontent.com/a/default-user=s64",
      "userId": "17186612936255075526"
     },
     "user_tz": -180
    },
    "id": "5xpn9-kllbh9",
    "outputId": "62801cc1-3100-4f51-ff19-297c6f087b70"
   },
   "outputs": [
    {
     "name": "stdout",
     "output_type": "stream",
     "text": [
      "Clarusway, Clarusway, Clarusway,\n",
      " \tClarusway, Clarusway, Clarusway, \n",
      " \t \tClarusway, Clarusway, Clarusway\n"
     ]
    }
   ],
   "source": [
    "text = \"Clarusway, Clarusway, Clarusway,\\n \\tClarusway, Clarusway, Clarusway, \\n \\t \\tClarusway, Clarusway, Clarusway\"\n",
    "\n",
    "print(text)\n",
    "\n"
   ]
  },
  {
   "cell_type": "code",
   "execution_count": null,
   "metadata": {
    "id": "B2Wsoi5Sl-tu"
   },
   "outputs": [],
   "source": []
  },
  {
   "cell_type": "code",
   "execution_count": null,
   "metadata": {
    "id": "FVS3EQBSnIof"
   },
   "outputs": [],
   "source": []
  }
 ],
 "metadata": {
  "colab": {
   "authorship_tag": "ABX9TyPyK/7Wkx0X3LtlXL2Ihe14",
   "name": "Untitled5.ipynb",
   "provenance": []
  },
  "kernelspec": {
   "display_name": "Python 3 (ipykernel)",
   "language": "python",
   "name": "python3"
  },
  "language_info": {
   "codemirror_mode": {
    "name": "ipython",
    "version": 3
   },
   "file_extension": ".py",
   "mimetype": "text/x-python",
   "name": "python",
   "nbconvert_exporter": "python",
   "pygments_lexer": "ipython3",
   "version": "3.9.7"
  }
 },
 "nbformat": 4,
 "nbformat_minor": 1
}
