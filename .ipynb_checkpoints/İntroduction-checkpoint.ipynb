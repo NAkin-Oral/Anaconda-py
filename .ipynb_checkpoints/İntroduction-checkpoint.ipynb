{
 "cells": [
  {
   "cell_type": "code",
   "execution_count": 3,
   "metadata": {
    "colab": {
     "base_uri": "https://localhost:8080/",
     "height": 130
    },
    "executionInfo": {
     "elapsed": 8,
     "status": "error",
     "timestamp": 1642845392345,
     "user": {
      "displayName": "Nurettin Akın Oral",
      "photoUrl": "https://lh3.googleusercontent.com/a/default-user=s64",
      "userId": "17186612936255075526"
     },
     "user_tz": -180
    },
    "id": "cwIiO4yICwT3",
    "outputId": "8fbd7132-6e9d-4b89-c60a-27e70facfb02"
   },
   "outputs": [
    {
     "name": "stdout",
     "output_type": "stream",
     "text": [
      "What is your name665\n",
      "hello 665\n",
      "How old are you565\n",
      "You are aged to perfection\n"
     ]
    }
   ],
   "source": [
    "name = input (\"What is your name\")\n",
    "print (\"hello\", name)\n",
    "age = int(input(\"How old are you\"))\n",
    "if age>= 70:\n",
    "  print(\"You are aged to perfection\")\n",
    "else:\n",
    "  print(\"You are a spring chicken\")"
   ]
  },
  {
   "cell_type": "code",
   "execution_count": null,
   "metadata": {
    "id": "x6IcSACrNyIq"
   },
   "outputs": [],
   "source": []
  }
 ],
 "metadata": {
  "colab": {
   "authorship_tag": "ABX9TyOIlsnTBdTHgsFEoL9nZMg0",
   "history_visible": true,
   "name": "Untitled6.ipynb",
   "provenance": []
  },
  "kernelspec": {
   "display_name": "Python 3 (ipykernel)",
   "language": "python",
   "name": "python3"
  },
  "language_info": {
   "codemirror_mode": {
    "name": "ipython",
    "version": 3
   },
   "file_extension": ".py",
   "mimetype": "text/x-python",
   "name": "python",
   "nbconvert_exporter": "python",
   "pygments_lexer": "ipython3",
   "version": "3.9.7"
  }
 },
 "nbformat": 4,
 "nbformat_minor": 1
}
