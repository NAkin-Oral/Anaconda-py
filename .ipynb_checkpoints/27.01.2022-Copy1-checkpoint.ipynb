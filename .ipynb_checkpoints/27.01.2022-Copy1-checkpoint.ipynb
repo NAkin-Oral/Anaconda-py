{
 "cells": [
  {
   "cell_type": "markdown",
   "id": "8a1bf839",
   "metadata": {},
   "source": [
    "print(13)"
   ]
  },
  {
   "cell_type": "code",
   "execution_count": 1,
   "id": "d32ba67a",
   "metadata": {},
   "outputs": [
    {
     "name": "stdout",
     "output_type": "stream",
     "text": [
      "13\n"
     ]
    }
   ],
   "source": [
    "print(13)"
   ]
  },
  {
   "cell_type": "code",
   "execution_count": 2,
   "id": "9b5ba844",
   "metadata": {},
   "outputs": [
    {
     "ename": "SyntaxError",
     "evalue": "invalid syntax (Temp/ipykernel_15944/2829399642.py, line 1)",
     "output_type": "error",
     "traceback": [
      "\u001b[1;36m  File \u001b[1;32m\"C:\\Users\\nuret\\AppData\\Local\\Temp/ipykernel_15944/2829399642.py\"\u001b[1;36m, line \u001b[1;32m1\u001b[0m\n\u001b[1;33m    INPUT value = \"Number you want to look\"\u001b[0m\n\u001b[1;37m          ^\u001b[0m\n\u001b[1;31mSyntaxError\u001b[0m\u001b[1;31m:\u001b[0m invalid syntax\n"
     ]
    }
   ],
   "source": [
    "INPUT value = \"Number you want to look\"\n",
    "IF value <= 10\n",
    "OUTPUT False\n",
    "ELSE\n",
    "OUTPUT True"
   ]
  },
  {
   "cell_type": "code",
   "execution_count": 3,
   "id": "dfb77a36",
   "metadata": {},
   "outputs": [
    {
     "name": "stdout",
     "output_type": "stream",
     "text": [
      "Here's some fruit\n",
      "Have a nice day.\n"
     ]
    }
   ],
   "source": [
    "orange = 5\n",
    "apple = 8\n",
    "fruit = apple + orange\n",
    "if fruit > 10:\n",
    "    print(\"Here's some fruit\")\n",
    "else:\n",
    "    print(\"You can't have any.\")\n",
    "print (\"Have a nice day.\")"
   ]
  },
  {
   "cell_type": "code",
   "execution_count": 6,
   "id": "930dfd0c",
   "metadata": {},
   "outputs": [
    {
     "name": "stdout",
     "output_type": "stream",
     "text": [
      "13\n",
      "16\n"
     ]
    }
   ],
   "source": [
    "orange = 5\n",
    "apple = 8\n",
    "fruit = apple + orange\n",
    "lime = 12\n",
    "orange -= 1\n",
    "citrus = orange + lime\n",
    "print(fruit)\n",
    "print(citrus)"
   ]
  },
  {
   "cell_type": "code",
   "execution_count": 7,
   "id": "df0b87aa",
   "metadata": {},
   "outputs": [
    {
     "name": "stdout",
     "output_type": "stream",
     "text": [
      "Make cider\n",
      "Have a nice day.\n"
     ]
    }
   ],
   "source": [
    "orange = 5\n",
    "apple = 8\n",
    "fruit = apple + orange\n",
    "if apple > orange:\n",
    "    if fruit < 20:\n",
    "        print(\"Make cider\")\n",
    "    else:\n",
    "        print(\"Make fruit salad\")\n",
    "else:\n",
    "    print(\"You should make orange juice\")\n",
    "print(\"Have a nice day.\")"
   ]
  },
  {
   "cell_type": "code",
   "execution_count": 16,
   "id": "b712e460",
   "metadata": {},
   "outputs": [
    {
     "name": "stdout",
     "output_type": "stream",
     "text": [
      "Go\n",
      "Go\n",
      "Go\n",
      "Go\n",
      "Go\n",
      "Go\n",
      "Go\n",
      "Go\n",
      "Go\n",
      "Go\n",
      "Go\n",
      "Go\n",
      "Go\n",
      "Go\n",
      "Go\n"
     ]
    }
   ],
   "source": [
    "sets = 3\n",
    "repetitions = 15\n",
    "while sets > 0:\n",
    "    sets -= 1\n",
    "    while repetitions > 0:\n",
    "        print(\"Go\")\n",
    "        repetitions -= 1\n",
    "    "
   ]
  },
  {
   "cell_type": "code",
   "execution_count": 12,
   "id": "92a054a6",
   "metadata": {},
   "outputs": [
    {
     "name": "stdout",
     "output_type": "stream",
     "text": [
      " You can buy candy\n",
      " You can buy candy\n",
      " You can buy candy\n",
      " You can buy candy\n",
      " You can buy candy\n",
      " You can buy candy\n",
      " You can buy candy\n",
      " You can buy candy\n"
     ]
    }
   ],
   "source": [
    "money = 100\n",
    "while money >= 30:\n",
    "    print(\" You can buy candy\")\n",
    "    money -= 10\n"
   ]
  },
  {
   "cell_type": "code",
   "execution_count": null,
   "id": "f13f4940",
   "metadata": {},
   "outputs": [],
   "source": []
  }
 ],
 "metadata": {
  "kernelspec": {
   "display_name": "Python 3 (ipykernel)",
   "language": "python",
   "name": "python3"
  },
  "language_info": {
   "codemirror_mode": {
    "name": "ipython",
    "version": 3
   },
   "file_extension": ".py",
   "mimetype": "text/x-python",
   "name": "python",
   "nbconvert_exporter": "python",
   "pygments_lexer": "ipython3",
   "version": "3.9.7"
  }
 },
 "nbformat": 4,
 "nbformat_minor": 5
}
