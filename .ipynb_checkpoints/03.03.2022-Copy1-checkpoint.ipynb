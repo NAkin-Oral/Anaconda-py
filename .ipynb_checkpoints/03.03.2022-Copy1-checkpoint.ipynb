{
 "cells": [
  {
   "cell_type": "code",
   "execution_count": 1,
   "id": "a8ff7de5",
   "metadata": {},
   "outputs": [
    {
     "name": "stdout",
     "output_type": "stream",
     "text": [
      "name\n",
      "surname\n",
      "age\n"
     ]
    }
   ],
   "source": [
    "user = {\n",
    "    \"name\" : \"Daniel\",\n",
    "    \"surname\" : \"Smith\",\n",
    "    \"age\" : 35\n",
    "}\n",
    "\n",
    "for attribute in user:\n",
    "    print(attribute)"
   ]
  },
  {
   "cell_type": "code",
   "execution_count": 8,
   "id": "e9579e23",
   "metadata": {},
   "outputs": [
    {
     "name": "stdout",
     "output_type": "stream",
     "text": [
      "Daniel-Smith-35-"
     ]
    }
   ],
   "source": [
    "user = {\n",
    "    \"name\" : \"Daniel\",\n",
    "    \"surname\" : \"Smith\",\n",
    "    \"age\" : 35\n",
    "}\n",
    "\n",
    "for i in user.values():\n",
    "    print(i, end=\"-\")"
   ]
  },
  {
   "cell_type": "code",
   "execution_count": 5,
   "id": "e442160f",
   "metadata": {},
   "outputs": [
    {
     "name": "stdout",
     "output_type": "stream",
     "text": [
      "Hello\n",
      "Hello\n",
      "Hello\n"
     ]
    }
   ],
   "source": [
    "for i in \"abc\":\n",
    "    print(\"Hello\")"
   ]
  },
  {
   "cell_type": "code",
   "execution_count": 6,
   "id": "94382887",
   "metadata": {},
   "outputs": [
    {
     "name": "stdout",
     "output_type": "stream",
     "text": [
      "name : Daniel\n",
      "surname : Smith\n",
      "age : 35\n"
     ]
    }
   ],
   "source": [
    "user = {\n",
    "    \"name\" : \"Daniel\",\n",
    "    \"surname\" : \"Smith\",\n",
    "    \"age\" : 35\n",
    "}\n",
    "\n",
    "for key, value in user.items():\n",
    "    print(key, \":\", value)"
   ]
  },
  {
   "cell_type": "code",
   "execution_count": 9,
   "id": "da8e6ff2",
   "metadata": {},
   "outputs": [
    {
     "name": "stdout",
     "output_type": "stream",
     "text": [
      "1 2\n",
      "3 4\n",
      "5 6\n"
     ]
    }
   ],
   "source": [
    "test = [(1,2),(3,4),(5,6)]\n",
    "for i, j in test:\n",
    "    print(i,j)"
   ]
  },
  {
   "cell_type": "code",
   "execution_count": 16,
   "id": "9fa4dd59",
   "metadata": {},
   "outputs": [
    {
     "name": "stdout",
     "output_type": "stream",
     "text": [
      "1 2 11\n",
      "3 4 22\n",
      "5 6 33\n"
     ]
    }
   ],
   "source": [
    "test2 = [(1,2,11),(3,4,22),(5,6,33)]\n",
    "for i,j,t in test2:\n",
    "    print(i, j, t)"
   ]
  },
  {
   "cell_type": "code",
   "execution_count": 18,
   "id": "82c2cd1f",
   "metadata": {},
   "outputs": [
    {
     "name": "stdout",
     "output_type": "stream",
     "text": [
      "(1, 2, 11)\n",
      "(3, 4, 22)\n",
      "(5, 6, 33)\n"
     ]
    }
   ],
   "source": [
    "test2 = [(1,2,11),(3,4,22),(5,6,33)]\n",
    "for i in test2:\n",
    "    print(i)"
   ]
  },
  {
   "cell_type": "code",
   "execution_count": 23,
   "id": "6ab8ed3e",
   "metadata": {},
   "outputs": [
    {
     "name": "stdout",
     "output_type": "stream",
     "text": [
      "Enter a number you want to see its multiplications up to ten: 9\n",
      "9 * 0 = 0\n",
      "9 * 1 = 9\n",
      "9 * 2 = 18\n",
      "9 * 3 = 27\n",
      "9 * 4 = 36\n",
      "9 * 5 = 45\n",
      "9 * 6 = 54\n",
      "9 * 7 = 63\n",
      "9 * 8 = 72\n",
      "9 * 9 = 81\n",
      "9 * 10 = 90\n"
     ]
    }
   ],
   "source": [
    "x = int(input(\"Enter a number you want to see its multiplications up to ten: \"))\n",
    "for i in range(0,11):\n",
    "    print(f\"{x} * {i} =\",x*i)"
   ]
  },
  {
   "cell_type": "code",
   "execution_count": 27,
   "id": "f42ce851",
   "metadata": {},
   "outputs": [
    {
     "name": "stdout",
     "output_type": "stream",
     "text": [
      "10 9 8 7 6 5 4\n"
     ]
    }
   ],
   "source": [
    "print(*range(10,3,-1))"
   ]
  },
  {
   "cell_type": "code",
   "execution_count": 40,
   "id": "44b09ceb",
   "metadata": {},
   "outputs": [
    {
     "name": "stdout",
     "output_type": "stream",
     "text": [
      "1\n",
      "22\n",
      "333\n",
      "4444\n",
      "55555\n",
      "666666\n",
      "7777777\n",
      "88888888\n",
      "999999999\n"
     ]
    }
   ],
   "source": [
    "for i in range(1,10): print(str(i)*i)"
   ]
  },
  {
   "cell_type": "code",
   "execution_count": 41,
   "id": "5ccd9a26",
   "metadata": {},
   "outputs": [
    {
     "name": "stdout",
     "output_type": "stream",
     "text": [
      "5 7 9 11 13 15 17 19 21 23\n"
     ]
    }
   ],
   "source": [
    "print(*range(5,25,2))"
   ]
  },
  {
   "cell_type": "code",
   "execution_count": 42,
   "id": "09b8983f",
   "metadata": {},
   "outputs": [
    {
     "name": "stdout",
     "output_type": "stream",
     "text": [
      "10 8 6 4 2\n"
     ]
    }
   ],
   "source": [
    "print(*range(10,0,-2))"
   ]
  },
  {
   "cell_type": "code",
   "execution_count": 46,
   "id": "bce6eb72",
   "metadata": {},
   "outputs": [
    {
     "name": "stdout",
     "output_type": "stream",
     "text": [
      "one:1:I\n",
      "two:2:II\n",
      "three:3:III\n",
      "four:4:IV\n",
      "five:5:V\n"
     ]
    }
   ],
   "source": [
    "text = [\"one\", \"two\", \"three\", \"four\", \"five\"]\n",
    "numbers = [1,2,3,4,5]\n",
    "z = [\"I\", \"II\", \"III\", \"IV\", \"V\"]\n",
    "for x, y, c in zip (text, numbers,z):\n",
    "    print(str(x) + \":\" + str(y) + \":\" + str(c))"
   ]
  },
  {
   "cell_type": "code",
   "execution_count": 49,
   "id": "eaacd72d",
   "metadata": {},
   "outputs": [
    {
     "name": "stdout",
     "output_type": "stream",
     "text": [
      "Evens:  [2, 4, 6, 8, 10]\n",
      "Odds:  [1, 3, 5, 7, 9]\n"
     ]
    }
   ],
   "source": [
    "a = []\n",
    "b = []\n",
    "for i in range (1,11):\n",
    "    if i % 2 == 0:\n",
    "        a.append(i)\n",
    "    else:\n",
    "        b.append(i)\n",
    "print(\"Evens: \",a)\n",
    "print(\"Odds: \", b)"
   ]
  },
  {
   "cell_type": "code",
   "execution_count": 50,
   "id": "8723e6b5",
   "metadata": {},
   "outputs": [
    {
     "name": "stdout",
     "output_type": "stream",
     "text": [
      "The number of even numbers: 3\n",
      "The number of odd numbers: 4\n"
     ]
    }
   ],
   "source": [
    "example_list = [11, 2, 24, 61, 48, 33, 3]\n",
    "a = [] \n",
    "b = []\n",
    "for i in example_list:\n",
    "    if i % 2 == 0:\n",
    "        a.append(i)\n",
    "    else:\n",
    "        b.append(i)\n",
    "print(\"The number of even numbers:\", len(a))\n",
    "print(\"The number of odd numbers:\", len(b))"
   ]
  },
  {
   "cell_type": "code",
   "execution_count": 51,
   "id": "6cd51ba9",
   "metadata": {},
   "outputs": [
    {
     "name": "stdout",
     "output_type": "stream",
     "text": [
      "2775\n"
     ]
    }
   ],
   "source": [
    "x = 0\n",
    "for i in range (1,75):\n",
    "    x +=i\n",
    "print(x)"
   ]
  },
  {
   "cell_type": "code",
   "execution_count": 53,
   "id": "aed5f4a0",
   "metadata": {},
   "outputs": [
    {
     "name": "stdout",
     "output_type": "stream",
     "text": [
      "I am happy\n",
      "I am confident\n",
      "You are happy\n",
      "You are confident\n"
     ]
    }
   ],
   "source": [
    "who = [\"I am \", \"You are \"]\n",
    "mood = [\"happy\", \"confident\"]\n",
    "for i in who:\n",
    "    for ii in mood:\n",
    "        print(i + ii)"
   ]
  },
  {
   "cell_type": "code",
   "execution_count": 54,
   "id": "7b2d1acc",
   "metadata": {},
   "outputs": [
    {
     "name": "stdout",
     "output_type": "stream",
     "text": [
      "Susan is happy\n",
      "Susan is sad\n",
      "Tom is happy\n",
      "Tom is sad\n",
      "Edward is happy\n",
      "Edward is sad\n"
     ]
    }
   ],
   "source": [
    "names = [\"Susan\" , \"Tom\", \"Edward\"]\n",
    "mood = [\"happy\", \"sad\"]\n",
    "for i in names:\n",
    "    for ii in mood:\n",
    "        print(i, \"is\", ii)"
   ]
  },
  {
   "cell_type": "code",
   "execution_count": null,
   "id": "3f3608a2",
   "metadata": {},
   "outputs": [],
   "source": []
  },
  {
   "cell_type": "code",
   "execution_count": null,
   "id": "a351189c",
   "metadata": {},
   "outputs": [],
   "source": []
  }
 ],
 "metadata": {
  "kernelspec": {
   "display_name": "Python 3 (ipykernel)",
   "language": "python",
   "name": "python3"
  },
  "language_info": {
   "codemirror_mode": {
    "name": "ipython",
    "version": 3
   },
   "file_extension": ".py",
   "mimetype": "text/x-python",
   "name": "python",
   "nbconvert_exporter": "python",
   "pygments_lexer": "ipython3",
   "version": "3.9.7"
  }
 },
 "nbformat": 4,
 "nbformat_minor": 5
}
