{
 "cells": [
  {
   "cell_type": "code",
   "execution_count": 1,
   "id": "030bb8a3-29ae-4a06-83a3-9cc88a604a07",
   "metadata": {},
   "outputs": [
    {
     "name": "stdout",
     "output_type": "stream",
     "text": [
      "generosity wins in all circumstances\n"
     ]
    }
   ],
   "source": [
    "phrase = '{2} {3} {1} {0}'.format('circumstances', 'in all', 'generosity', 'wins')\n",
    "print(phrase)"
   ]
  },
  {
   "cell_type": "code",
   "execution_count": 4,
   "id": "2bec77f8-5271-4489-9b63-893bc54194f6",
   "metadata": {},
   "outputs": [
    {
     "name": "stdout",
     "output_type": "stream",
     "text": [
      "8\n"
     ]
    }
   ],
   "source": [
    "sample = f\"{2**3}\"\n",
    "print(sample)"
   ]
  },
  {
   "cell_type": "code",
   "execution_count": 19,
   "id": "4a926972-c908-41b0-91b2-b314bb41e6b3",
   "metadata": {},
   "outputs": [
    {
     "name": "stdout",
     "output_type": "stream",
     "text": [
      "My name is Mariam\n"
     ]
    }
   ],
   "source": [
    "name = \"MARIAM\"\n",
    "text = f\"{name.capitalize()}\"\n",
    "print (f\"My name is {text}\")"
   ]
  },
  {
   "cell_type": "code",
   "execution_count": 22,
   "id": "0d97cecb-29aa-4e9e-9523-8bfbf804e341",
   "metadata": {},
   "outputs": [
    {
     "name": "stdout",
     "output_type": "stream",
     "text": [
      " Susan is a young lady and she is a student at the CLRWY IT university\n"
     ]
    }
   ],
   "source": [
    "name = \"Susan\"\n",
    "age = \"young\"\n",
    "gender = \"lady\"\n",
    "school = \"CLRWY IT university\"\n",
    "message =(\n",
    "    f\" {name} is a {age}\"\n",
    "    f\" {gender} and she is a student\"\n",
    "    f\" at the {school}\"\n",
    ")\n",
    "print (message)"
   ]
  },
  {
   "cell_type": "code",
   "execution_count": 25,
   "id": "714fe48f-5d03-4d16-8d4a-d253758ad192",
   "metadata": {},
   "outputs": [
    {
     "name": "stdout",
     "output_type": "stream",
     "text": [
      "In God we Trust\n"
     ]
    }
   ],
   "source": [
    "var_str = \"In God we Trust\"\n",
    "var_str.lower()\n",
    "print(var_str)"
   ]
  },
  {
   "cell_type": "code",
   "execution_count": 3,
   "id": "099cc6f4-ceaf-4d42-9dbe-5979fe1dd376",
   "metadata": {},
   "outputs": [
    {
     "name": "stdout",
     "output_type": "stream",
     "text": [
      "Sodome and Gomore\n"
     ]
    }
   ],
   "source": [
    "text = \"S0d0me and G0m0re\"\n",
    "text = text.replace(\"0\",\"o\")\n",
    "print (text)"
   ]
  },
  {
   "cell_type": "code",
   "execution_count": 4,
   "id": "28da60c2",
   "metadata": {},
   "outputs": [
    {
     "name": "stdout",
     "output_type": "stream",
     "text": [
      "YOU CAN LEARN ALMOST EVEYTHING IN PRE-CLASS\n"
     ]
    }
   ],
   "source": [
    "text = \"tyou can learn almost eveything in pre-classz\"\n",
    "print(text.strip(\"tz\").upper())"
   ]
  },
  {
   "cell_type": "code",
   "execution_count": null,
   "id": "79b9f83d",
   "metadata": {},
   "outputs": [],
   "source": []
  }
 ],
 "metadata": {
  "kernelspec": {
   "display_name": "Python 3 (ipykernel)",
   "language": "python",
   "name": "python3"
  },
  "language_info": {
   "codemirror_mode": {
    "name": "ipython",
    "version": 3
   },
   "file_extension": ".py",
   "mimetype": "text/x-python",
   "name": "python",
   "nbconvert_exporter": "python",
   "pygments_lexer": "ipython3",
   "version": "3.9.7"
  }
 },
 "nbformat": 4,
 "nbformat_minor": 5
}
