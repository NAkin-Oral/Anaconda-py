{
 "cells": [
  {
   "cell_type": "code",
   "execution_count": null,
   "id": "d28ab834",
   "metadata": {},
   "outputs": [],
   "source": [
    "x = 1\n",
    "if x < 10000:\n",
    "  for i in range(0,1000000000):\n",
    "    print(x)\n",
    "    x += i\n",
    "    \n"
   ]
  },
  {
   "cell_type": "code",
   "execution_count": 8,
   "id": "ac68e4c4",
   "metadata": {},
   "outputs": [
    {
     "name": "stdout",
     "output_type": "stream",
     "text": [
      "How many steps shall we see: 20\n",
      "Fibonacci series with 20 character is\n",
      "0 , 1 , 1 , 2 , 3 , 5 , 8 , 13 , 21 , 34 , 55 , 89 , 144 , 233 , 377 , 610 , 987 , 1597 , 2584 , 4181 , "
     ]
    }
   ],
   "source": [
    "fibonacci = int(input(\"How many steps shall we see: \"))\n",
    "x = 0\n",
    "y = 1\n",
    "i = 0\n",
    "if fibonacci <= 0:\n",
    "    print(\"Please enter a positive number.\")\n",
    "elif fibonacci == 1:\n",
    "    print(f\"Fibonacci series with {fibonacci} character is:\")\n",
    "    print(x)\n",
    "else:\n",
    "    print(f\"Fibonacci series with {fibonacci} character is\")\n",
    "while i < fibonacci:\n",
    "    print(x,end=' , ')\n",
    "    z = x + y\n",
    "    x = y\n",
    "    y = z\n",
    "    i += 1"
   ]
  },
  {
   "cell_type": "code",
   "execution_count": null,
   "id": "2e9e4135",
   "metadata": {},
   "outputs": [],
   "source": []
  }
 ],
 "metadata": {
  "kernelspec": {
   "display_name": "Python 3 (ipykernel)",
   "language": "python",
   "name": "python3"
  },
  "language_info": {
   "codemirror_mode": {
    "name": "ipython",
    "version": 3
   },
   "file_extension": ".py",
   "mimetype": "text/x-python",
   "name": "python",
   "nbconvert_exporter": "python",
   "pygments_lexer": "ipython3",
   "version": "3.9.7"
  }
 },
 "nbformat": 4,
 "nbformat_minor": 5
}
