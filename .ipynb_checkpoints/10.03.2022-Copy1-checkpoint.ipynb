{
 "cells": [
  {
   "cell_type": "code",
   "execution_count": 22,
   "id": "377835db",
   "metadata": {},
   "outputs": [
    {
     "name": "stdout",
     "output_type": "stream",
     "text": [
      "12\n"
     ]
    }
   ],
   "source": [
    "def  my_function(a,b):\n",
    "    return a * b\n",
    "print(my_function(3, 4))"
   ]
  },
  {
   "cell_type": "code",
   "execution_count": 19,
   "id": "63196dc9",
   "metadata": {},
   "outputs": [
    {
     "name": "stdout",
     "output_type": "stream",
     "text": [
      "12\n",
      "None\n"
     ]
    }
   ],
   "source": [
    "def my_function(width, height):\n",
    "    area = width * height\n",
    "    return (area)\n",
    "print(my_function(3, 4))"
   ]
  },
  {
   "cell_type": "code",
   "execution_count": 3,
   "id": "4e0ff216",
   "metadata": {},
   "outputs": [
    {
     "name": "stdout",
     "output_type": "stream",
     "text": [
      "3\n"
     ]
    }
   ],
   "source": [
    "def add(a, b):\n",
    "    print(a + b)\n",
    "add(1, 2)"
   ]
  },
  {
   "cell_type": "code",
   "execution_count": 5,
   "id": "d08bfd9d",
   "metadata": {},
   "outputs": [
    {
     "name": "stdout",
     "output_type": "stream",
     "text": [
      "110\n"
     ]
    }
   ],
   "source": [
    "def calculator (a, b, c):\n",
    "    if c == \"+\":\n",
    "        print(a + b)\n",
    "    elif c == \"-\":\n",
    "        print(a - b)\n",
    "    elif c == \"*\":\n",
    "        print(a * b)\n",
    "    elif c == \"/\":\n",
    "        print(a / b)\n",
    "    else:\n",
    "        print(\"Enter valid argument\")\n",
    "calculator(88,22,\"+\")"
   ]
  },
  {
   "cell_type": "code",
   "execution_count": 6,
   "id": "bbb5ce67",
   "metadata": {},
   "outputs": [
    {
     "name": "stdout",
     "output_type": "stream",
     "text": [
      "110\n"
     ]
    }
   ],
   "source": [
    "def calculator (a, b, c):\n",
    "    if c == \"+\":\n",
    "        return(a + b)\n",
    "    elif c == \"-\":\n",
    "        return(a - b)\n",
    "    elif c == \"*\":\n",
    "        return(a * b)\n",
    "    elif c == \"/\":\n",
    "        return(a / b)\n",
    "    else:\n",
    "        return(\"Enter valid argument\")\n",
    "print(calculator(88,22,\"+\"))"
   ]
  },
  {
   "cell_type": "code",
   "execution_count": 7,
   "id": "9312583d",
   "metadata": {},
   "outputs": [
    {
     "name": "stdout",
     "output_type": "stream",
     "text": [
      "4\n"
     ]
    }
   ],
   "source": [
    "def absolute_value(a):    #Açıklama kısmı\n",
    "    if a >= 0:            #Pozitif bir değer ise\n",
    "        return a\n",
    "    else:                 #Negatif bir değer ise\n",
    "        return a * (-1)\n",
    "print(absolute_value(-4))"
   ]
  },
  {
   "cell_type": "code",
   "execution_count": 10,
   "id": "9ff98a20",
   "metadata": {},
   "outputs": [
    {
     "name": "stdout",
     "output_type": "stream",
     "text": [
      "I love you\n"
     ]
    }
   ],
   "source": [
    "def texter (x, y, z):\n",
    "    print(y,z,x)\n",
    "a = \"I\"\n",
    "b = \"love\"\n",
    "c = \"you\"\n",
    "texter(c, a, b)"
   ]
  },
  {
   "cell_type": "code",
   "execution_count": null,
   "id": "4a85d5ed",
   "metadata": {},
   "outputs": [],
   "source": []
  }
 ],
 "metadata": {
  "kernelspec": {
   "display_name": "Python 3 (ipykernel)",
   "language": "python",
   "name": "python3"
  },
  "language_info": {
   "codemirror_mode": {
    "name": "ipython",
    "version": 3
   },
   "file_extension": ".py",
   "mimetype": "text/x-python",
   "name": "python",
   "nbconvert_exporter": "python",
   "pygments_lexer": "ipython3",
   "version": "3.9.7"
  }
 },
 "nbformat": 4,
 "nbformat_minor": 5
}
