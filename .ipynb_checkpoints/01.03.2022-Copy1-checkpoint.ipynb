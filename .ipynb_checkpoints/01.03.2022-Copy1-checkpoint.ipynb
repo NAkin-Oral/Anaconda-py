{
 "cells": [
  {
   "cell_type": "code",
   "execution_count": 7,
   "id": "5c4714ca",
   "metadata": {},
   "outputs": [
    {
     "name": "stdout",
     "output_type": "stream",
     "text": [
      "Enter a positive integer number: 121\n",
      "121 is not armstrong number\n"
     ]
    }
   ],
   "source": [
    "x = (input(\"Enter a positive integer number: \"))\n",
    "if not x.isdecimal():\n",
    "    print(\"It is an invalid entry. Don't use non-numeric, float, or negative values!\")\n",
    "else:\n",
    "    total = 0\n",
    "    for digit in x:\n",
    "        total += int(digit) **len(x)\n",
    "    if total == int(x):\n",
    "        print( x, \"is an armstrong number\")\n",
    "    else:\n",
    "        print( x, \"is not an armstrong number\")"
   ]
  },
  {
   "cell_type": "code",
   "execution_count": null,
   "id": "bcd66c2d",
   "metadata": {},
   "outputs": [],
   "source": []
  }
 ],
 "metadata": {
  "kernelspec": {
   "display_name": "Python 3 (ipykernel)",
   "language": "python",
   "name": "python3"
  },
  "language_info": {
   "codemirror_mode": {
    "name": "ipython",
    "version": 3
   },
   "file_extension": ".py",
   "mimetype": "text/x-python",
   "name": "python",
   "nbconvert_exporter": "python",
   "pygments_lexer": "ipython3",
   "version": "3.9.7"
  }
 },
 "nbformat": 4,
 "nbformat_minor": 5
}
