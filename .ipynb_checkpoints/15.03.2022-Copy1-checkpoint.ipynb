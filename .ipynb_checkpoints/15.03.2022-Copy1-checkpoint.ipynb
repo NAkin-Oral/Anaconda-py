{
 "cells": [
  {
   "cell_type": "code",
   "execution_count": 2,
   "id": "b1bb5873",
   "metadata": {},
   "outputs": [
    {
     "name": "stdout",
     "output_type": "stream",
     "text": [
      "Enter a string:ey edip adana'da, pide ye\n",
      "Not a palindrome\n"
     ]
    }
   ],
   "source": [
    "string=input((\"Enter a string:\"))\n",
    "if(string==string[::-1]):\n",
    "      print(\"The string is a palindrome\")\n",
    "else:\n",
    "      print(\"Not a palindrome\")"
   ]
  },
  {
   "cell_type": "code",
   "execution_count": 3,
   "id": "19f2aa03",
   "metadata": {},
   "outputs": [
    {
     "name": "stdout",
     "output_type": "stream",
     "text": [
      "Write a sentence: ey edip adana'da, pide ye!\n",
      "\"ey edip adana'da, pide ye!\"  is a palindrome\n"
     ]
    }
   ],
   "source": [
    "def palindrom():\n",
    "  sentence = input(\"Write a sentence: \")\n",
    "\n",
    "  newsentence = \"\"\n",
    "\n",
    "  for i in sentence:\n",
    "    if i.isalpha():\n",
    "      newsentence += i \n",
    "\n",
    "  result = newsentence.lower() == newsentence[::-1].lower()\n",
    "\n",
    "  if result:\n",
    "    return f'\"{sentence}\"  is a palindrome'\n",
    "  else:\n",
    "    return f'''\"{sentence}\"  is not a palindrome'''\n",
    "\n",
    "print(palindrom())"
   ]
  },
  {
   "cell_type": "code",
   "execution_count": 4,
   "id": "394fa5ee",
   "metadata": {},
   "outputs": [
    {
     "name": "stdout",
     "output_type": "stream",
     "text": [
      "Please enter a word to check: ey edip adana'da, pide ye!\n",
      "eyedipadanadapideye\n",
      "'ey edip adana'da, pide ye!' is a palindrome\n"
     ]
    }
   ],
   "source": [
    "def is_palindrome(string):\n",
    "    return string[::-1].casefold() == string.casefold()\n",
    "def palindrome_sentence(sentence):\n",
    "    string = \"\"\n",
    "    for char in sentence:\n",
    "        if char.isalnum():\n",
    "            string += char\n",
    "    print(string)\n",
    "    return is_palindrome(string)\n",
    "word = input(\"Please enter a word to check: \")\n",
    "if palindrome_sentence(word):\n",
    "    print(\"'{}' is a palindrome\".format(word))\n",
    "else:\n",
    "    print(\"'{}' is not a palindrome\".format(word))"
   ]
  },
  {
   "cell_type": "code",
   "execution_count": 5,
   "id": "81c952ce",
   "metadata": {},
   "outputs": [],
   "source": [
    "def findNextCellToFill(grid, i, j):\n",
    "        for x in range(i,9):\n",
    "                for y in range(j,9):\n",
    "                        if grid[x][y] == 0:\n",
    "                                return x,y\n",
    "        for x in range(0,9):\n",
    "                for y in range(0,9):\n",
    "                        if grid[x][y] == 0:\n",
    "                                return x,y\n",
    "        return -1,-1\n",
    "\n",
    "def isValid(grid, i, j, e):\n",
    "        rowOk = all([e != grid[i][x] for x in range(9)])\n",
    "        if rowOk:\n",
    "                columnOk = all([e != grid[x][j] for x in range(9)])\n",
    "                if columnOk:\n",
    "                        # finding the top left x,y co-ordinates of the section containing the i,j cell\n",
    "                        secTopX, secTopY = 3 *(i//3), 3 *(j//3) #floored quotient should be used here. \n",
    "                        for x in range(secTopX, secTopX+3):\n",
    "                                for y in range(secTopY, secTopY+3):\n",
    "                                        if grid[x][y] == e:\n",
    "                                                return False\n",
    "                        return True\n",
    "        return False\n",
    "\n",
    "def solveSudoku(grid, i=0, j=0):\n",
    "        i,j = findNextCellToFill(grid, i, j)\n",
    "        if i == -1:\n",
    "                return True\n",
    "        for e in range(1,10):\n",
    "                if isValid(grid,i,j,e):\n",
    "                        grid[i][j] = e\n",
    "                        if solveSudoku(grid, i, j):\n",
    "                                return True\n",
    "                        # Undo the current cell for backtracking\n",
    "                        grid[i][j] = 0\n",
    "        return False"
   ]
  },
  {
   "cell_type": "code",
   "execution_count": 6,
   "id": "82cda64e",
   "metadata": {},
   "outputs": [
    {
     "name": "stdout",
     "output_type": "stream",
     "text": [
      "- - - - - - - - - - - - - - - - \n",
      "0  0  0  |  0  6  4  |  0  0  0\n",
      "7  0  0  |  0  0  0  |  3  9  0\n",
      "8  0  0  |  0  0  0  |  0  0  0\n",
      "- - - - - - - - - - - - - - - - \n",
      "0  0  0  |  5  0  2  |  0  6  0\n",
      "0  8  0  |  4  0  0  |  0  0  0\n",
      "3  5  0  |  6  0  0  |  0  7  0\n",
      "- - - - - - - - - - - - - - - - \n",
      "0  0  2  |  0  0  0  |  1  0  3\n",
      "0  0  1  |  0  5  9  |  0  0  0\n",
      "0  0  0  |  0  0  0  |  7  0  0\n",
      "- - - - - - - - - - - - - - - - \n"
     ]
    }
   ],
   "source": [
    "sudoku = [\n",
    "    [0, 0, 0, 0, 6, 4, 0, 0, 0],\n",
    "    [7, 0, 0, 0, 0, 0, 3, 9, 0],\n",
    "    [8, 0, 0, 0, 0, 0, 0, 0, 0],\n",
    "    [0, 0, 0, 5, 0, 2, 0, 6, 0],\n",
    "    [0, 8, 0, 4, 0, 0, 0, 0, 0],\n",
    "    [3, 5, 0, 6, 0, 0, 0, 7, 0],\n",
    "    [0, 0, 2, 0, 0, 0, 1, 0, 3],\n",
    "    [0, 0, 1, 0, 5, 9, 0, 0, 0],\n",
    "    [0, 0, 0, 0, 0, 0, 7, 0, 0]\n",
    "]\n",
    "sudoku.insert(0,[\"- \"*16])\n",
    "sudoku.insert(4,[\"- \"*16])\n",
    "sudoku.insert(8,[\"- \"*16])\n",
    "sudoku.insert(12,[\"- \"*16])\n",
    "for i in range(len(sudoku)):\n",
    "    if i%4!=0:\n",
    "        sudoku[i].insert(3,\"|\")\n",
    "        sudoku[i].insert(7,\"|\")\n",
    "for i in range(len(sudoku)):\n",
    "    if i%4==0:\n",
    "        print(sudoku[i][0])\n",
    "    else:\n",
    "        a=[]\n",
    "        for j in sudoku[i]:\n",
    "            a.append(str(j))\n",
    "        print(\"  \".join(a))"
   ]
  },
  {
   "cell_type": "code",
   "execution_count": 7,
   "id": "e7d925a0",
   "metadata": {},
   "outputs": [
    {
     "name": "stdout",
     "output_type": "stream",
     "text": [
      "- - - - - - - - - - - - - - - \n",
      "0  0  0  | 0  6  4  | 0  0  0  \n",
      "7  0  0  | 0  0  0  | 3  9  0  \n",
      "8  0  0  | 0  0  0  | 0  0  0  \n",
      "- - - - - - - - - - - - - - - \n",
      "0  0  0  | 5  0  2  | 0  6  0  \n",
      "0  8  0  | 4  0  0  | 0  0  0  \n",
      "3  5  0  | 6  0  0  | 0  7  0  \n",
      "- - - - - - - - - - - - - - - \n",
      "0  0  2  | 0  0  0  | 1  0  3  \n",
      "0  0  1  | 0  5  9  | 0  0  0  \n",
      "0  0  0  | 0  0  0  | 7  0  0  \n",
      "- - - - - - - - - - - - - - - \n"
     ]
    }
   ],
   "source": [
    "sudoku = [\n",
    "    [0, 0, 0, 0, 6, 4, 0, 0, 0],\n",
    "    [7, 0, 0, 0, 0, 0, 3, 9, 0],\n",
    "    [8, 0, 0, 0, 0, 0, 0, 0, 0],\n",
    "    [0, 0, 0, 5, 0, 2, 0, 6, 0],\n",
    "    [0, 8, 0, 4, 0, 0, 0, 0, 0],\n",
    "    [3, 5, 0, 6, 0, 0, 0, 7, 0],\n",
    "    [0, 0, 2, 0, 0, 0, 1, 0, 3],\n",
    "    [0, 0, 1, 0, 5, 9, 0, 0, 0],\n",
    "    [0, 0, 0, 0, 0, 0, 7, 0, 0]\n",
    "]\n",
    "\n",
    "# --------------------------------------------- #\n",
    "\n",
    "count = 0\n",
    "print(\"- - - - - - - - - - - - - - - \")\n",
    "for i in sudoku:\n",
    "    for j in range(9):\n",
    "        print(i[j], \" \", end=\"\")\n",
    "        if (j+1) == 9 : \n",
    "            print()\n",
    "            count+=1\n",
    "            if count%3==0 and count!=0 :\n",
    "                print(\"- - - - - - - - - - - - - - - \")\n",
    "        if (j+1) % 3 == 0 and j != 0 and j!=8: \n",
    "             print(\"| \", end=\"\")"
   ]
  },
  {
   "cell_type": "code",
   "execution_count": 10,
   "id": "b8dff49d",
   "metadata": {},
   "outputs": [
    {
     "name": "stdout",
     "output_type": "stream",
     "text": [
      "qq\n",
      "pp\n",
      "rr\n"
     ]
    }
   ],
   "source": [
    "for x in set('pqr'):\n",
    "    print(x*2)"
   ]
  },
  {
   "cell_type": "code",
   "execution_count": 11,
   "id": "069b12cb",
   "metadata": {},
   "outputs": [
    {
     "data": {
      "text/plain": [
       "40"
      ]
     },
     "execution_count": 11,
     "metadata": {},
     "output_type": "execute_result"
    }
   ],
   "source": [
    "d = {\"john\":40, \"peter\":45}\n",
    "d[\"john\"]\n"
   ]
  },
  {
   "cell_type": "code",
   "execution_count": 12,
   "id": "139b6bfe",
   "metadata": {},
   "outputs": [
    {
     "name": "stdout",
     "output_type": "stream",
     "text": [
      "['john', 'peter']\n"
     ]
    }
   ],
   "source": [
    "d = {\"john\":40, \"peter\":45}\n",
    "print(list(d.keys()))"
   ]
  },
  {
   "cell_type": "code",
   "execution_count": 13,
   "id": "3c5d683e",
   "metadata": {},
   "outputs": [
    {
     "name": "stdout",
     "output_type": "stream",
     "text": [
      "{'a': 1, 'b': [2, 3, 4]}\n"
     ]
    }
   ],
   "source": [
    "a={}\n",
    "a['a']=1\n",
    "a['b']=[2,3,4]\n",
    "print(a)"
   ]
  },
  {
   "cell_type": "code",
   "execution_count": 14,
   "id": "baf0c9bc",
   "metadata": {},
   "outputs": [
    {
     "name": "stdout",
     "output_type": "stream",
     "text": [
      "{'b', 'q', 'p', 'c', 'a', 'san'}\n"
     ]
    }
   ],
   "source": [
    "z=set('abc')\n",
    "z.add('san')\n",
    "z.update(set(['p', 'q']))\n",
    "print(z)"
   ]
  },
  {
   "cell_type": "code",
   "execution_count": 15,
   "id": "f051ac5a",
   "metadata": {},
   "outputs": [
    {
     "name": "stdout",
     "output_type": "stream",
     "text": [
      "[(2019, 'Freshman'), (2020, 'Sophomore'), (2021, 'Junior'), (2022, 'Senior')]\n"
     ]
    }
   ],
   "source": [
    "college_years = ['Freshman', 'Sophomore', 'Junior', 'Senior']\n",
    "print(list(enumerate(college_years, 2019)))"
   ]
  },
  {
   "cell_type": "code",
   "execution_count": null,
   "id": "9f91d303",
   "metadata": {},
   "outputs": [],
   "source": []
  }
 ],
 "metadata": {
  "kernelspec": {
   "display_name": "Python 3 (ipykernel)",
   "language": "python",
   "name": "python3"
  },
  "language_info": {
   "codemirror_mode": {
    "name": "ipython",
    "version": 3
   },
   "file_extension": ".py",
   "mimetype": "text/x-python",
   "name": "python",
   "nbconvert_exporter": "python",
   "pygments_lexer": "ipython3",
   "version": "3.9.7"
  }
 },
 "nbformat": 4,
 "nbformat_minor": 5
}
