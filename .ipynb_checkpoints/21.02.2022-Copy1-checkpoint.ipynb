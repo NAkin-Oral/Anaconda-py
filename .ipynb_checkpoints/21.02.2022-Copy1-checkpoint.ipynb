{
 "cells": [
  {
   "cell_type": "code",
   "execution_count": 1,
   "id": "7057e6d8",
   "metadata": {},
   "outputs": [
    {
     "name": "stdout",
     "output_type": "stream",
     "text": [
      "{'pink', 'red', 'blue'}\n",
      "{'pink', 'red', 'blue'}\n"
     ]
    }
   ],
   "source": [
    "set_1 = {\"red\",\"blue\",\"pink\",\"red\"}\n",
    "colors = \"red\",\"blue\",\"pink\",\"red\"\n",
    "set_2 = set(colors)\n",
    "print(set_1)\n",
    "print(set_2)"
   ]
  },
  {
   "cell_type": "code",
   "execution_count": 2,
   "id": "92e5eca5",
   "metadata": {},
   "outputs": [
    {
     "name": "stdout",
     "output_type": "stream",
     "text": [
      "{'pink', 'red', 'blue'}\n"
     ]
    }
   ],
   "source": [
    "set_1 = {\"red\",\"blue\",\"pink\",\"red\"}\n",
    "colors = \"red\",\"blue\",\"pink\",\"red\"\n",
    "set_2 = set(colors)\n",
    "print(set_1)"
   ]
  },
  {
   "cell_type": "code",
   "execution_count": 3,
   "id": "099e4356",
   "metadata": {},
   "outputs": [
    {
     "data": {
      "text/plain": [
       "{0, 1, 2}"
      ]
     },
     "execution_count": 3,
     "metadata": {},
     "output_type": "execute_result"
    }
   ],
   "source": [
    "ilk_küme = {1, 1, 2, 0, 1}\n",
    "ilk_küme"
   ]
  },
  {
   "cell_type": "code",
   "execution_count": 4,
   "id": "da11601d",
   "metadata": {},
   "outputs": [
    {
     "data": {
      "text/plain": [
       "5"
      ]
     },
     "execution_count": 4,
     "metadata": {},
     "output_type": "execute_result"
    }
   ],
   "source": [
    "len([1, 1, 2, 0, 1])"
   ]
  },
  {
   "cell_type": "code",
   "execution_count": 5,
   "id": "d0a4ebe6",
   "metadata": {},
   "outputs": [
    {
     "data": {
      "text/plain": [
       "3"
      ]
     },
     "execution_count": 5,
     "metadata": {},
     "output_type": "execute_result"
    }
   ],
   "source": [
    "len({1, 1, 2, 0, 1})"
   ]
  },
  {
   "cell_type": "code",
   "execution_count": 6,
   "id": "b80531ef",
   "metadata": {},
   "outputs": [
    {
     "name": "stdout",
     "output_type": "stream",
     "text": [
      "['a', 'b', 'c', 'd', 'e', 'f', 'g', 'h', 'i', 'j', 'k', 'l', 'm', 'n', 'o', 'p', 'q', 'r', 's', 't', 'u', 'w', 'x', 'v', 'y', 'z']\n"
     ]
    }
   ],
   "source": [
    "letter = \"a b c d e f g h i j k l m n o p q r s t u w x v y z\".split()\n",
    "print (letter)"
   ]
  },
  {
   "cell_type": "code",
   "execution_count": 7,
   "id": "28deb4e7",
   "metadata": {},
   "outputs": [
    {
     "name": "stdout",
     "output_type": "stream",
     "text": [
      "{'b', 'f', 't', 'g', 'n', 'm', 'd', 's', 'a', 'u', 'p', 'w', 'c', 'h', 'o', 'v', 'z', 'i', 'y', 'l', 'k', 'j', 'e', 'q', 'r', 'x'}\n"
     ]
    }
   ],
   "source": [
    "print(set(letter))"
   ]
  },
  {
   "cell_type": "code",
   "execution_count": 1,
   "id": "7babfa9e",
   "metadata": {},
   "outputs": [
    {
     "name": "stdout",
     "output_type": "stream",
     "text": [
      "['a', 'b', 'c', 'd', 'e', 'f', 'g', 'h', 'i', 'j', 'k', 'l', 'm', 'n', 'o', 'p', 'q', 'r', 's', 't', 'u', 'w', 'x', 'v', 'y', 'z']\n"
     ]
    }
   ],
   "source": [
    "letter = \"a b c d e f g h i j k l m n o p q r s t u w x v y z\".split()\n",
    "print (letter)"
   ]
  },
  {
   "cell_type": "code",
   "execution_count": 2,
   "id": "cb7437dd",
   "metadata": {},
   "outputs": [
    {
     "name": "stdout",
     "output_type": "stream",
     "text": [
      "{'d', 'a', 'k', 'p', 't', 'x', 'u', 'n', 'l', 'y', 'w', 'e', 'g', 'h', 'v', 'r', 's', 'j', 'c', 'o', 'm', 'f', 'q', 'i', 'b', 'z'}\n"
     ]
    }
   ],
   "source": [
    "print(set(letter))"
   ]
  },
  {
   "cell_type": "code",
   "execution_count": 3,
   "id": "153a2b8b",
   "metadata": {},
   "outputs": [],
   "source": [
    "şöyle_bişey = {1, \"1\", 1.0}"
   ]
  },
  {
   "cell_type": "code",
   "execution_count": 5,
   "id": "fbb33264",
   "metadata": {},
   "outputs": [
    {
     "name": "stdout",
     "output_type": "stream",
     "text": [
      "{'1', 1}\n"
     ]
    }
   ],
   "source": [
    "len(şöyle_bişey)\n",
    "print(şöyle_bişey)"
   ]
  },
  {
   "cell_type": "code",
   "execution_count": 6,
   "id": "bc9b1a68",
   "metadata": {},
   "outputs": [],
   "source": [
    "given_list = [1, 2, 3, 4, 5]"
   ]
  },
  {
   "cell_type": "code",
   "execution_count": 7,
   "id": "76f61f73",
   "metadata": {},
   "outputs": [
    {
     "ename": "TypeError",
     "evalue": "unhashable type: 'list'",
     "output_type": "error",
     "traceback": [
      "\u001b[1;31m---------------------------------------------------------------------------\u001b[0m",
      "\u001b[1;31mTypeError\u001b[0m                                 Traceback (most recent call last)",
      "\u001b[1;32m~\\AppData\\Local\\Temp/ipykernel_10832/3432621241.py\u001b[0m in \u001b[0;36m<module>\u001b[1;34m\u001b[0m\n\u001b[1;32m----> 1\u001b[1;33m \u001b[0mx\u001b[0m \u001b[1;33m=\u001b[0m \u001b[1;33m{\u001b[0m\u001b[0mgiven_list\u001b[0m\u001b[1;33m}\u001b[0m\u001b[1;33m\u001b[0m\u001b[1;33m\u001b[0m\u001b[0m\n\u001b[0m",
      "\u001b[1;31mTypeError\u001b[0m: unhashable type: 'list'"
     ]
    }
   ],
   "source": [
    "x = {given_list}"
   ]
  },
  {
   "cell_type": "code",
   "execution_count": 8,
   "id": "62a62506",
   "metadata": {},
   "outputs": [],
   "source": [
    "x = set(given_list)"
   ]
  },
  {
   "cell_type": "code",
   "execution_count": 9,
   "id": "533d327d",
   "metadata": {},
   "outputs": [
    {
     "data": {
      "text/plain": [
       "{1, 2, 3, 4, 5}"
      ]
     },
     "execution_count": 9,
     "metadata": {},
     "output_type": "execute_result"
    }
   ],
   "source": [
    "x"
   ]
  },
  {
   "cell_type": "code",
   "execution_count": 3,
   "id": "b6c3387d",
   "metadata": {},
   "outputs": [],
   "source": [
    "a = {'carnation', 'orchid', 'rose', 'violet'} \n",
    "b = {'rose', 'orchid', 'rose', 'violet', 'carnation'} "
   ]
  },
  {
   "cell_type": "code",
   "execution_count": 4,
   "id": "66590860",
   "metadata": {},
   "outputs": [
    {
     "data": {
      "text/plain": [
       "{'carnation', 'lily', 'orchid', 'rose', 'violet'}"
      ]
     },
     "execution_count": 4,
     "metadata": {},
     "output_type": "execute_result"
    }
   ],
   "source": [
    "a.add (\"lily\")\n",
    "a"
   ]
  },
  {
   "cell_type": "code",
   "execution_count": 5,
   "id": "af521b37",
   "metadata": {},
   "outputs": [
    {
     "data": {
      "text/plain": [
       "{'carnation', 'lily', 'orchid', 'violet'}"
      ]
     },
     "execution_count": 5,
     "metadata": {},
     "output_type": "execute_result"
    }
   ],
   "source": [
    "a.remove (\"rose\")\n",
    "a"
   ]
  },
  {
   "cell_type": "code",
   "execution_count": 6,
   "id": "196edb9d",
   "metadata": {},
   "outputs": [
    {
     "name": "stdout",
     "output_type": "stream",
     "text": [
      "{'rose', 'violet', 'orchid', 'carnation', 'lily'}\n"
     ]
    }
   ],
   "source": [
    "print(a|b)"
   ]
  },
  {
   "cell_type": "code",
   "execution_count": 7,
   "id": "8ffaa21c",
   "metadata": {},
   "outputs": [],
   "source": [
    "x = {\"dolphin\"}"
   ]
  },
  {
   "cell_type": "code",
   "execution_count": 8,
   "id": "5501fdf7",
   "metadata": {},
   "outputs": [
    {
     "data": {
      "text/plain": [
       "{'dolphin'}"
      ]
     },
     "execution_count": 8,
     "metadata": {},
     "output_type": "execute_result"
    }
   ],
   "source": [
    "x"
   ]
  },
  {
   "cell_type": "code",
   "execution_count": 9,
   "id": "b328629f",
   "metadata": {},
   "outputs": [
    {
     "data": {
      "text/plain": [
       "{1, 2, 3, 4, 5}"
      ]
     },
     "execution_count": 9,
     "metadata": {},
     "output_type": "execute_result"
    }
   ],
   "source": [
    "given_list = [1, 2, 3, 3, 3, 3, 4, 4, 5, 5]\n",
    "x = set(given_list)\n",
    "x"
   ]
  },
  {
   "cell_type": "code",
   "execution_count": 20,
   "id": "c41e03e1",
   "metadata": {},
   "outputs": [
    {
     "name": "stdout",
     "output_type": "stream",
     "text": [
      "{'a', 's', 'h'}\n",
      "{'l', 's', 't', 'n', 'h', 'i', 'w', 'o', 'e', 'a', 'g'}\n",
      "{'t', 'n', 'i', 'w', 'o', 'g'}\n"
     ]
    }
   ],
   "source": [
    "usa = set(\"washington\")\n",
    "new_zeland = set(\"wellington\")\n",
    "print(usa - new_zeland)\n",
    "print(usa | new_zeland)\n",
    "print(usa.intersection(new_zeland))"
   ]
  },
  {
   "cell_type": "code",
   "execution_count": 22,
   "id": "68c1f4aa",
   "metadata": {},
   "outputs": [
    {
     "name": "stdout",
     "output_type": "stream",
     "text": [
      "hello\n"
     ]
    }
   ],
   "source": [
    "if [\"\"]:\n",
    "    print(\"hello\")"
   ]
  },
  {
   "cell_type": "code",
   "execution_count": 23,
   "id": "75c72230",
   "metadata": {},
   "outputs": [],
   "source": [
    "ing = {\"minced meat\",\"hamburger bread\",(\"lettuce\" or \"pepper\"),\"grocery store\"}"
   ]
  },
  {
   "cell_type": "code",
   "execution_count": 30,
   "id": "86ba478e",
   "metadata": {},
   "outputs": [
    {
     "name": "stdout",
     "output_type": "stream",
     "text": [
      "is there a open grocery store:(y/n) y\n",
      "lets look for ingridients\n",
      "is there minced meat in store:(y/n) y\n",
      "is there lettuce in store:(y/n) n\n",
      "is there onion in store:(y/n) y\n",
      "You got it all\n",
      "have a nice day\n"
     ]
    }
   ],
   "source": [
    "x = input(\"is there a open grocery store:(y/n) \")\n",
    "if (x == \"y\"):\n",
    "    print(\"lets look for ingridients\")\n",
    "    y = input(\"is there minced meat in store:(y/n) \")\n",
    "    if y ==\"y\":\n",
    "        z = input(\"is there lettuce in store:(y/n) \")\n",
    "        c = input(\"is there onion in store:(y/n) \")\n",
    "        if (z or c == \"y\"):\n",
    "            print(\"You got it all\")\n",
    "print(\"have a nice day\")"
   ]
  },
  {
   "cell_type": "code",
   "execution_count": 32,
   "id": "3a57505d",
   "metadata": {},
   "outputs": [
    {
     "name": "stdout",
     "output_type": "stream",
     "text": [
      "We are the same\n"
     ]
    }
   ],
   "source": [
    "x = set(\"TWELVE PLUS ONE\")\n",
    "y = set(\"ELEVEN PLUS TWO\")\n",
    "if x == y:\n",
    "    print(\"We are the same\")"
   ]
  },
  {
   "cell_type": "code",
   "execution_count": 39,
   "id": "48c1612d",
   "metadata": {},
   "outputs": [
    {
     "name": "stdout",
     "output_type": "stream",
     "text": [
      "Please type yes or no: yEs \n",
      "True\n"
     ]
    }
   ],
   "source": [
    "x = input(\"Please type yes or no: \")\n",
    "new_x = x.lower().strip()\n",
    "if new_x == \"yes\":\n",
    "    print(True)\n",
    "if new_x == \"no\":\n",
    "    print(False)\n"
   ]
  },
  {
   "cell_type": "code",
   "execution_count": null,
   "id": "78f7e1ba",
   "metadata": {},
   "outputs": [],
   "source": []
  }
 ],
 "metadata": {
  "kernelspec": {
   "display_name": "Python 3 (ipykernel)",
   "language": "python",
   "name": "python3"
  },
  "language_info": {
   "codemirror_mode": {
    "name": "ipython",
    "version": 3
   },
   "file_extension": ".py",
   "mimetype": "text/x-python",
   "name": "python",
   "nbconvert_exporter": "python",
   "pygments_lexer": "ipython3",
   "version": "3.9.7"
  }
 },
 "nbformat": 4,
 "nbformat_minor": 5
}
