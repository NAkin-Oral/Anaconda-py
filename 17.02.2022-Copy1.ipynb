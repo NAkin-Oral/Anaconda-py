{
 "cells": [
  {
   "cell_type": "code",
   "execution_count": 12,
   "id": "140472a3",
   "metadata": {},
   "outputs": [
    {
     "name": "stdout",
     "output_type": "stream",
     "text": [
      "Please enter your name: Nao\n",
      "Welcome Nao, your password is: 123321\n"
     ]
    }
   ],
   "source": [
    "name = input(\"Please enter your name: \")\n",
    "if name == \"Nao\":\n",
    "    print(\"Welcome Nao, your password is: 123321\")\n",
    "else:\n",
    "    print(\"Welcome\",name,\"see you later!\")"
   ]
  },
  {
   "cell_type": "code",
   "execution_count": 11,
   "id": "5433587f",
   "metadata": {},
   "outputs": [
    {
     "name": "stdout",
     "output_type": "stream",
     "text": [
      "Please enter your age: 15\n",
      "Do you have a chronic disease(yes or no): no\n",
      "Do you have a weak immune systems(yes or no): no\n",
      "Do you have a cigarette addiction(yes or no): no\n",
      "You are not in risky group\n"
     ]
    }
   ],
   "source": [
    "age = int(input(\"Please enter your age: \"))\n",
    "chronic = input(\"Do you have a chronic disease(yes or no): \")\n",
    "immune = input(\"Do you have a weak immune systems(yes or no): \")\n",
    "addiction = input(\"Do you have a cigarette addiction(yes or no): \")\n",
    "if (age > 75):\n",
    "    age = 1\n",
    "else:\n",
    "    age = 0\n",
    "if (addiction == \"yes\"):\n",
    "    addiction = 1\n",
    "else:\n",
    "    addiction = 0\n",
    "if (immune == \"yes\"):\n",
    "    immune = 1\n",
    "else:\n",
    "    immune = 0\n",
    "if (chronic == \"yes\"):\n",
    "    chronic = 1\n",
    "else:\n",
    "    chronic = 0\n",
    "if (age and addiction == 1):\n",
    "    per = 1\n",
    "else:\n",
    "    per = 0\n",
    "if (per or immune or chronic == 1):\n",
    "    risk = 1\n",
    "else:\n",
    "    risk = 0\n",
    "if (risk == 1):\n",
    "    print(\"You are in risky group\")\n",
    "else:\n",
    "    print(\"You are not in risky group\")"
   ]
  },
  {
   "cell_type": "code",
   "execution_count": 12,
   "id": "ac6de041",
   "metadata": {},
   "outputs": [
    {
     "name": "stdout",
     "output_type": "stream",
     "text": [
      "Please type your word using letters a to z: clarusway\n",
      "True\n"
     ]
    }
   ],
   "source": [
    "left = {\"q\", \"w\", \"e\", \"r\", \"t\", \"a\", \"s\", \"d\", \"f\", \"g\", \"z\", \"x\", \"c\", \"v\", \"b\"}\n",
    "right = {\"y\", \"u\", \"i\", \"o\", \"p\", \"h\", \"j\", \"k\", \"l\", \"n\", \"m\"}\n",
    "x = input(\"Please type your word using letters a to z: \")\n",
    "word = set(x)\n",
    "if (word.intersection(left)) == set():\n",
    "    print(\"False\")\n",
    "else:\n",
    "    if (word.intersection(right)) == set():\n",
    "        print(\"False\")\n",
    "    else:\n",
    "        print(\"True\")"
   ]
  },
  {
   "cell_type": "code",
   "execution_count": null,
   "id": "26511d7d",
   "metadata": {},
   "outputs": [],
   "source": []
  }
 ],
 "metadata": {
  "kernelspec": {
   "display_name": "Python 3 (ipykernel)",
   "language": "python",
   "name": "python3"
  },
  "language_info": {
   "codemirror_mode": {
    "name": "ipython",
    "version": 3
   },
   "file_extension": ".py",
   "mimetype": "text/x-python",
   "name": "python",
   "nbconvert_exporter": "python",
   "pygments_lexer": "ipython3",
   "version": "3.9.7"
  }
 },
 "nbformat": 4,
 "nbformat_minor": 5
}
