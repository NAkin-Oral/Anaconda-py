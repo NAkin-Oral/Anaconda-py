{
 "cells": [
  {
   "cell_type": "code",
   "execution_count": 10,
   "id": "d440e396",
   "metadata": {},
   "outputs": [
    {
     "data": {
      "text/plain": [
       "14"
      ]
     },
     "execution_count": 10,
     "metadata": {},
     "output_type": "execute_result"
    }
   ],
   "source": [
    "0xe"
   ]
  },
  {
   "cell_type": "code",
   "execution_count": 11,
   "id": "b4ada6eb",
   "metadata": {},
   "outputs": [
    {
     "name": "stdout",
     "output_type": "stream",
     "text": [
      "5\n",
      "6\n",
      "7\n",
      "8\n",
      "9\n",
      "10\n",
      "11\n",
      "12\n",
      "13\n"
     ]
    }
   ],
   "source": [
    "i = 5\n",
    "while True:\n",
    "    if i%0xe == 0:\n",
    "        break\n",
    "    print(i)\n",
    "    i += 1"
   ]
  },
  {
   "cell_type": "code",
   "execution_count": 12,
   "id": "e9ec3493",
   "metadata": {},
   "outputs": [
    {
     "ename": "TypeError",
     "evalue": "'int' object is not subscriptable",
     "output_type": "error",
     "traceback": [
      "\u001b[1;31m---------------------------------------------------------------------------\u001b[0m",
      "\u001b[1;31mTypeError\u001b[0m                                 Traceback (most recent call last)",
      "\u001b[1;32m~\\AppData\\Local\\Temp/ipykernel_13084/3053026708.py\u001b[0m in \u001b[0;36m<module>\u001b[1;34m\u001b[0m\n\u001b[0;32m      1\u001b[0m \u001b[0mx\u001b[0m \u001b[1;33m=\u001b[0m \u001b[1;34m'abcd'\u001b[0m\u001b[1;33m\u001b[0m\u001b[1;33m\u001b[0m\u001b[0m\n\u001b[0;32m      2\u001b[0m \u001b[1;32mfor\u001b[0m \u001b[0mi\u001b[0m \u001b[1;32min\u001b[0m \u001b[0mrange\u001b[0m\u001b[1;33m(\u001b[0m\u001b[0mlen\u001b[0m\u001b[1;33m(\u001b[0m\u001b[0mx\u001b[0m\u001b[1;33m)\u001b[0m\u001b[1;33m)\u001b[0m\u001b[1;33m:\u001b[0m\u001b[1;33m\u001b[0m\u001b[1;33m\u001b[0m\u001b[0m\n\u001b[1;32m----> 3\u001b[1;33m      \u001b[0mi\u001b[0m\u001b[1;33m[\u001b[0m\u001b[0mx\u001b[0m\u001b[1;33m]\u001b[0m\u001b[1;33m.\u001b[0m\u001b[0mupper\u001b[0m\u001b[1;33m(\u001b[0m\u001b[1;33m)\u001b[0m\u001b[1;33m\u001b[0m\u001b[1;33m\u001b[0m\u001b[0m\n\u001b[0m\u001b[0;32m      4\u001b[0m \u001b[0mprint\u001b[0m \u001b[1;33m(\u001b[0m\u001b[0mx\u001b[0m\u001b[1;33m)\u001b[0m\u001b[1;33m\u001b[0m\u001b[1;33m\u001b[0m\u001b[0m\n",
      "\u001b[1;31mTypeError\u001b[0m: 'int' object is not subscriptable"
     ]
    }
   ],
   "source": [
    "x = 'abcd'\n",
    "for i in range(len(x)):\n",
    "     i[x].upper()\n",
    "print (x)"
   ]
  },
  {
   "cell_type": "code",
   "execution_count": 48,
   "id": "4ff4dcd6",
   "metadata": {},
   "outputs": [
    {
     "name": "stdout",
     "output_type": "stream",
     "text": [
      "[90, 89, 89, 78, 78]\n"
     ]
    }
   ],
   "source": [
    "liste = [89,12,45,67,78,89,70,90,67,78]\n",
    "top_5 = []\n",
    "count = 0\n",
    "for i in range(len(liste)):\n",
    "    top_5.append(max(liste))\n",
    "    liste.remove(max(liste))\n",
    "    count +=1\n",
    "    if count == 5:\n",
    "        break\n",
    "print(top_5)"
   ]
  },
  {
   "cell_type": "code",
   "execution_count": 53,
   "id": "fe1a37e5",
   "metadata": {},
   "outputs": [
    {
     "name": "stdout",
     "output_type": "stream",
     "text": [
      "[90, 89, 78, 70, 67]\n"
     ]
    }
   ],
   "source": [
    "liste = [89,12,45,67,78,89,70,90,67,78]\n",
    "print(sorted(list(set(liste)), reverse = True)[:5])"
   ]
  },
  {
   "cell_type": "code",
   "execution_count": 73,
   "id": "b0e91064",
   "metadata": {},
   "outputs": [
    {
     "name": "stdout",
     "output_type": "stream",
     "text": [
      "[90, 89, 78, 70, 67]\n"
     ]
    }
   ],
   "source": [
    "liste = [89,12,45,67,78,89,70,90,67,78]\n",
    "top_5 = []\n",
    "liste = list(set(liste))\n",
    "count = 0\n",
    "for i in range(len(liste)):\n",
    "    top_5.append(max(liste))\n",
    "    liste.remove(max(liste))\n",
    "    count +=1\n",
    "    if count == 5:\n",
    "        break\n",
    "print(top_5)"
   ]
  },
  {
   "cell_type": "code",
   "execution_count": null,
   "id": "7119b4ff",
   "metadata": {},
   "outputs": [],
   "source": []
  }
 ],
 "metadata": {
  "kernelspec": {
   "display_name": "Python 3 (ipykernel)",
   "language": "python",
   "name": "python3"
  },
  "language_info": {
   "codemirror_mode": {
    "name": "ipython",
    "version": 3
   },
   "file_extension": ".py",
   "mimetype": "text/x-python",
   "name": "python",
   "nbconvert_exporter": "python",
   "pygments_lexer": "ipython3",
   "version": "3.9.7"
  }
 },
 "nbformat": 4,
 "nbformat_minor": 5
}
