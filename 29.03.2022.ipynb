{
 "cells": [
  {
   "cell_type": "code",
   "execution_count": 1,
   "id": "374654e3",
   "metadata": {},
   "outputs": [],
   "source": [
    "from turtle import *\n",
    "\n",
    "bgcolor('black')\n",
    "speed(0)\n",
    "hideturtle()\n",
    "\n",
    "for i in range(120):\n",
    "    color('red')\n",
    "    circle(i)\n",
    "    color('orange')\n",
    "    circle(i*0.8)\n",
    "    right(3)\n",
    "    forward(3)\n",
    "done()"
   ]
  },
  {
   "cell_type": "code",
   "execution_count": 1,
   "id": "6478f869",
   "metadata": {},
   "outputs": [],
   "source": [
    "from turtle import *\n",
    "speed(1)\n",
    "bgcolor('black')\n",
    "penup()\n",
    "goto(-50,60)\n",
    "pendown()\n",
    "color('blue')\n",
    "begin_fill()\n",
    "goto (100,100)\n",
    "goto (100,-100)\n",
    "\n",
    "goto(-50,-60)\n",
    "goto(-50,60)\n",
    "end_fill()\n",
    "color('black')\n",
    "goto(15,100)\n",
    "\n",
    "color('black')\n",
    "width(10)\n",
    "goto (15,-100)\n",
    "penup()\n",
    "goto(100,0)\n",
    "pendown()\n",
    "goto(-100,0)\n",
    "done()"
   ]
  },
  {
   "cell_type": "code",
   "execution_count": 1,
   "id": "44ffe6be",
   "metadata": {},
   "outputs": [
    {
     "name": "stdout",
     "output_type": "stream",
     "text": [
      "3   9\n"
     ]
    }
   ],
   "source": [
    "def function1(var1=5, var2=7):\n",
    " var2=9\n",
    " var1=3\n",
    " print (var1, \" \", var2)\n",
    "function1(10,12)"
   ]
  },
  {
   "cell_type": "code",
   "execution_count": 2,
   "id": "8e8ccf0d",
   "metadata": {},
   "outputs": [
    {
     "name": "stdout",
     "output_type": "stream",
     "text": [
      "name: ali\n",
      "phone number: 41646\n",
      "adress: ankara\n",
      "['ali'] [{'phone': 41646, 'adress': 'ankara'}]\n",
      "for new input press 'y' otherwise press 'n': y\n",
      "name: veli\n",
      "phone number: beşyüzseksenaltı\n",
      "adress: istanbul\n",
      "please input an integer value as phone number: 586\n",
      "['ali', 'veli'] [{'phone': 41646, 'adress': 'ankara'}, {'phone': 586, 'adress': 'istanbul'}]\n",
      "for new input press 'y' otherwise press 'n': y\n",
      "name: ziya\n",
      "phone number: 498\n",
      "adress: antalya\n",
      "['ali', 'veli', 'ziya'] [{'phone': 41646, 'adress': 'ankara'}, {'phone': 586, 'adress': 'istanbul'}, {'phone': 498, 'adress': 'antalya'}]\n",
      "for new input press 'y' otherwise press 'n': n\n",
      "kayıt sayısı: 3\n",
      "{'ali': {'phone': 41646, 'adress': 'ankara'}, 'veli': {'phone': 586, 'adress': 'istanbul'}, 'ziya': {'phone': 498, 'adress': 'antalya'}}\n"
     ]
    }
   ],
   "source": [
    "laborer = []\n",
    "information_list = []\n",
    "toplam = 0\n",
    "repeater = \"y\"\n",
    "while repeater == \"y\":\n",
    "    laborer.append(input(\"name: \"))\n",
    "    phone = input(\"phone number: \")\n",
    "    adress = input(\"adress: \")\n",
    "    if type(phone) != int:\n",
    "        try:\n",
    "            phone = int(phone)\n",
    "        except:\n",
    "            phone = int(input(\"please input an integer value as phone number: \"))\n",
    "        finally:\n",
    "            information_list.append(dict(phone = phone, adress = adress))\n",
    "            print(laborer, information_list)\n",
    "            toplam += 1\n",
    "    else:\n",
    "        information_list.append(dict(phone = phone, adress = adress))\n",
    "        print(information_list)\n",
    "        toplam += 1\n",
    "    repeater = input(\"for new input press 'y' otherwise press 'n': \").lower().strip()\n",
    "result = dict(zip(laborer,information_list))\n",
    "print(\"kayıt sayısı:\", toplam)\n",
    "print(result)"
   ]
  },
  {
   "cell_type": "code",
   "execution_count": 5,
   "id": "bdeef3dd",
   "metadata": {},
   "outputs": [
    {
     "name": "stdout",
     "output_type": "stream",
     "text": [
      "2\n"
     ]
    }
   ],
   "source": [
    "cc = 2\n",
    "if False:\n",
    "    cc = 2\n",
    "def Helmet():\n",
    "    if True:\n",
    "        cc = 40\n",
    "        return cc\n",
    "Helmet()\n",
    "print(cc)"
   ]
  },
  {
   "cell_type": "code",
   "execution_count": 15,
   "id": "e0955ee1",
   "metadata": {},
   "outputs": [
    {
     "name": "stdout",
     "output_type": "stream",
     "text": [
      "40\n"
     ]
    }
   ],
   "source": [
    "def OuterFunction():\n",
    "    b = 20\n",
    "    def InnerFunction():\n",
    "        nonlocal b\n",
    "        b = 10\n",
    "        c = 30\n",
    "        return c\n",
    "    return InnerFunction() + b\n",
    "print(OuterFunction())"
   ]
  },
  {
   "cell_type": "code",
   "execution_count": 18,
   "id": "14039095",
   "metadata": {},
   "outputs": [
    {
     "name": "stdout",
     "output_type": "stream",
     "text": [
      "3 12\n",
      "9 25\n",
      "9 18\n",
      "15 3\n"
     ]
    }
   ],
   "source": [
    "z = 3\n",
    "def Oracle(a,b,c):\n",
    "    if a == 42:\n",
    "        return b(c)\n",
    "    return(c)\n",
    "def fonk0(x):\n",
    "    return z + (x ** 2)\n",
    "def fonk1(y):\n",
    "    global z\n",
    "    z = z + (y * 2)\n",
    "    return z + y\n",
    "print(z,Oracle(42,fonk1,3))\n",
    "print(z,Oracle(42,fonk0,4))\n",
    "print(z,Oracle(42,fonk1,3))\n",
    "print(z,Oracle(22,fonk1,3))"
   ]
  },
  {
   "cell_type": "code",
   "execution_count": null,
   "id": "bcd58bc1",
   "metadata": {},
   "outputs": [],
   "source": []
  }
 ],
 "metadata": {
  "kernelspec": {
   "display_name": "Python 3 (ipykernel)",
   "language": "python",
   "name": "python3"
  },
  "language_info": {
   "codemirror_mode": {
    "name": "ipython",
    "version": 3
   },
   "file_extension": ".py",
   "mimetype": "text/x-python",
   "name": "python",
   "nbconvert_exporter": "python",
   "pygments_lexer": "ipython3",
   "version": "3.9.7"
  }
 },
 "nbformat": 4,
 "nbformat_minor": 5
}
