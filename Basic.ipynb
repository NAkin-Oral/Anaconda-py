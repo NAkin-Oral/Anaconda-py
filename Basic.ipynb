{
 "cells": [
  {
   "cell_type": "code",
   "execution_count": 1,
   "metadata": {
    "colab": {
     "base_uri": "https://localhost:8080/"
    },
    "executionInfo": {
     "elapsed": 5,
     "status": "ok",
     "timestamp": 1642096039138,
     "user": {
      "displayName": "Nurettin Akın Oral",
      "photoUrl": "https://lh3.googleusercontent.com/a/default-user=s64",
      "userId": "17186612936255075526"
     },
     "user_tz": -180
    },
    "id": "0vCFTVhhjMEe",
    "outputId": "0d1e0741-3f23-40aa-f1a8-0ba410b1e328"
   },
   "outputs": [
    {
     "name": "stdout",
     "output_type": "stream",
     "text": [
      "being a good person\n"
     ]
    }
   ],
   "source": [
    "print('being a good person')\n"
   ]
  },
  {
   "cell_type": "code",
   "execution_count": 2,
   "metadata": {
    "colab": {
     "base_uri": "https://localhost:8080/"
    },
    "executionInfo": {
     "elapsed": 297,
     "status": "ok",
     "timestamp": 1642096060965,
     "user": {
      "displayName": "Nurettin Akın Oral",
      "photoUrl": "https://lh3.googleusercontent.com/a/default-user=s64",
      "userId": "17186612936255075526"
     },
     "user_tz": -180
    },
    "id": "4MsKVgoqjSvL",
    "outputId": "d61426d7-da64-4b8c-bcd7-07180b19a268"
   },
   "outputs": [
    {
     "name": "stdout",
     "output_type": "stream",
     "text": [
      "clarusway will change my life\n"
     ]
    }
   ],
   "source": [
    "print('clarusway will change my life')\n"
   ]
  },
  {
   "cell_type": "code",
   "execution_count": 3,
   "metadata": {
    "colab": {
     "base_uri": "https://localhost:8080/"
    },
    "executionInfo": {
     "elapsed": 238,
     "status": "ok",
     "timestamp": 1642096200186,
     "user": {
      "displayName": "Nurettin Akın Oral",
      "photoUrl": "https://lh3.googleusercontent.com/a/default-user=s64",
      "userId": "17186612936255075526"
     },
     "user_tz": -180
    },
    "id": "kqklCsSUjXRm",
    "outputId": "7912ab80-0936-4e8d-fd59-0a04baab401e"
   },
   "outputs": [
    {
     "name": "stdout",
     "output_type": "stream",
     "text": [
      "it's not a problem\n"
     ]
    }
   ],
   "source": [
    "print(\"it's not a problem\")\n"
   ]
  },
  {
   "cell_type": "code",
   "execution_count": 4,
   "metadata": {
    "colab": {
     "base_uri": "https://localhost:8080/"
    },
    "executionInfo": {
     "elapsed": 356,
     "status": "ok",
     "timestamp": 1642096227382,
     "user": {
      "displayName": "Nurettin Akın Oral",
      "photoUrl": "https://lh3.googleusercontent.com/a/default-user=s64",
      "userId": "17186612936255075526"
     },
     "user_tz": -180
    },
    "id": "9O4pJr5-j5IX",
    "outputId": "cc9155a8-8165-4b0d-8869-c26a4f9967d2"
   },
   "outputs": [
    {
     "name": "stdout",
     "output_type": "stream",
     "text": [
      "it's not a problem using \"triple\" quotes\n"
     ]
    }
   ],
   "source": [
    "print('''it's not a problem using \"triple\" quotes''')\n"
   ]
  },
  {
   "cell_type": "code",
   "execution_count": 5,
   "metadata": {
    "colab": {
     "base_uri": "https://localhost:8080/",
     "height": 130
    },
    "executionInfo": {
     "elapsed": 228,
     "status": "error",
     "timestamp": 1642096250115,
     "user": {
      "displayName": "Nurettin Akın Oral",
      "photoUrl": "https://lh3.googleusercontent.com/a/default-user=s64",
      "userId": "17186612936255075526"
     },
     "user_tz": -180
    },
    "id": "aarNoAN6j_nl",
    "outputId": "369364a8-4292-4eb7-c099-17dc95cd9f2b"
   },
   "outputs": [
    {
     "ename": "SyntaxError",
     "evalue": "ignored",
     "output_type": "error",
     "traceback": [
      "\u001b[0;36m  File \u001b[0;32m\"<ipython-input-5-67ff08d8253d>\"\u001b[0;36m, line \u001b[0;32m1\u001b[0m\n\u001b[0;31m    print('We should have enough time for our family\")\u001b[0m\n\u001b[0m                                                       ^\u001b[0m\n\u001b[0;31mSyntaxError\u001b[0m\u001b[0;31m:\u001b[0m EOL while scanning string literal\n"
     ]
    }
   ],
   "source": [
    "print('We should have enough time for our family\") "
   ]
  },
  {
   "cell_type": "code",
   "execution_count": 6,
   "metadata": {
    "colab": {
     "base_uri": "https://localhost:8080/"
    },
    "executionInfo": {
     "elapsed": 256,
     "status": "ok",
     "timestamp": 1642096265389,
     "user": {
      "displayName": "Nurettin Akın Oral",
      "photoUrl": "https://lh3.googleusercontent.com/a/default-user=s64",
      "userId": "17186612936255075526"
     },
     "user_tz": -180
    },
    "id": "8BbkXc59kF5N",
    "outputId": "5afc1a36-9fa6-4cf6-c7b2-a94b7870e6e1"
   },
   "outputs": [
    {
     "name": "stdout",
     "output_type": "stream",
     "text": [
      "572\n"
     ]
    }
   ],
   "source": [
    "print(572)\n"
   ]
  },
  {
   "cell_type": "code",
   "execution_count": 7,
   "metadata": {
    "colab": {
     "base_uri": "https://localhost:8080/"
    },
    "executionInfo": {
     "elapsed": 225,
     "status": "ok",
     "timestamp": 1642096290555,
     "user": {
      "displayName": "Nurettin Akın Oral",
      "photoUrl": "https://lh3.googleusercontent.com/a/default-user=s64",
      "userId": "17186612936255075526"
     },
     "user_tz": -180
    },
    "id": "-7q1gO-ekI7n",
    "outputId": "f4a9f340-372e-402b-e396-2e74f5ee9311"
   },
   "outputs": [
    {
     "name": "stdout",
     "output_type": "stream",
     "text": [
      "no pain\n",
      "no gain\n",
      "3.14\n"
     ]
    }
   ],
   "source": [
    "print('no pain')\n",
    "print('no gain')\n",
    "print(3.14)\n"
   ]
  },
  {
   "cell_type": "code",
   "execution_count": 8,
   "metadata": {
    "colab": {
     "base_uri": "https://localhost:8080/"
    },
    "executionInfo": {
     "elapsed": 224,
     "status": "ok",
     "timestamp": 1642096315392,
     "user": {
      "displayName": "Nurettin Akın Oral",
      "photoUrl": "https://lh3.googleusercontent.com/a/default-user=s64",
      "userId": "17186612936255075526"
     },
     "user_tz": -180
    },
    "id": "JQ7KeIjbkPUW",
    "outputId": "cb647ae1-948d-4478-e42d-e7b85b676d9a"
   },
   "outputs": [
    {
     "name": "stdout",
     "output_type": "stream",
     "text": [
      "first line\n",
      "\n",
      "third line\n"
     ]
    }
   ],
   "source": [
    "print('first line')\n",
    "print()  # second line is empty\n",
    "print('third line')\n"
   ]
  },
  {
   "cell_type": "code",
   "execution_count": 9,
   "metadata": {
    "colab": {
     "base_uri": "https://localhost:8080/"
    },
    "executionInfo": {
     "elapsed": 310,
     "status": "ok",
     "timestamp": 1642096451261,
     "user": {
      "displayName": "Nurettin Akın Oral",
      "photoUrl": "https://lh3.googleusercontent.com/a/default-user=s64",
      "userId": "17186612936255075526"
     },
     "user_tz": -180
    },
    "id": "7OSf_QvEkVTW",
    "outputId": "97c10ec0-0b82-4d31-8500-d09442b068c7"
   },
   "outputs": [
    {
     "name": "stdout",
     "output_type": "stream",
     "text": [
      "it's not a problem\n"
     ]
    }
   ],
   "source": [
    "print(\"\"\"it's not a problem\"\"\")"
   ]
  },
  {
   "cell_type": "code",
   "execution_count": 10,
   "metadata": {
    "colab": {
     "base_uri": "https://localhost:8080/",
     "height": 130
    },
    "executionInfo": {
     "elapsed": 276,
     "status": "error",
     "timestamp": 1642096473142,
     "user": {
      "displayName": "Nurettin Akın Oral",
      "photoUrl": "https://lh3.googleusercontent.com/a/default-user=s64",
      "userId": "17186612936255075526"
     },
     "user_tz": -180
    },
    "id": "CwTVBv6Nk6hq",
    "outputId": "867dc383-92b6-48b0-96ea-e78a488838e6"
   },
   "outputs": [
    {
     "ename": "SyntaxError",
     "evalue": "ignored",
     "output_type": "error",
     "traceback": [
      "\u001b[0;36m  File \u001b[0;32m\"<ipython-input-10-ff2a695a51b6>\"\u001b[0;36m, line \u001b[0;32m1\u001b[0m\n\u001b[0;31m    print('it's not a problem')\u001b[0m\n\u001b[0m              ^\u001b[0m\n\u001b[0;31mSyntaxError\u001b[0m\u001b[0;31m:\u001b[0m invalid syntax\n"
     ]
    }
   ],
   "source": [
    "print('it's not a problem')"
   ]
  },
  {
   "cell_type": "code",
   "execution_count": 11,
   "metadata": {
    "colab": {
     "base_uri": "https://localhost:8080/"
    },
    "executionInfo": {
     "elapsed": 243,
     "status": "ok",
     "timestamp": 1642096526516,
     "user": {
      "displayName": "Nurettin Akın Oral",
      "photoUrl": "https://lh3.googleusercontent.com/a/default-user=s64",
      "userId": "17186612936255075526"
     },
     "user_tz": -180
    },
    "id": "4xUNx7ECk8Wj",
    "outputId": "fc5c5604-04a5-4f15-d2fd-6117d1fbc513"
   },
   "outputs": [
    {
     "name": "stdout",
     "output_type": "stream",
     "text": [
      "\n",
      "first\n",
      "\n",
      "second\n",
      "\n"
     ]
    }
   ],
   "source": [
    "print(\"\")\n",
    "print(\"first\")\n",
    "print()\n",
    "\n",
    "print(\"second\")\n",
    "print()\n"
   ]
  },
  {
   "cell_type": "code",
   "execution_count": 12,
   "metadata": {
    "colab": {
     "base_uri": "https://localhost:8080/"
    },
    "executionInfo": {
     "elapsed": 241,
     "status": "ok",
     "timestamp": 1642096547407,
     "user": {
      "displayName": "Nurettin Akın Oral",
      "photoUrl": "https://lh3.googleusercontent.com/a/default-user=s64",
      "userId": "17186612936255075526"
     },
     "user_tz": -180
    },
    "id": "vLKda1XYlM5j",
    "outputId": "0c83f4b2-b08a-4ab6-acc1-9e90431c9b1c"
   },
   "outputs": [
    {
     "name": "stdout",
     "output_type": "stream",
     "text": [
      "x\n",
      "y\n",
      "\n",
      "z\n"
     ]
    }
   ],
   "source": [
    "print(\"x\")\n",
    "print(\"y\")\n",
    "print()\n",
    "print(\"z\")"
   ]
  }
 ],
 "metadata": {
  "colab": {
   "authorship_tag": "ABX9TyPU4nly2hR8HC6GABfmBLzv",
   "name": "Untitled1.ipynb",
   "provenance": []
  },
  "kernelspec": {
   "display_name": "Python 3 (ipykernel)",
   "language": "python",
   "name": "python3"
  },
  "language_info": {
   "codemirror_mode": {
    "name": "ipython",
    "version": 3
   },
   "file_extension": ".py",
   "mimetype": "text/x-python",
   "name": "python",
   "nbconvert_exporter": "python",
   "pygments_lexer": "ipython3",
   "version": "3.9.7"
  }
 },
 "nbformat": 4,
 "nbformat_minor": 1
}
