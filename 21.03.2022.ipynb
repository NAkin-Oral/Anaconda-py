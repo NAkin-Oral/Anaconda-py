{
 "cells": [
  {
   "cell_type": "code",
   "execution_count": 1,
   "id": "e6dd0832",
   "metadata": {},
   "outputs": [],
   "source": [
    "import my_module"
   ]
  },
  {
   "cell_type": "code",
   "execution_count": 2,
   "id": "d0bf2c08",
   "metadata": {},
   "outputs": [
    {
     "data": {
      "text/plain": [
       "12"
      ]
     },
     "execution_count": 2,
     "metadata": {},
     "output_type": "execute_result"
    }
   ],
   "source": [
    "my_module.my_function_1(3,4)"
   ]
  },
  {
   "cell_type": "code",
   "execution_count": 3,
   "id": "b3d5e51b",
   "metadata": {},
   "outputs": [
    {
     "data": {
      "text/plain": [
       "5.0"
      ]
     },
     "execution_count": 3,
     "metadata": {},
     "output_type": "execute_result"
    }
   ],
   "source": [
    "my_module.my_function_2(3,4)"
   ]
  },
  {
   "cell_type": "code",
   "execution_count": 4,
   "id": "d2114fec",
   "metadata": {},
   "outputs": [],
   "source": [
    "def factor(x):\n",
    "    result = 1\n",
    "    for i in range(x):\n",
    "        result *= (i+1)\n",
    "    return print(result)"
   ]
  },
  {
   "cell_type": "code",
   "execution_count": 5,
   "id": "d3c9ef51",
   "metadata": {},
   "outputs": [
    {
     "name": "stdout",
     "output_type": "stream",
     "text": [
      "120\n"
     ]
    }
   ],
   "source": [
    "factor(5)"
   ]
  },
  {
   "cell_type": "code",
   "execution_count": 34,
   "id": "a6cc52cf",
   "metadata": {},
   "outputs": [
    {
     "name": "stdout",
     "output_type": "stream",
     "text": [
      "Enter a sentence or a word: hippo runs to us!\n",
      "h : 1 | i : 1 | p : 2 | p : 2 | o : 2 |   : 3 | r : 1 | u : 2 | n : 1 | s : 2 |   : 3 | t : 1 | o : 2 |   : 3 | u : 2 | s : 2 | ! : 1 |\n"
     ]
    }
   ],
   "source": [
    "x = input(\"Enter a sentence or a word: \")\n",
    "letters = []\n",
    "y = []\n",
    "z = []\n",
    "for i in x:\n",
    "    letters.append(i)\n",
    "#print(letters)\n",
    "for j in letters:\n",
    "    y.append(j)\n",
    "    y.append(\":\")\n",
    "    y.append(str(letters.count(j)))\n",
    "    y.append(\"|\")\n",
    "print(*y)\n",
    "#print(\"\".join(y))"
   ]
  },
  {
   "cell_type": "code",
   "execution_count": 25,
   "id": "ff14c62e",
   "metadata": {},
   "outputs": [
    {
     "name": "stdout",
     "output_type": "stream",
     "text": [
      "200\n",
      "50.0\n"
     ]
    }
   ],
   "source": [
    "import my_module\n",
    "area = my_module.my_function_1 (10,20)\n",
    "hypotenuse =my_module.my_function_2(30,40)\n",
    "print(area)\n",
    "print(hypotenuse)"
   ]
  },
  {
   "cell_type": "code",
   "execution_count": 26,
   "id": "bb79b4d1",
   "metadata": {},
   "outputs": [],
   "source": [
    "import hello"
   ]
  },
  {
   "cell_type": "code",
   "execution_count": 27,
   "id": "626cc095",
   "metadata": {},
   "outputs": [
    {
     "name": "stdout",
     "output_type": "stream",
     "text": [
      "16\n"
     ]
    }
   ],
   "source": [
    "hello.my_func1(4)"
   ]
  },
  {
   "cell_type": "code",
   "execution_count": 28,
   "id": "a713c958",
   "metadata": {},
   "outputs": [
    {
     "name": "stdout",
     "output_type": "stream",
     "text": [
      "A c t i n g   a s   a   m o d u l e .\n"
     ]
    }
   ],
   "source": [
    "hello.my_func2(\"Acting as a module.\")"
   ]
  },
  {
   "cell_type": "code",
   "execution_count": 2,
   "id": "e0c27dce",
   "metadata": {},
   "outputs": [
    {
     "name": "stdout",
     "output_type": "stream",
     "text": [
      "['a', 'e', 'i']\n"
     ]
    }
   ],
   "source": [
    "first_ten = [\"a\", \"b\", \"c\", \"d\", \"e\", \"f\", \"g\", \"h\", \"i\", \"j\"]\n",
    "vowels = [\"a\", \"e\", \"i\", \"o\", \"u\"]\n",
    "fonk = lambda x: True if x in vowels else False\n",
    "vowel_list = filter(fonk, first_ten)\n",
    "print(list(vowel_list))"
   ]
  },
  {
   "cell_type": "code",
   "execution_count": 3,
   "id": "8f0d876d",
   "metadata": {},
   "outputs": [
    {
     "name": "stdout",
     "output_type": "stream",
     "text": [
      "4\n",
      "8\n",
      "16\n"
     ]
    }
   ],
   "source": [
    "def modular_function(n):\n",
    "    return lambda x: x ** n\n",
    "power_of_2 = modular_function(2)  # first sub-function derived from def\n",
    "power_of_3 = modular_function(3)  # second sub-function derived from def\n",
    "power_of_4 = modular_function(4)  # third sub-function derived from def\n",
    "print(power_of_2(2))  # 2 to the power of 2\n",
    "print(power_of_3(2))  # 2 to the power of 3\n",
    "print(power_of_4(2))  # 2 to the power of 4"
   ]
  },
  {
   "cell_type": "code",
   "execution_count": 5,
   "id": "9249313c",
   "metadata": {},
   "outputs": [
    {
     "data": {
      "text/plain": [
       "64"
      ]
     },
     "execution_count": 5,
     "metadata": {},
     "output_type": "execute_result"
    }
   ],
   "source": [
    "def modular(n):\n",
    "    return lambda x : x ** n\n",
    "kupunual = modular(3)\n",
    "kupunual(4)"
   ]
  },
  {
   "cell_type": "code",
   "execution_count": 7,
   "id": "799cab4d",
   "metadata": {},
   "outputs": [
    {
     "name": "stdout",
     "output_type": "stream",
     "text": [
      "Enter a sentence or a word: Hello\n",
      "Enter how many times you want to repat: 3\n",
      "HelloHelloHello\n"
     ]
    }
   ],
   "source": [
    "def repeater(n):\n",
    "    return lambda x: x*n\n",
    "x = input(\"Enter a sentence or a word: \")\n",
    "n = int(input(\"Enter how many times you want to repat: \"))\n",
    "repeat_n_times = repeater(n)\n",
    "print(repeat_n_times(x))"
   ]
  },
  {
   "cell_type": "code",
   "execution_count": 10,
   "id": "dcbf6446",
   "metadata": {},
   "outputs": [
    {
     "name": "stdout",
     "output_type": "stream",
     "text": [
      "hello :)\n",
      "hello :(\n",
      "hello :|\n"
     ]
    }
   ],
   "source": [
    "def functioner(mood = None):\n",
    "    return lambda x: print(x, mood)\n",
    "myPrint_smile = functioner(\":)\")\n",
    "myPrint_sad = functioner(\":(\")\n",
    "myPrint_neutral = functioner(\"\"\":|\"\"\")\n",
    "myPrint_smile(\"hello\")\n",
    "myPrint_sad(\"hello\")\n",
    "myPrint_neutral(\"hello\")"
   ]
  },
  {
   "cell_type": "code",
   "execution_count": 13,
   "id": "02950d5a",
   "metadata": {},
   "outputs": [
    {
     "name": "stdout",
     "output_type": "stream",
     "text": [
      "66 :(\n"
     ]
    }
   ],
   "source": [
    "(lambda x: print(x,\":(\"))(66)"
   ]
  },
  {
   "cell_type": "code",
   "execution_count": 30,
   "id": "79f5803b",
   "metadata": {},
   "outputs": [
    {
     "name": "stdout",
     "output_type": "stream",
     "text": [
      "Hello\n",
      "o\n",
      "True\n",
      "['H', 'e', 'l', 'l', 'o']\n"
     ]
    }
   ],
   "source": [
    "def function_generator(func):\n",
    "    return lambda x: func(x)\n",
    "\n",
    "nao_print = function_generator(print)\n",
    "nao_max = function_generator(max)\n",
    "nao_bool = function_generator(bool)\n",
    "nao_sorted = function_generator(sorted)\n",
    "\n",
    "nao_print(\"Hello\")\n",
    "print(nao_max(\"Hello\"))\n",
    "print(nao_bool(\"Hello\"))\n",
    "print(nao_sorted(\"Hello\"))"
   ]
  },
  {
   "cell_type": "code",
   "execution_count": 31,
   "id": "70aaef82",
   "metadata": {},
   "outputs": [
    {
     "data": {
      "text/plain": [
       "4"
      ]
     },
     "execution_count": 31,
     "metadata": {},
     "output_type": "execute_result"
    }
   ],
   "source": [
    "num = [1, 4, 4]\n",
    "max(num, key = num.count)"
   ]
  },
  {
   "cell_type": "code",
   "execution_count": 34,
   "id": "e8f02d48",
   "metadata": {},
   "outputs": [
    {
     "name": "stdout",
     "output_type": "stream",
     "text": [
      "2\n"
     ]
    }
   ],
   "source": [
    "def equal (x, y, z):\n",
    "    num = [x, y, z]\n",
    "    if num.count(max(num, key=num.count)) == 1:\n",
    "        print(\"0\")\n",
    "    else: \n",
    "        print(num.count(max(num, key=num.count)))\n",
    "equal(1, 23, 1)"
   ]
  },
  {
   "cell_type": "code",
   "execution_count": 37,
   "id": "a3bad3ee",
   "metadata": {},
   "outputs": [
    {
     "name": "stdout",
     "output_type": "stream",
     "text": [
      "3\n"
     ]
    }
   ],
   "source": [
    "def equal (*arg):\n",
    "    num = list(arg)\n",
    "    if num.count(max(num, key=num.count)) == 1:\n",
    "        print(\"0\")\n",
    "    else: \n",
    "        print(num.count(max(num, key=num.count)))\n",
    "equal(1, 23, 1, 6, 4, 3, 3, 5, 76, 78, 8, 3)"
   ]
  },
  {
   "cell_type": "code",
   "execution_count": 45,
   "id": "09549feb",
   "metadata": {},
   "outputs": [
    {
     "name": "stdout",
     "output_type": "stream",
     "text": [
      "3\n"
     ]
    }
   ],
   "source": [
    "equlamb = lambda *arg : print(\"0\")\\\n",
    " if list(arg).count(max(list(arg), key=list(arg).count)) == 1 else \\\n",
    " print(list(arg).count(max(list(arg), key=list(arg).count)))\n",
    "equlamb(5,6,7,7,8,6,5,7)"
   ]
  },
  {
   "cell_type": "code",
   "execution_count": null,
   "id": "40e693b3",
   "metadata": {},
   "outputs": [],
   "source": []
  }
 ],
 "metadata": {
  "kernelspec": {
   "display_name": "Python 3 (ipykernel)",
   "language": "python",
   "name": "python3"
  },
  "language_info": {
   "codemirror_mode": {
    "name": "ipython",
    "version": 3
   },
   "file_extension": ".py",
   "mimetype": "text/x-python",
   "name": "python",
   "nbconvert_exporter": "python",
   "pygments_lexer": "ipython3",
   "version": "3.9.7"
  }
 },
 "nbformat": 4,
 "nbformat_minor": 5
}
