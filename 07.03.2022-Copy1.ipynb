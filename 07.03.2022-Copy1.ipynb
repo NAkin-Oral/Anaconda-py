{
 "cells": [
  {
   "cell_type": "code",
   "execution_count": 1,
   "id": "0ddb4b57",
   "metadata": {},
   "outputs": [
    {
     "name": "stdout",
     "output_type": "stream",
     "text": [
      "Enter a positive integer number: 93084\n",
      "93084 is an armstrong number\n"
     ]
    }
   ],
   "source": [
    "x = (input(\"Enter a positive integer number: \"))\n",
    "if not x.isdecimal():\n",
    "    print(\"It is an invalid entry. Don't use non-numeric, float, or negative values!\")\n",
    "else:\n",
    "    total = 0\n",
    "    for digit in x:\n",
    "        total += int(digit) ** len(x)\n",
    "    if total == int(x):\n",
    "        print(x, \"is an armstrong number\")\n",
    "    else:\n",
    "        print(x, \"is not an armstrong number\")"
   ]
  },
  {
   "cell_type": "code",
   "execution_count": 8,
   "id": "11832bb6",
   "metadata": {},
   "outputs": [
    {
     "name": "stdout",
     "output_type": "stream",
     "text": [
      "Enter a possitive integer number: 98553\n",
      "98553 is not an Armstrong Number.\n"
     ]
    }
   ],
   "source": [
    "while True :\n",
    "    number = input(\"Enter a possitive integer number: \")\n",
    "    digits = len(number)\n",
    "    summ = 0\n",
    "    if not number.isdigit() :\n",
    "        print(number, \"is invalid entry. Please enter valid input.\")\n",
    "    elif int(number) >= 0 :\n",
    "        for i in range(digits) :\n",
    "            summ = summ + int(number[i]) ** digits\n",
    "        if summ == int(number) :\n",
    "            print(number, \"is an Armstrong Number.\")\n",
    "            break\n",
    "        else:\n",
    "            print(number, \"is not an Armstrong Number.\")\n",
    "            break"
   ]
  },
  {
   "cell_type": "code",
   "execution_count": 12,
   "id": "fc62a401",
   "metadata": {},
   "outputs": [
    {
     "name": "stdout",
     "output_type": "stream",
     "text": [
      "Enter a possitive integger number to check if it is a prime number: 37\n",
      "37 is not a prime number.\n"
     ]
    }
   ],
   "source": [
    "n = int(input(\"Enter a possitive integer number to check if it is a prime number: \"))\n",
    "counter = 0\n",
    "for i in range(1,n+1):\n",
    "    if n % i == 0 :\n",
    "        counter += 1\n",
    "if (n == 0) or (n == 1) or (n >= 3):\n",
    "    print(n, \"is not a prime number.\")\n",
    "else:\n",
    "    print(n, \"is a prime number.\")"
   ]
  },
  {
   "cell_type": "code",
   "execution_count": 15,
   "id": "2e3fefd8",
   "metadata": {},
   "outputs": [
    {
     "name": "stdout",
     "output_type": "stream",
     "text": [
      "[0]\n",
      "[0, 1]\n",
      "[0, 1, 2]\n",
      "[0, 1, 2, 3]\n",
      "[0, 1, 2, 3, 4]\n",
      "[None, None, None, None, None]\n"
     ]
    }
   ],
   "source": [
    "sayılar = []\n",
    "for i in range(5) :\n",
    "    sayılar.append(i)\n",
    "    print (sayılar)\n",
    "[sayılar.append(i) for i in range(5)]"
   ]
  },
  {
   "cell_type": "code",
   "execution_count": 19,
   "id": "6aeb9dfc",
   "metadata": {},
   "outputs": [
    {
     "name": "stdout",
     "output_type": "stream",
     "text": [
      "1\n",
      "2\n",
      "3\n",
      "4\n",
      "5\n",
      "6\n",
      "7\n",
      "8\n",
      "9\n",
      "-1\n"
     ]
    }
   ],
   "source": [
    "count = 0 \n",
    "while count >= 0:\n",
    "    count += 1\n",
    "    if count == 10:\n",
    "        count = -1\n",
    "    print(count)"
   ]
  },
  {
   "cell_type": "code",
   "execution_count": 20,
   "id": "51cecff5",
   "metadata": {},
   "outputs": [],
   "source": [
    "generator = (i **2 for i in range(6))"
   ]
  },
  {
   "cell_type": "code",
   "execution_count": 21,
   "id": "0d52c95c",
   "metadata": {},
   "outputs": [
    {
     "name": "stdout",
     "output_type": "stream",
     "text": [
      "0\n"
     ]
    }
   ],
   "source": [
    "print(next(generator))"
   ]
  },
  {
   "cell_type": "code",
   "execution_count": 22,
   "id": "c6a879f3",
   "metadata": {},
   "outputs": [
    {
     "name": "stdout",
     "output_type": "stream",
     "text": [
      "1\n"
     ]
    }
   ],
   "source": [
    "print(next(generator))"
   ]
  },
  {
   "cell_type": "code",
   "execution_count": 23,
   "id": "9ab6b95b",
   "metadata": {},
   "outputs": [
    {
     "name": "stdout",
     "output_type": "stream",
     "text": [
      "4 9 16 25\n"
     ]
    }
   ],
   "source": [
    "print(* generator)"
   ]
  },
  {
   "cell_type": "code",
   "execution_count": 24,
   "id": "754c899a",
   "metadata": {},
   "outputs": [
    {
     "name": "stdout",
     "output_type": "stream",
     "text": [
      "\n"
     ]
    }
   ],
   "source": [
    "print(* generator)"
   ]
  },
  {
   "cell_type": "code",
   "execution_count": 25,
   "id": "9bc5a863",
   "metadata": {},
   "outputs": [
    {
     "data": {
      "text/plain": [
       "69"
      ]
     },
     "execution_count": 25,
     "metadata": {},
     "output_type": "execute_result"
    }
   ],
   "source": [
    "69"
   ]
  },
  {
   "cell_type": "code",
   "execution_count": null,
   "id": "bcc54f46",
   "metadata": {},
   "outputs": [],
   "source": []
  }
 ],
 "metadata": {
  "kernelspec": {
   "display_name": "Python 3 (ipykernel)",
   "language": "python",
   "name": "python3"
  },
  "language_info": {
   "codemirror_mode": {
    "name": "ipython",
    "version": 3
   },
   "file_extension": ".py",
   "mimetype": "text/x-python",
   "name": "python",
   "nbconvert_exporter": "python",
   "pygments_lexer": "ipython3",
   "version": "3.9.7"
  }
 },
 "nbformat": 4,
 "nbformat_minor": 5
}
