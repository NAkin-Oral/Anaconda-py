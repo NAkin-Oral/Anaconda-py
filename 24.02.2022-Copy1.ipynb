{
 "cells": [
  {
   "cell_type": "code",
   "execution_count": 20,
   "id": "75cc3852",
   "metadata": {},
   "outputs": [
    {
     "name": "stdout",
     "output_type": "stream",
     "text": [
      "Enter the first number: 2\n",
      "Enter the second number: 3\n",
      "Enter the third number: 4\n",
      "4.0 is the largest number\n"
     ]
    }
   ],
   "source": [
    "x = float(input(\"Enter the first number: \"))\n",
    "y = float(input(\"Enter the second number: \"))\n",
    "z = float(input(\"Enter the third number: \"))\n",
    "if (x > y) and (x > z):\n",
    "    print(f\"{x} is the largest number\")\n",
    "elif (y > x) and (y > z):\n",
    "    print(f\"{y} is the largest number\")\n",
    "else:\n",
    "    print(f\"{z} is the largest number\")"
   ]
  },
  {
   "cell_type": "code",
   "execution_count": 24,
   "id": "3794e638",
   "metadata": {},
   "outputs": [
    {
     "name": "stdout",
     "output_type": "stream",
     "text": [
      "Enter the number: -9\n",
      "-9.0 is negative number\n"
     ]
    }
   ],
   "source": [
    "x = float(input(\"Enter the number: \"))\n",
    "if x < 0 :\n",
    "    print(f\"{x} is negative number\")\n",
    "elif x == 0 :\n",
    "    print(f\"{x} is zero\")\n",
    "else:\n",
    "    print(f\"{x} is positive number\")"
   ]
  },
  {
   "cell_type": "code",
   "execution_count": 27,
   "id": "0b894e9c",
   "metadata": {},
   "outputs": [
    {
     "name": "stdout",
     "output_type": "stream",
     "text": [
      "Enter the grade: 90\n",
      "Your grade is A\n"
     ]
    }
   ],
   "source": [
    "x = float(input(\"Enter the grade: \"))\n",
    "if x >= 90:\n",
    "    if x >= 95:\n",
    "        print(\"Your grade is A+\")\n",
    "    else:\n",
    "        print(\"Your grade is A\")\n",
    "elif x >= 80:\n",
    "    if x >= 85:\n",
    "        print(\"Your grade is B+\")\n",
    "    else:\n",
    "        print(\"Your grade is B\")\n",
    "else:\n",
    "    print(\"Your grade is B-\")\n",
    "    "
   ]
  },
  {
   "cell_type": "code",
   "execution_count": 29,
   "id": "e826789c",
   "metadata": {},
   "outputs": [
    {
     "name": "stdout",
     "output_type": "stream",
     "text": [
      "Please type your word using letters a to z: tester\n",
      "False\n"
     ]
    }
   ],
   "source": [
    "left = {\"q\", \"w\", \"e\", \"r\", \"t\", \"a\", \"s\", \"d\", \"f\", \"g\", \"z\", \"x\", \"c\", \"v\", \"b\"}\n",
    "right = {\"y\", \"u\", \"i\", \"o\", \"p\", \"h\", \"j\", \"k\", \"l\", \"n\", \"m\"}\n",
    "x = input(\"Please type your word using letters a to z: \")\n",
    "word = set(x)\n",
    "if (word.intersection(left)) == set():\n",
    "    print(\"False\")\n",
    "else:\n",
    "    if (word.intersection(right)) == set():\n",
    "        print(\"False\")\n",
    "    else:\n",
    "        print(\"True\")"
   ]
  },
  {
   "cell_type": "code",
   "execution_count": 30,
   "id": "b4b79f64",
   "metadata": {},
   "outputs": [
    {
     "name": "stdout",
     "output_type": "stream",
     "text": [
      "0\n",
      "1\n",
      "2\n",
      "3\n",
      "4\n",
      "5\n",
      "6\n",
      "Your number is bigger than 6 now.\n"
     ]
    }
   ],
   "source": [
    "x = 0\n",
    "while x <= 6:\n",
    "    print(x)\n",
    "    x += 1\n",
    "print(\"Your number is bigger than 6 now.\")"
   ]
  },
  {
   "cell_type": "code",
   "execution_count": 26,
   "id": "a19c42bf",
   "metadata": {},
   "outputs": [
    {
     "ename": "SyntaxError",
     "evalue": "invalid character '∞' (U+221E) (Temp/ipykernel_14524/3001589739.py, line 2)",
     "output_type": "error",
     "traceback": [
      "\u001b[1;36m  File \u001b[1;32m\"C:\\Users\\nuret\\AppData\\Local\\Temp/ipykernel_14524/3001589739.py\"\u001b[1;36m, line \u001b[1;32m2\u001b[0m\n\u001b[1;33m    z = -∞\u001b[0m\n\u001b[1;37m         ^\u001b[0m\n\u001b[1;31mSyntaxError\u001b[0m\u001b[1;31m:\u001b[0m invalid character '∞' (U+221E)\n"
     ]
    }
   ],
   "source": [
    "x = int(input(\"Enter how many numbers you want to compare: \"))\n",
    "z = 0\n",
    "i = 0\n",
    "while i < x:\n",
    "    v = int(input(\"Enter your number: \"))\n",
    "    if v > z:\n",
    "        z = v\n",
    "    i += 1\n",
    "print(\"Largest number is: \",z)    "
   ]
  },
  {
   "cell_type": "code",
   "execution_count": 23,
   "id": "d5a32bd5",
   "metadata": {},
   "outputs": [
    {
     "name": "stdout",
     "output_type": "stream",
     "text": [
      "[['e', 't', 'a'], ['e', 't', 'a'], ['a', 't', 'n'], ['a', 't', 'e'], ['a', 't', 'n'], ['a', 't', 'b']]\n"
     ]
    }
   ],
   "source": [
    "x = [\"eat\", \"tea\", \"tan\", \"ate\", \"nat\", \"bat\"]\n",
    "z = 0\n",
    "a = []\n",
    "while z < len(x):\n",
    "    c = list(set(x[z]))\n",
    "    a.append(c)\n",
    "    z += 1\n"
   ]
  },
  {
   "cell_type": "code",
   "execution_count": 17,
   "id": "ccbb05d1",
   "metadata": {},
   "outputs": [
    {
     "data": {
      "text/plain": [
       "list"
      ]
     },
     "execution_count": 17,
     "metadata": {},
     "output_type": "execute_result"
    }
   ],
   "source": [
    "type(x)"
   ]
  },
  {
   "cell_type": "code",
   "execution_count": 25,
   "id": "dc9553d6",
   "metadata": {},
   "outputs": [
    {
     "name": "stdout",
     "output_type": "stream",
     "text": [
      "Soru cevaplamayı da unutmayın :   2\n",
      "[]\n"
     ]
    }
   ],
   "source": [
    "listem = [\"foruma\",\"daha\",\"sık\",\"girin\"]\n",
    "\n",
    "xas = input(\"Soru cevaplamayı da unutmayın :   \")\n",
    "\n",
    "çıktı = []\n",
    "\n",
    "if xas in listem:\n",
    "    çıktı.append(xas)\n",
    "\n",
    "print(çıktı)"
   ]
  },
  {
   "cell_type": "code",
   "execution_count": 27,
   "id": "90935399",
   "metadata": {},
   "outputs": [
    {
     "name": "stdout",
     "output_type": "stream",
     "text": [
      "How many number will you enter :5\n",
      "Enter the number :2\n",
      "Enter the number :3\n",
      "Enter the number :4\n",
      "Enter the number :5\n",
      "Enter the number :6\n",
      "The largest number is : 6\n",
      "6\n"
     ]
    }
   ],
   "source": [
    "numb_sayı = int(input(\"How many number will you enter :\"))\n",
    "list = []\n",
    "for i in range(numb_sayı) :\n",
    "    num = int(input(\"Enter the number :\"))\n",
    "    list.append(num)\n",
    "print(\"The largest number is :\",sorted(list)[-1])\n",
    "print(max(list))"
   ]
  },
  {
   "cell_type": "code",
   "execution_count": 28,
   "id": "3e0efcba",
   "metadata": {},
   "outputs": [
    {
     "name": "stdout",
     "output_type": "stream",
     "text": [
      "How many number will you enter :2\n",
      "Enter the number :85\n",
      "Enter the number :52\n",
      "The largest number is : 85\n",
      "85\n"
     ]
    }
   ],
   "source": [
    "numb_sayı = int(input(\"How many number will you enter :\"))\n",
    "list = []\n",
    "for i in range(numb_sayı) :\n",
    "    num = int(input(\"Enter the number :\"))\n",
    "    list.append(num)\n",
    "print(\"The largest number is :\",sorted(list)[-1])\n",
    "print(max(list))"
   ]
  },
  {
   "cell_type": "code",
   "execution_count": 29,
   "id": "08eaf63c",
   "metadata": {},
   "outputs": [
    {
     "name": "stdout",
     "output_type": "stream",
     "text": [
      "['ate', 'tea', 'eat']\n",
      "['nat', 'tan']\n",
      "['bat']\n"
     ]
    }
   ],
   "source": [
    "liste = [\"eat\", \"tea\", \"tan\", \"ate\", \"nat\", \"bat\"]\n",
    "new_liste = []\n",
    "new_liste2 = []\n",
    "for i in liste[::-1]:\n",
    "    if set(i) == set(liste[0]):\n",
    "       new_liste.append(i)\n",
    "       liste.remove(i)\n",
    "print(new_liste)\n",
    "for i in liste[::-1]:\n",
    "    if set(i) == set(liste[0]):\n",
    "       new_liste2.append(i)\n",
    "       liste.remove(i)\n",
    "print(new_liste2)\n",
    "print(liste)\n"
   ]
  },
  {
   "cell_type": "code",
   "execution_count": 30,
   "id": "3d2b4746",
   "metadata": {},
   "outputs": [
    {
     "name": "stdout",
     "output_type": "stream",
     "text": [
      "['ate', 'tea', 'eat']\n",
      "['nat', 'tan']\n",
      "['bat']\n"
     ]
    }
   ],
   "source": [
    "liste = [\"eat\", \"tea\", \"tan\", \"ate\", \"nat\", \"bat\"]\n",
    "first_list = []\n",
    "second_list = []\n",
    "for i in liste[::-1]:\n",
    "    if set(i) == set(liste[0]):\n",
    "       first_list.append(i)\n",
    "       liste.remove(i)\n",
    "print(first_list)\n",
    "for i in liste[::-1]:\n",
    "    if set(i) == set(liste[0]):\n",
    "       second_list.append(i)\n",
    "       liste.remove(i)\n",
    "print(second_list)\n",
    "print(liste)"
   ]
  },
  {
   "cell_type": "code",
   "execution_count": 31,
   "id": "bcc7307b",
   "metadata": {},
   "outputs": [
    {
     "name": "stdout",
     "output_type": "stream",
     "text": [
      "('Apples', 5, 1.5) ('Oranges', 3, 2.25) ('Bananas', 4, 0.89)\n"
     ]
    }
   ],
   "source": [
    "fruits = ['Apples', 'Oranges', 'Bananas']\n",
    "quantities = [5, 3, 4]\n",
    "prices = [1.50, 2.25, 0.89]\n",
    "output=[]\n",
    "fruit_tuple_0 = (fruits[0], quantities[0], prices[0])\n",
    "output.append(output)\n",
    "fruit_tuple_1 = (fruits[1], quantities[1], prices[1])\n",
    "output.append(output)\n",
    "fruit_tuple_2 = (fruits[2], quantities[2], prices[2])\n",
    "output.append(output)\n",
    "print(fruit_tuple_0, fruit_tuple_1, fruit_tuple_2)"
   ]
  },
  {
   "cell_type": "code",
   "execution_count": 34,
   "id": "c8a1d847",
   "metadata": {},
   "outputs": [
    {
     "name": "stdout",
     "output_type": "stream",
     "text": [
      "[('Apples', 5, 1.5), ('Oranges', 5, 1.5), ('Bananas', 5, 1.5)]\n"
     ]
    }
   ],
   "source": [
    "fruits = ['Apples', 'Oranges', 'Bananas']\n",
    "quantities = [5, 3, 4]\n",
    "prices = [1.50, 2.25, 0.89]\n",
    "i = 0\n",
    "output = []\n",
    "for fruit in fruits:\n",
    " temp_qty = quantities[i]\n",
    " temp_price = prices[i]\n",
    " output.append((fruit, temp_qty, temp_price))\n",
    "i += 1\n",
    "print(output)"
   ]
  },
  {
   "cell_type": "code",
   "execution_count": 39,
   "id": "320bef51",
   "metadata": {},
   "outputs": [
    {
     "ename": "IndentationError",
     "evalue": "expected an indented block (Temp/ipykernel_14524/3394030783.py, line 8)",
     "output_type": "error",
     "traceback": [
      "\u001b[1;36m  File \u001b[1;32m\"C:\\Users\\nuret\\AppData\\Local\\Temp/ipykernel_14524/3394030783.py\"\u001b[1;36m, line \u001b[1;32m8\u001b[0m\n\u001b[1;33m    for price in prices:\u001b[0m\n\u001b[1;37m    ^\u001b[0m\n\u001b[1;31mIndentationError\u001b[0m\u001b[1;31m:\u001b[0m expected an indented block\n"
     ]
    }
   ],
   "source": [
    "fruits = ['Apples', 'Oranges', 'Bananas']\n",
    "quantities = [5, 3, 4]\n",
    "prices = [1.50, 2.25, 0.89]\n",
    "i = 0\n",
    "output = []\n",
    "for fruit in fruits:\n",
    " for qty in quantities:\n",
    " for price in prices:\n",
    " output.append((fruit, qty, price))\n",
    " i += 1\n",
    "print(output)"
   ]
  },
  {
   "cell_type": "code",
   "execution_count": 38,
   "id": "2251a927",
   "metadata": {},
   "outputs": [
    {
     "ename": "TypeError",
     "evalue": "'list' object is not callable",
     "output_type": "error",
     "traceback": [
      "\u001b[1;31m---------------------------------------------------------------------------\u001b[0m",
      "\u001b[1;31mTypeError\u001b[0m                                 Traceback (most recent call last)",
      "\u001b[1;32m~\\AppData\\Local\\Temp/ipykernel_14524/846696639.py\u001b[0m in \u001b[0;36m<module>\u001b[1;34m\u001b[0m\n\u001b[0;32m      3\u001b[0m \u001b[0mprices\u001b[0m \u001b[1;33m=\u001b[0m \u001b[1;33m[\u001b[0m\u001b[1;36m1.50\u001b[0m\u001b[1;33m,\u001b[0m \u001b[1;36m2.25\u001b[0m\u001b[1;33m,\u001b[0m \u001b[1;36m0.89\u001b[0m\u001b[1;33m]\u001b[0m\u001b[1;33m\u001b[0m\u001b[1;33m\u001b[0m\u001b[0m\n\u001b[0;32m      4\u001b[0m \u001b[0mgroceries\u001b[0m \u001b[1;33m=\u001b[0m \u001b[0mzip\u001b[0m\u001b[1;33m(\u001b[0m\u001b[0mfruits\u001b[0m\u001b[1;33m,\u001b[0m \u001b[0mquantities\u001b[0m\u001b[1;33m,\u001b[0m \u001b[0mprices\u001b[0m\u001b[1;33m)\u001b[0m\u001b[1;33m\u001b[0m\u001b[1;33m\u001b[0m\u001b[0m\n\u001b[1;32m----> 5\u001b[1;33m \u001b[0mprint\u001b[0m\u001b[1;33m(\u001b[0m\u001b[0mlist\u001b[0m\u001b[1;33m(\u001b[0m\u001b[0mgroceries\u001b[0m\u001b[1;33m)\u001b[0m\u001b[1;33m)\u001b[0m\u001b[1;33m\u001b[0m\u001b[1;33m\u001b[0m\u001b[0m\n\u001b[0m",
      "\u001b[1;31mTypeError\u001b[0m: 'list' object is not callable"
     ]
    }
   ],
   "source": [
    "fruits = ['Apples', 'Oranges', 'Bananas']\n",
    "quantities = [5, 3, 4]\n",
    "prices = [1.50, 2.25, 0.89]\n",
    "groceries = zip(fruits, quantities, prices)\n",
    "print(list(groceries))"
   ]
  },
  {
   "cell_type": "code",
   "execution_count": 41,
   "id": "706a88c2",
   "metadata": {},
   "outputs": [
    {
     "ename": "TypeError",
     "evalue": "'list' object is not callable",
     "output_type": "error",
     "traceback": [
      "\u001b[1;31m---------------------------------------------------------------------------\u001b[0m",
      "\u001b[1;31mTypeError\u001b[0m                                 Traceback (most recent call last)",
      "\u001b[1;32m~\\AppData\\Local\\Temp/ipykernel_14524/1606012718.py\u001b[0m in \u001b[0;36m<module>\u001b[1;34m\u001b[0m\n\u001b[0;32m      1\u001b[0m \u001b[0mcollege_years\u001b[0m \u001b[1;33m=\u001b[0m \u001b[1;33m[\u001b[0m\u001b[1;34m'Freshman'\u001b[0m\u001b[1;33m,\u001b[0m \u001b[1;34m'Sophomore'\u001b[0m\u001b[1;33m,\u001b[0m \u001b[1;34m'Junior'\u001b[0m\u001b[1;33m,\u001b[0m \u001b[1;34m'Senior'\u001b[0m\u001b[1;33m]\u001b[0m\u001b[1;33m\u001b[0m\u001b[1;33m\u001b[0m\u001b[0m\n\u001b[1;32m----> 2\u001b[1;33m \u001b[0mprint\u001b[0m\u001b[1;33m(\u001b[0m\u001b[0mlist\u001b[0m\u001b[1;33m(\u001b[0m\u001b[0menumerate\u001b[0m\u001b[1;33m(\u001b[0m\u001b[0mcollege_years\u001b[0m\u001b[1;33m,\u001b[0m \u001b[1;36m2019\u001b[0m\u001b[1;33m)\u001b[0m\u001b[1;33m)\u001b[0m\u001b[1;33m)\u001b[0m\u001b[1;33m\u001b[0m\u001b[1;33m\u001b[0m\u001b[0m\n\u001b[0m",
      "\u001b[1;31mTypeError\u001b[0m: 'list' object is not callable"
     ]
    }
   ],
   "source": [
    "college_years = ['Freshman', 'Sophomore', 'Junior', 'Senior']\n",
    "print(list(enumerate(college_years, 2019)))"
   ]
  },
  {
   "cell_type": "code",
   "execution_count": 43,
   "id": "e642cb2b",
   "metadata": {},
   "outputs": [
    {
     "ename": "TypeError",
     "evalue": "'list' object is not callable",
     "output_type": "error",
     "traceback": [
      "\u001b[1;31m---------------------------------------------------------------------------\u001b[0m",
      "\u001b[1;31mTypeError\u001b[0m                                 Traceback (most recent call last)",
      "\u001b[1;32m~\\AppData\\Local\\Temp/ipykernel_14524/3835417496.py\u001b[0m in \u001b[0;36m<module>\u001b[1;34m\u001b[0m\n\u001b[0;32m      1\u001b[0m \u001b[0mcollege_years\u001b[0m \u001b[1;33m=\u001b[0m \u001b[1;33m[\u001b[0m\u001b[1;34m'Freshman'\u001b[0m\u001b[1;33m,\u001b[0m \u001b[1;34m'Sophomore'\u001b[0m\u001b[1;33m,\u001b[0m \u001b[1;34m'Junior'\u001b[0m\u001b[1;33m,\u001b[0m \u001b[1;34m'Senior'\u001b[0m\u001b[1;33m]\u001b[0m\u001b[1;33m\u001b[0m\u001b[1;33m\u001b[0m\u001b[0m\n\u001b[1;32m----> 2\u001b[1;33m \u001b[0mprint\u001b[0m\u001b[1;33m(\u001b[0m\u001b[0mlist\u001b[0m\u001b[1;33m(\u001b[0m\u001b[0menumerate\u001b[0m\u001b[1;33m(\u001b[0m\u001b[0mcollege_years\u001b[0m\u001b[1;33m,\u001b[0m \u001b[1;36m2019\u001b[0m\u001b[1;33m)\u001b[0m\u001b[1;33m)\u001b[0m\u001b[1;33m)\u001b[0m\u001b[1;33m\u001b[0m\u001b[1;33m\u001b[0m\u001b[0m\n\u001b[0m",
      "\u001b[1;31mTypeError\u001b[0m: 'list' object is not callable"
     ]
    }
   ],
   "source": [
    "college_years = ['Freshman', 'Sophomore', 'Junior', 'Senior']\n",
    "print(list(enumerate(college_years, 2019)))\n"
   ]
  },
  {
   "cell_type": "code",
   "execution_count": null,
   "id": "a1076bf8",
   "metadata": {},
   "outputs": [],
   "source": []
  }
 ],
 "metadata": {
  "kernelspec": {
   "display_name": "Python 3 (ipykernel)",
   "language": "python",
   "name": "python3"
  },
  "language_info": {
   "codemirror_mode": {
    "name": "ipython",
    "version": 3
   },
   "file_extension": ".py",
   "mimetype": "text/x-python",
   "name": "python",
   "nbconvert_exporter": "python",
   "pygments_lexer": "ipython3",
   "version": "3.9.7"
  }
 },
 "nbformat": 4,
 "nbformat_minor": 5
}
