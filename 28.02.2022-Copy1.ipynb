{
 "cells": [
  {
   "cell_type": "code",
   "execution_count": null,
   "id": "7725dff8",
   "metadata": {},
   "outputs": [],
   "source": [
    "age = input(\"Enter your age: \")\n",
    "while not (age.isdigit()):\n",
    "    print(\"You entered incorrectly!\")\n",
    "    age = input(\"Enter your age: \")\n",
    "print(\"Great! You entered valid input.\")"
   ]
  },
  {
   "cell_type": "code",
   "execution_count": 7,
   "id": "4fe2283c",
   "metadata": {},
   "outputs": [
    {
     "name": "stdout",
     "output_type": "stream",
     "text": [
      "Enter your answer: 25\n",
      "You need to guess lower.\n",
      "Guess again: 17\n",
      "You need to guess higher\n",
      "Guess again: 26\n",
      "You need to guess lower.\n",
      "Guess again: 22\n",
      "You answered correctly: \n"
     ]
    }
   ],
   "source": [
    "x = input(\"Enter your answer: \")\n",
    "x = int(x)\n",
    "while x != 22:\n",
    "    if x > 22:\n",
    "        print(\"You need to guess lower.\")\n",
    "    else:\n",
    "        print(\"You need to guess higher\")\n",
    "    x = input(\"Guess again: \")\n",
    "    x = int(x)\n",
    "print(\"You answered correctly: \")"
   ]
  },
  {
   "cell_type": "code",
   "execution_count": 12,
   "id": "196ffe33",
   "metadata": {},
   "outputs": [
    {
     "name": "stdout",
     "output_type": "stream",
     "text": [
      "Enter a word please: I love myself\n",
      "The length of the longest word is:  6\n"
     ]
    }
   ],
   "source": [
    "x = input(\"Enter a word please: \")\n",
    "x = x.split()\n",
    "y = list(x)\n",
    "longest = 0\n",
    "i = 0\n",
    "while i < len(y) :\n",
    "    if len(y[i]) > longest :\n",
    "        longest = len(y[i])\n",
    "    i += 1\n",
    "print (\"The length of the longest word is: \",longest)\n",
    "        \n"
   ]
  },
  {
   "cell_type": "code",
   "execution_count": 16,
   "id": "6e943d01",
   "metadata": {},
   "outputs": [
    {
     "name": "stdout",
     "output_type": "stream",
     "text": [
      "Enter a word please: I love myself\n"
     ]
    },
    {
     "ename": "TypeError",
     "evalue": "'int' object is not iterable",
     "output_type": "error",
     "traceback": [
      "\u001b[1;31m---------------------------------------------------------------------------\u001b[0m",
      "\u001b[1;31mTypeError\u001b[0m                                 Traceback (most recent call last)",
      "\u001b[1;32m~\\AppData\\Local\\Temp/ipykernel_14072/4105825762.py\u001b[0m in \u001b[0;36m<module>\u001b[1;34m\u001b[0m\n\u001b[0;32m      3\u001b[0m \u001b[0my\u001b[0m \u001b[1;33m=\u001b[0m \u001b[0mlist\u001b[0m\u001b[1;33m(\u001b[0m\u001b[0mx\u001b[0m\u001b[1;33m)\u001b[0m\u001b[1;33m\u001b[0m\u001b[1;33m\u001b[0m\u001b[0m\n\u001b[0;32m      4\u001b[0m \u001b[0mlongest\u001b[0m \u001b[1;33m=\u001b[0m \u001b[1;36m0\u001b[0m\u001b[1;33m\u001b[0m\u001b[1;33m\u001b[0m\u001b[0m\n\u001b[1;32m----> 5\u001b[1;33m \u001b[1;32mfor\u001b[0m \u001b[0mi\u001b[0m \u001b[1;32min\u001b[0m \u001b[0mlen\u001b[0m\u001b[1;33m(\u001b[0m\u001b[0my\u001b[0m\u001b[1;33m)\u001b[0m\u001b[1;33m:\u001b[0m\u001b[1;33m\u001b[0m\u001b[1;33m\u001b[0m\u001b[0m\n\u001b[0m\u001b[0;32m      6\u001b[0m     \u001b[1;32mif\u001b[0m \u001b[0mlen\u001b[0m\u001b[1;33m(\u001b[0m\u001b[0my\u001b[0m\u001b[1;33m[\u001b[0m\u001b[0mz\u001b[0m\u001b[1;33m]\u001b[0m\u001b[1;33m)\u001b[0m \u001b[1;33m>\u001b[0m \u001b[0mlongest\u001b[0m \u001b[1;33m:\u001b[0m\u001b[1;33m\u001b[0m\u001b[1;33m\u001b[0m\u001b[0m\n\u001b[0;32m      7\u001b[0m         \u001b[0mlongest\u001b[0m \u001b[1;33m=\u001b[0m \u001b[0mlen\u001b[0m\u001b[1;33m(\u001b[0m\u001b[0my\u001b[0m\u001b[1;33m[\u001b[0m\u001b[0mz\u001b[0m\u001b[1;33m]\u001b[0m\u001b[1;33m)\u001b[0m\u001b[1;33m\u001b[0m\u001b[1;33m\u001b[0m\u001b[0m\n",
      "\u001b[1;31mTypeError\u001b[0m: 'int' object is not iterable"
     ]
    }
   ],
   "source": [
    "x = input(\"Enter a word please: \")\n",
    "x = x.split()\n",
    "y = list(x)\n",
    "longest = 0\n",
    "for i in len(y):\n",
    "    if len(y[z]) > longest :\n",
    "        longest = len(y[z])\n",
    "    z += 1\n",
    "print (\"The length of the longest word is: \",longest)"
   ]
  },
  {
   "cell_type": "code",
   "execution_count": 24,
   "id": "f491cb4c",
   "metadata": {},
   "outputs": [
    {
     "name": "stdout",
     "output_type": "stream",
     "text": [
      "Hello Ahmed\n",
      "Hello Aisha\n",
      "Hello Adam\n",
      "Hello Joseph\n",
      "Hello Gabriel\n"
     ]
    }
   ],
   "source": [
    "n = [\"Ahmed\", \"Aisha\",\"Adam\",\"Joseph\",\"Gabriel\"]\n",
    "\n",
    "for i in n:\n",
    "    print(f\"Hello {i}\")\n",
    "    "
   ]
  },
  {
   "cell_type": "code",
   "execution_count": 30,
   "id": "aa450e08",
   "metadata": {},
   "outputs": [
    {
     "name": "stdout",
     "output_type": "stream",
     "text": [
      "[1, 2, 3, 4, 5]\n"
     ]
    }
   ],
   "source": [
    "a = []\n",
    "for i in range(1,6):\n",
    "    a.append(i)\n",
    "print(a)"
   ]
  },
  {
   "cell_type": "code",
   "execution_count": 60,
   "id": "5f6d471e",
   "metadata": {},
   "outputs": [
    {
     "name": "stdout",
     "output_type": "stream",
     "text": [
      "Enter your word: I love myself\n",
      "I- -l-o-v-e- -m-y-s-e-l-f\n"
     ]
    }
   ],
   "source": [
    "x = input(\"Enter your word: \")\n",
    "z = 0\n",
    "for i in x:\n",
    "    z +=1\n",
    "    if z < len(x):\n",
    "        print(i, end = \"-\")\n",
    "    else:\n",
    "        print(i)"
   ]
  },
  {
   "cell_type": "code",
   "execution_count": 59,
   "id": "845d979f",
   "metadata": {},
   "outputs": [
    {
     "name": "stdout",
     "output_type": "stream",
     "text": [
      "Enter your word: I love myself\n",
      "I- -l-o-v-e- -m-y-s-e-l-f"
     ]
    }
   ],
   "source": [
    "x = input(\"Enter your word: \")\n",
    "z = 0\n",
    "for i in x:\n",
    "    z +=1\n",
    "    if z < len(x):\n",
    "        i = i + \"-\"\n",
    "    print(i, end = \"\")"
   ]
  },
  {
   "cell_type": "code",
   "execution_count": null,
   "id": "a501e1c3",
   "metadata": {},
   "outputs": [],
   "source": []
  }
 ],
 "metadata": {
  "kernelspec": {
   "display_name": "Python 3 (ipykernel)",
   "language": "python",
   "name": "python3"
  },
  "language_info": {
   "codemirror_mode": {
    "name": "ipython",
    "version": 3
   },
   "file_extension": ".py",
   "mimetype": "text/x-python",
   "name": "python",
   "nbconvert_exporter": "python",
   "pygments_lexer": "ipython3",
   "version": "3.9.7"
  }
 },
 "nbformat": 4,
 "nbformat_minor": 5
}
