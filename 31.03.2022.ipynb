{
 "cells": [
  {
   "cell_type": "code",
   "execution_count": null,
   "id": "927a3a02",
   "metadata": {},
   "outputs": [],
   "source": [
    "while True:\n",
    "    no_one = int(input(\"The first number pls: \"))\n",
    "    no_two = int(input(\"The second number pls: \"))\n",
    "    division = no_one / no_two\n",
    "    print(\"result of division is:\", division)\n",
    "    break"
   ]
  },
  {
   "cell_type": "code",
   "execution_count": null,
   "id": "6b372461",
   "metadata": {
    "scrolled": true
   },
   "outputs": [],
   "source": [
    "while True:\n",
    "    no_one = int(input(\"The first number please : \"))\n",
    "    no_two = int(input(\"The second number please : \"))\n",
    "    try:\n",
    "        division = no_one / no_two\n",
    "        print(\"The result of the division is : \", division)\n",
    "        break\n",
    "    except Exception as fırfırik:\n",
    "        print(\"Something went wrong...Try again.\")\n",
    "        print(\"Probably it is because of '{}' error\".format(fırfırik))\n",
    "        break"
   ]
  },
  {
   "cell_type": "code",
   "execution_count": null,
   "id": "478cdd20",
   "metadata": {},
   "outputs": [],
   "source": [
    "while True:\n",
    "    no_one = int(input(\"The first number please : \"))\n",
    "    no_two = int(input(\"The second number please : \"))\n",
    "    try:\n",
    "        division = no_one / no_two  # normal part of the program\n",
    "    except ZeroDivisionError:\n",
    "        print(\"You can't divide by zero! Try again.\")  # executes when division by zero\n",
    "    else:\n",
    "        print(\"The result of the division is : \", division)  # executes if there is no exception\n",
    "    finally:\n",
    "        print(\"Thanks for using our mini divison calculator! Come again!\")\n",
    "        break  # exits the while loop"
   ]
  },
  {
   "cell_type": "code",
   "execution_count": null,
   "id": "b2aaa063",
   "metadata": {},
   "outputs": [],
   "source": [
    "while True:\n",
    "\n",
    "    try:\n",
    "        no_one = int(input(\"The first number please : \"))\n",
    "        no_two = int(input(\"The second number please : \"))        \n",
    "        division = no_one / no_two  # normal part of the program\n",
    "    except ZeroDivisionError:\n",
    "        print(\"You can't divide by zero! Try again.\")  # executes when division by zero\n",
    "    else:\n",
    "        print(\"The result of the division is : \", division)  # executes if there is no exception\n",
    "    finally:\n",
    "        print(\"Thanks for using our mini divison calculator! Come again!\")\n",
    "        break  # exits the while loop"
   ]
  },
  {
   "cell_type": "code",
   "execution_count": null,
   "id": "76b7014d",
   "metadata": {},
   "outputs": [],
   "source": [
    "try:\n",
    "    3 + '3'\n",
    "\n",
    "except ZeroDivisionError:  \n",
    "    print(\"ZeroDivisionError.\")  \n",
    "\n",
    "except NameError:  \n",
    "    print(\"NameError.\")  \n",
    "\n",
    "except (ValueError, TypeError):  \n",
    "    print(\"ValueError, TypeError.\")  \n",
    "\n",
    "except:  \n",
    "    print(\"Error.\")  "
   ]
  },
  {
   "cell_type": "code",
   "execution_count": 3,
   "id": "87b68530",
   "metadata": {},
   "outputs": [
    {
     "name": "stdout",
     "output_type": "stream",
     "text": [
      "You have 3 chances\n",
      "Which is your favorite food enter the number of the fruit: 5\n",
      "Your favorite fruit is: kiwi\n",
      "Thank you for choosing us!\n",
      "Our fruits are always fresh!\n"
     ]
    }
   ],
   "source": [
    "fruits = [\"banana\", \"mango\", \"pear\", \"apple\", \"kiwi\", \"grape\"]\n",
    "count = 3\n",
    "while count > 0:\n",
    "    try:\n",
    "        print(f\"You have {count} chances\")\n",
    "        x = int(input(\"Which is your favorite food enter the number of the fruit: \"))\n",
    "        print(\"Your favorite fruit is:\", fruits[x-1] )\n",
    "    except ValueError:\n",
    "        print(\"Enter the number as a digit.\")\n",
    "        count -= 1\n",
    "    except IndexError:\n",
    "        print(\"Enter the value of the fruit you want.\")\n",
    "        count -= 1\n",
    "    else:\n",
    "        print(\"Thank you for choosing us!\")\n",
    "        break \n",
    "    finally:\n",
    "        print(\"Our fruits are always fresh!\")"
   ]
  },
  {
   "cell_type": "code",
   "execution_count": 10,
   "id": "b38e87d0",
   "metadata": {},
   "outputs": [
    {
     "name": "stdout",
     "output_type": "stream",
     "text": [
      "Enter a sentence or a word: hippo runs to us!\n",
      "h : 1 | i : 1 | p : 2 | p : 2 | o : 2 |   : 3 | r : 1 | u : 2 | n : 1 | s : 2 |   : 3 | t : 1 | o : 2 |   : 3 | u : 2 | s : 2 | ! : 1 |\n"
     ]
    }
   ],
   "source": [
    "x = input(\"Enter a sentence or a word: \")\n",
    "letters = []\n",
    "y = []\n",
    "z = []\n",
    "\n",
    "for i in x:\n",
    "\n",
    "    letters.append(i)\n",
    "\n",
    "#print(letters)\n",
    "\n",
    "for j in letters:\n",
    "\n",
    "    y.append(j)\n",
    "    y.append(\":\")\n",
    "    y.append(str(letters.count(j)))\n",
    "    y.append(\"|\")\n",
    "\n",
    "print(*y)\n",
    "\n",
    "#print(\"\".join(y))"
   ]
  },
  {
   "cell_type": "code",
   "execution_count": 12,
   "id": "b72d4800",
   "metadata": {},
   "outputs": [
    {
     "name": "stdout",
     "output_type": "stream",
     "text": [
      "{'int': 2, 'str': 3, 'bool': 1, 'list': 1, 'tuple': 1, 'dict': 2, 'set': 1}\n"
     ]
    }
   ],
   "source": [
    "veri = [\"a\", \"b\", True, (False, 1), {\"1\" : 2}, [1,2], {\"2\" : \"two\"}, {2, \"3\"}, \"c\", 23, 0]\n",
    "tipler = [\"int\", \"str\", \"bool\", \"list\", \"tuple\", \"dict\", \"set\"]\n",
    "toplam = {}.fromkeys(tipler, 0)\n",
    "\n",
    "for i in range(len(veri)):\n",
    "    if type(veri[i]) == int : toplam[\"int\"] +=1\n",
    "    elif type(veri[i]) == str : toplam[\"str\"] +=1\n",
    "    elif type(veri[i]) == bool : toplam[\"bool\"] +=1\n",
    "    elif type(veri[i]) == list : toplam[\"list\"] +=1\n",
    "    elif type(veri[i]) == tuple : toplam[\"tuple\"] +=1\n",
    "    elif type(veri[i]) == dict : toplam[\"dict\"] +=1\n",
    "    elif type(veri[i]) == set : toplam[\"set\"] +=1\n",
    "print(toplam)"
   ]
  },
  {
   "cell_type": "code",
   "execution_count": null,
   "id": "65c156a3",
   "metadata": {},
   "outputs": [],
   "source": []
  }
 ],
 "metadata": {
  "kernelspec": {
   "display_name": "Python 3 (ipykernel)",
   "language": "python",
   "name": "python3"
  },
  "language_info": {
   "codemirror_mode": {
    "name": "ipython",
    "version": 3
   },
   "file_extension": ".py",
   "mimetype": "text/x-python",
   "name": "python",
   "nbconvert_exporter": "python",
   "pygments_lexer": "ipython3",
   "version": "3.9.7"
  }
 },
 "nbformat": 4,
 "nbformat_minor": 5
}
