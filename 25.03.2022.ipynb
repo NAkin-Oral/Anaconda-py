{
 "cells": [
  {
   "cell_type": "code",
   "execution_count": 1,
   "id": "3c544c34",
   "metadata": {},
   "outputs": [
    {
     "name": "stdout",
     "output_type": "stream",
     "text": [
      "3\n",
      "12\n",
      "20\n"
     ]
    }
   ],
   "source": [
    "def sum_double(x, y):\n",
    "    if x == y:\n",
    "        return ((x + y) * 2)\n",
    "    else:\n",
    "        return(x + y)\n",
    "print(sum_double(1, 2))\n",
    "print(sum_double(5, 7))\n",
    "print(sum_double(5, 5))"
   ]
  },
  {
   "cell_type": "code",
   "execution_count": 3,
   "id": "4276e9a3",
   "metadata": {},
   "outputs": [
    {
     "name": "stdout",
     "output_type": "stream",
     "text": [
      "True\n",
      "False\n",
      "False\n"
     ]
    }
   ],
   "source": [
    "def parrot_trouble(talking, hour):\n",
    "    if ((hour > 21) or (hour < 6)) and (talking == True):\n",
    "        return True\n",
    "    else:\n",
    "        return False\n",
    "print(parrot_trouble(True, 5))\n",
    "print(parrot_trouble(True, 8))\n",
    "print(parrot_trouble(False, 22))"
   ]
  },
  {
   "cell_type": "code",
   "execution_count": 10,
   "id": "555abb16",
   "metadata": {},
   "outputs": [
    {
     "name": "stdout",
     "output_type": "stream",
     "text": [
      "ktchen\n"
     ]
    }
   ],
   "source": [
    "def missing_char(word, n):\n",
    "    x = list(word)\n",
    "    x.remove(x[n])\n",
    "    word = (\"\".join(x))\n",
    "    return (word)\n",
    "print(missing_char('kitchen', 1))"
   ]
  },
  {
   "cell_type": "code",
   "execution_count": 44,
   "id": "62271b7b",
   "metadata": {},
   "outputs": [
    {
     "name": "stdout",
     "output_type": "stream",
     "text": [
      "ylaruswac\n",
      "a\n",
      "ba\n"
     ]
    }
   ],
   "source": [
    "def front_back(word):\n",
    "    if len(word) > 1: \n",
    "        z = []\n",
    "        x = list(word)\n",
    "        y = x[::-1]\n",
    "        x.remove(x[0])\n",
    "        x.remove(x[-1])\n",
    "        z.append(y[0])\n",
    "        for i in range(len(x)):\n",
    "            z.append(x[i])\n",
    "        z.append(y[-1])\n",
    "        word = (\"\".join(z))\n",
    "    return word\n",
    "print(front_back('clarusway'))\n",
    "print(front_back('a'))\n",
    "print(front_back('ab'))"
   ]
  },
  {
   "cell_type": "code",
   "execution_count": null,
   "id": "73f8d992",
   "metadata": {},
   "outputs": [],
   "source": []
  }
 ],
 "metadata": {
  "kernelspec": {
   "display_name": "Python 3 (ipykernel)",
   "language": "python",
   "name": "python3"
  },
  "language_info": {
   "codemirror_mode": {
    "name": "ipython",
    "version": 3
   },
   "file_extension": ".py",
   "mimetype": "text/x-python",
   "name": "python",
   "nbconvert_exporter": "python",
   "pygments_lexer": "ipython3",
   "version": "3.9.7"
  }
 },
 "nbformat": 4,
 "nbformat_minor": 5
}
